{
 "cells": [
  {
   "cell_type": "markdown",
   "metadata": {},
   "source": [
    "# Basic EDA of Datasets"
   ]
  },
  {
   "cell_type": "code",
   "execution_count": 1,
   "metadata": {},
   "outputs": [],
   "source": [
    "import pandas as pd\n",
    "import numpy as np\n",
    "import matplotlib.pyplot as plt\n",
    "%matplotlib inline"
   ]
  },
  {
   "cell_type": "code",
   "execution_count": 2,
   "metadata": {},
   "outputs": [
    {
     "name": "stdout",
     "output_type": "stream",
     "text": [
      "The autoreload extension is already loaded. To reload it, use:\n",
      "  %reload_ext autoreload\n"
     ]
    }
   ],
   "source": [
    "# For NLP vectorizing\n",
    "from sklearn.feature_extraction.text import TfidfVectorizer, CountVectorizer\n",
    "\n",
    "from wordcloud import WordCloud, STOPWORDS\n",
    "from src.helpers import *\n",
    "%load_ext autoreload\n",
    "%autoreload 2"
   ]
  },
  {
   "cell_type": "code",
   "execution_count": 3,
   "metadata": {},
   "outputs": [],
   "source": [
    "from sklearn.model_selection import train_test_split\n",
    "import pickle\n",
    "\n",
    "from sklearn.ensemble import RandomForestClassifier\n",
    "from sklearn.tree import DecisionTreeClassifier\n",
    "from sklearn.model_selection import GridSearchCV\n",
    "from sklearn.metrics import recall_score, precision_score, log_loss, accuracy_score, roc_auc_score\n",
    "from sklearn.ensemble import GradientBoostingClassifier, AdaBoostClassifier\n",
    "from sklearn.naive_bayes import MultinomialNB\n",
    "\n",
    "import statsmodels.api as sm\n",
    "from scipy.stats import norm, t\n",
    "from sklearn.metrics import mean_squared_error, r2_score, confusion_matrix\n",
    "from sklearn.linear_model import LinearRegression, LogisticRegression, PassiveAggressiveClassifier, LogisticRegressionCV\n",
    "from sklearn.model_selection import KFold\n",
    "from sklearn.model_selection import cross_val_score, cross_validate\n",
    "from sklearn.inspection import plot_partial_dependence"
   ]
  },
  {
   "cell_type": "markdown",
   "metadata": {},
   "source": [
    "### Kaggle data is labeled by Politifact.com "
   ]
  },
  {
   "cell_type": "code",
   "execution_count": 5,
   "metadata": {},
   "outputs": [],
   "source": [
    "# import kaggle data\n",
    "kaggle_real = pd.read_csv('data/kaggle_news/True.csv')\n",
    "kaggle_fake = pd.read_csv('data/kaggle_news/Fake.csv')"
   ]
  },
  {
   "cell_type": "code",
   "execution_count": 6,
   "metadata": {},
   "outputs": [],
   "source": [
    "# label real news as 1 and fake news as 0\n",
    "\n",
    "kaggle_real['label'] = 1\n",
    "kaggle_fake['label'] = 0"
   ]
  },
  {
   "cell_type": "code",
   "execution_count": 7,
   "metadata": {},
   "outputs": [],
   "source": [
    "# extra labeled data from outside source data-flair.training (unknown data source)\n",
    "extra = pd.read_csv('data/extra_news.csv')"
   ]
  },
  {
   "cell_type": "code",
   "execution_count": 8,
   "metadata": {},
   "outputs": [
    {
     "data": {
      "text/plain": [
       "(23481, 5)"
      ]
     },
     "execution_count": 8,
     "metadata": {},
     "output_type": "execute_result"
    }
   ],
   "source": [
    "kaggle_fake.shape"
   ]
  },
  {
   "cell_type": "code",
   "execution_count": 9,
   "metadata": {},
   "outputs": [
    {
     "data": {
      "text/plain": [
       "(21417, 5)"
      ]
     },
     "execution_count": 9,
     "metadata": {},
     "output_type": "execute_result"
    }
   ],
   "source": [
    "kaggle_real.shape"
   ]
  },
  {
   "cell_type": "code",
   "execution_count": 10,
   "metadata": {},
   "outputs": [],
   "source": [
    "# merging real and fake data into one dataset\n",
    "news = pd.concat([kaggle_fake, kaggle_real]).reset_index(drop = True)"
   ]
  },
  {
   "cell_type": "code",
   "execution_count": 11,
   "metadata": {},
   "outputs": [
    {
     "data": {
      "text/html": [
       "<div>\n",
       "<style scoped>\n",
       "    .dataframe tbody tr th:only-of-type {\n",
       "        vertical-align: middle;\n",
       "    }\n",
       "\n",
       "    .dataframe tbody tr th {\n",
       "        vertical-align: top;\n",
       "    }\n",
       "\n",
       "    .dataframe thead th {\n",
       "        text-align: right;\n",
       "    }\n",
       "</style>\n",
       "<table border=\"1\" class=\"dataframe\">\n",
       "  <thead>\n",
       "    <tr style=\"text-align: right;\">\n",
       "      <th></th>\n",
       "      <th>title</th>\n",
       "      <th>text</th>\n",
       "      <th>subject</th>\n",
       "      <th>date</th>\n",
       "      <th>label</th>\n",
       "    </tr>\n",
       "  </thead>\n",
       "  <tbody>\n",
       "    <tr>\n",
       "      <th>0</th>\n",
       "      <td>Donald Trump Sends Out Embarrassing New Year’...</td>\n",
       "      <td>Donald Trump just couldn t wish all Americans ...</td>\n",
       "      <td>News</td>\n",
       "      <td>December 31, 2017</td>\n",
       "      <td>0</td>\n",
       "    </tr>\n",
       "    <tr>\n",
       "      <th>1</th>\n",
       "      <td>Drunk Bragging Trump Staffer Started Russian ...</td>\n",
       "      <td>House Intelligence Committee Chairman Devin Nu...</td>\n",
       "      <td>News</td>\n",
       "      <td>December 31, 2017</td>\n",
       "      <td>0</td>\n",
       "    </tr>\n",
       "    <tr>\n",
       "      <th>2</th>\n",
       "      <td>Sheriff David Clarke Becomes An Internet Joke...</td>\n",
       "      <td>On Friday, it was revealed that former Milwauk...</td>\n",
       "      <td>News</td>\n",
       "      <td>December 30, 2017</td>\n",
       "      <td>0</td>\n",
       "    </tr>\n",
       "    <tr>\n",
       "      <th>3</th>\n",
       "      <td>Trump Is So Obsessed He Even Has Obama’s Name...</td>\n",
       "      <td>On Christmas day, Donald Trump announced that ...</td>\n",
       "      <td>News</td>\n",
       "      <td>December 29, 2017</td>\n",
       "      <td>0</td>\n",
       "    </tr>\n",
       "    <tr>\n",
       "      <th>4</th>\n",
       "      <td>Pope Francis Just Called Out Donald Trump Dur...</td>\n",
       "      <td>Pope Francis used his annual Christmas Day mes...</td>\n",
       "      <td>News</td>\n",
       "      <td>December 25, 2017</td>\n",
       "      <td>0</td>\n",
       "    </tr>\n",
       "  </tbody>\n",
       "</table>\n",
       "</div>"
      ],
      "text/plain": [
       "                                               title  \\\n",
       "0   Donald Trump Sends Out Embarrassing New Year’...   \n",
       "1   Drunk Bragging Trump Staffer Started Russian ...   \n",
       "2   Sheriff David Clarke Becomes An Internet Joke...   \n",
       "3   Trump Is So Obsessed He Even Has Obama’s Name...   \n",
       "4   Pope Francis Just Called Out Donald Trump Dur...   \n",
       "\n",
       "                                                text subject  \\\n",
       "0  Donald Trump just couldn t wish all Americans ...    News   \n",
       "1  House Intelligence Committee Chairman Devin Nu...    News   \n",
       "2  On Friday, it was revealed that former Milwauk...    News   \n",
       "3  On Christmas day, Donald Trump announced that ...    News   \n",
       "4  Pope Francis used his annual Christmas Day mes...    News   \n",
       "\n",
       "                date  label  \n",
       "0  December 31, 2017      0  \n",
       "1  December 31, 2017      0  \n",
       "2  December 30, 2017      0  \n",
       "3  December 29, 2017      0  \n",
       "4  December 25, 2017      0  "
      ]
     },
     "execution_count": 11,
     "metadata": {},
     "output_type": "execute_result"
    }
   ],
   "source": [
    "news.head()"
   ]
  },
  {
   "cell_type": "code",
   "execution_count": 12,
   "metadata": {},
   "outputs": [],
   "source": [
    "news['char_count'] = news.text.apply(lambda x: len(x))"
   ]
  },
  {
   "cell_type": "code",
   "execution_count": 13,
   "metadata": {},
   "outputs": [],
   "source": [
    "news['word_count'] = news.text.apply(lambda x: len(x.split()))"
   ]
  },
  {
   "cell_type": "code",
   "execution_count": 14,
   "metadata": {},
   "outputs": [
    {
     "data": {
      "text/plain": [
       "2469.1096930820972"
      ]
     },
     "execution_count": 14,
     "metadata": {},
     "output_type": "execute_result"
    }
   ],
   "source": [
    "news.char_count.mean()"
   ]
  },
  {
   "cell_type": "code",
   "execution_count": 15,
   "metadata": {},
   "outputs": [
    {
     "data": {
      "text/plain": [
       "385.6400989867862"
      ]
     },
     "execution_count": 15,
     "metadata": {},
     "output_type": "execute_result"
    }
   ],
   "source": [
    "# average length of real articles\n",
    "news[news.label == 1]['word_count'].mean()"
   ]
  },
  {
   "cell_type": "code",
   "execution_count": 16,
   "metadata": {},
   "outputs": [
    {
     "data": {
      "text/plain": [
       "423.1979046888974"
      ]
     },
     "execution_count": 16,
     "metadata": {},
     "output_type": "execute_result"
    }
   ],
   "source": [
    "# average length of fake articles\n",
    "news[news.label == 0]['word_count'].mean()"
   ]
  },
  {
   "cell_type": "code",
   "execution_count": 17,
   "metadata": {},
   "outputs": [
    {
     "data": {
      "text/plain": [
       "0    23481\n",
       "1    21417\n",
       "Name: label, dtype: int64"
      ]
     },
     "execution_count": 17,
     "metadata": {},
     "output_type": "execute_result"
    }
   ],
   "source": [
    "# visualize class balance\n",
    "\n",
    "balance = news.label.value_counts()\n",
    "balance"
   ]
  },
  {
   "cell_type": "code",
   "execution_count": 18,
   "metadata": {},
   "outputs": [
    {
     "data": {
      "text/plain": [
       "<BarContainer object of 2 artists>"
      ]
     },
     "execution_count": 18,
     "metadata": {},
     "output_type": "execute_result"
    },
    {
     "data": {
      "image/png": "[encoded data removed]",
      "text/plain": [
       "<Figure size 432x288 with 1 Axes>"
      ]
     },
     "metadata": {
      "needs_background": "light"
     },
     "output_type": "display_data"
    }
   ],
   "source": [
    "# notice similar class balance\n",
    "\n",
    "plt.bar(balance.index, balance.values, tick_label = ['False', 'True'])"
   ]
  },
  {
   "cell_type": "code",
   "execution_count": 19,
   "metadata": {},
   "outputs": [
    {
     "data": {
      "text/plain": [
       "News               9050\n",
       "politics           6841\n",
       "left-news          4459\n",
       "Government News    1570\n",
       "US_News             783\n",
       "Middle-east         778\n",
       "Name: subject, dtype: int64"
      ]
     },
     "execution_count": 19,
     "metadata": {},
     "output_type": "execute_result"
    }
   ],
   "source": [
    "subjects_real = news[news['label'] == 0]['subject'].value_counts()\n",
    "subjects_fake = news[news['label'] == 0]['subject'].value_counts()\n",
    "subjects_real"
   ]
  },
  {
   "cell_type": "code",
   "execution_count": 20,
   "metadata": {},
   "outputs": [
    {
     "data": {
      "image/png": "[encoded data removed]",
      "text/plain": [
       "<Figure size 720x432 with 1 Axes>"
      ]
     },
     "metadata": {
      "needs_background": "light"
     },
     "output_type": "display_data"
    }
   ],
   "source": [
    "fig, ax = plt.subplots(1, figsize = (10, 6))\n",
    "\n",
    "labels = subjects_real.index\n",
    "x = np.arange(len(labels))\n",
    "width = 0.35\n",
    "\n",
    "ax.bar(x - width/2, subjects_real.values, width, label = 'Real', color = 'r')\n",
    "ax.bar(x + width/2, subjects_fake.values, width, label = 'Fake', color = 'b')\n",
    "\n",
    "ax.set_xticks(x)\n",
    "ax.set_xticklabels(labels)\n",
    "\n",
    "plt.title('Fake and Real News Breakdown by Subject')\n",
    "plt.ylabel('Number of Articles')\n",
    "plt.xlabel('Subject')\n",
    "plt.rc('xtick', labelsize=13) \n",
    "plt.xticks(rotation =45)\n",
    "plt.rc('ytick', labelsize=17) \n",
    "plt.rc('axes', titlesize=20)\n",
    "plt.rc('axes', labelsize = 17)\n",
    "plt.legend()\n",
    "plt.tight_layout()\n",
    "# plt.savefig('images/subject_breakdown.jpg')"
   ]
  },
  {
   "cell_type": "markdown",
   "metadata": {},
   "source": [
    "# Creating NLP Vectors"
   ]
  },
  {
   "cell_type": "code",
   "execution_count": 21,
   "metadata": {},
   "outputs": [],
   "source": [
    "# splitting the data\n",
    "\n",
    "#split data into target and features, stratify to maintain class balance\n",
    "y = news['label']\n",
    "X = news['text']\n",
    "\n",
    "X_train, X_test, y_train, y_test = train_test_split(X, y, test_size=0.2, random_state=42, stratify=y)\n"
   ]
  },
  {
   "cell_type": "code",
   "execution_count": 16,
   "metadata": {},
   "outputs": [
    {
     "data": {
      "text/plain": [
       "(35918,)"
      ]
     },
     "execution_count": 16,
     "metadata": {},
     "output_type": "execute_result"
    }
   ],
   "source": [
    "y_train.shape"
   ]
  },
  {
   "cell_type": "code",
   "execution_count": 17,
   "metadata": {},
   "outputs": [
    {
     "data": {
      "text/plain": [
       "(35918,)"
      ]
     },
     "execution_count": 17,
     "metadata": {},
     "output_type": "execute_result"
    }
   ],
   "source": [
    "X_train.shape"
   ]
  },
  {
   "cell_type": "code",
   "execution_count": 18,
   "metadata": {},
   "outputs": [],
   "source": [
    "# # Validation Split  (Using cross validation instead)\n",
    "\n",
    "# X_valtrain, X_valtest, y_valtrain, y_valtest = train_test_split(X_train, y_train, test_size=0.2, random_state=1, stratify=y_train)\n"
   ]
  },
  {
   "cell_type": "code",
   "execution_count": 19,
   "metadata": {},
   "outputs": [
    {
     "data": {
      "text/plain": [
       "'hello i be a test article that demonstrate how the text preprocessor work it be a lovely sunny day outside with green tree and many color bird'"
      ]
     },
     "execution_count": 19,
     "metadata": {},
     "output_type": "execute_result"
    }
   ],
   "source": [
    "# Demonstrating Preprocessor\n",
    "\n",
    "doc = 'Hello!!! I am a TEST arTicle       *** ^^ that demonstrates how the text preprocessor works. It is a lovely, sunny day outside with green trees and many colored birds.'\n",
    "\n",
    "preprocessor(doc)"
   ]
  },
  {
   "cell_type": "code",
   "execution_count": 20,
   "metadata": {},
   "outputs": [],
   "source": [
    "# count vectorizer with bigrams and trigrams, top 100,000 most frequent tokens\n",
    "cv = CountVectorizer(preprocessor=preprocessor, stop_words=stopwords_list(), ngram_range=(1, 3), max_features=100000)\n",
    "cv_train_model = cv.fit(X_train)"
   ]
  },
  {
   "cell_type": "code",
   "execution_count": 21,
   "metadata": {},
   "outputs": [],
   "source": [
    "# transform data to get counts of words\n",
    "cv_X_train = cv_train_model.transform(X_train)\n",
    "features = cv.get_feature_names()\n",
    "word_count_df = pd.DataFrame(cv_X_train.toarray(), columns=features)"
   ]
  },
  {
   "cell_type": "code",
   "execution_count": 22,
   "metadata": {},
   "outputs": [
    {
     "data": {
      "text/plain": [
       "(35918, 100000)"
      ]
     },
     "execution_count": 22,
     "metadata": {},
     "output_type": "execute_result"
    }
   ],
   "source": [
    "word_count_df.shape"
   ]
  },
  {
   "cell_type": "code",
   "execution_count": 23,
   "metadata": {},
   "outputs": [],
   "source": [
    "# alternate method\n",
    "cv_X_train_df = cv_X_train.todense()\n",
    "columns = sorted(cv_train_model.vocabulary_, key=lambda k: cv_train_model.vocabulary_[k])\n",
    "cv_X_train_df = pd.DataFrame(cv_X_train_df, columns=columns);"
   ]
  },
  {
   "cell_type": "code",
   "execution_count": 24,
   "metadata": {},
   "outputs": [
    {
     "data": {
      "text/plain": [
       "(35918, 100000)"
      ]
     },
     "execution_count": 24,
     "metadata": {},
     "output_type": "execute_result"
    }
   ],
   "source": [
    "cv_X_train_df.shape"
   ]
  },
  {
   "cell_type": "code",
   "execution_count": 25,
   "metadata": {},
   "outputs": [
    {
     "data": {
      "text/plain": [
       "say           90735\n",
       "trump         44092\n",
       "state         29938\n",
       "would         25190\n",
       "reuters       23148\n",
       "president     22907\n",
       "year          17829\n",
       "republican    17656\n",
       "government    15974\n",
       "house         13781\n",
       "dtype: int64"
      ]
     },
     "execution_count": 25,
     "metadata": {},
     "output_type": "execute_result"
    }
   ],
   "source": [
    "# top 20 highest count of words for real news\n",
    "\n",
    "np.sum(cv_X_train_df[np.array(y_train)==1], axis=0).sort_values(ascending=False)[:10]"
   ]
  },
  {
   "cell_type": "code",
   "execution_count": 26,
   "metadata": {},
   "outputs": [],
   "source": [
    "# Term frequency-Inverse document frequency vectorizer with bigrams and trigrams, top 100,000 highest weighted tokens\n",
    "tfidf = TfidfVectorizer(preprocessor=preprocessor, stop_words=stopwords_list(), ngram_range=(1, 3), max_features=100000)\n",
    "tfidf_train_model = tfidf.fit(X_train)\n"
   ]
  },
  {
   "cell_type": "code",
   "execution_count": 27,
   "metadata": {},
   "outputs": [],
   "source": [
    "# # save the training model\n",
    "# with open('tfidf_train_model.pkl', 'wb') as f:\n",
    "#     pickle.dump(tfidf_train_model, f)"
   ]
  },
  {
   "cell_type": "code",
   "execution_count": 28,
   "metadata": {},
   "outputs": [
    {
     "data": {
      "text/plain": [
       "[('zurich reuters', 99999),\n",
       " ('zurich', 99998),\n",
       " ('zuma say', 99997),\n",
       " ('zuma guptas deny', 99996),\n",
       " ('zuma guptas', 99995),\n",
       " ('zuma former', 99994),\n",
       " ('zuma', 99993),\n",
       " ('zulia state', 99992),\n",
       " ('zulia', 99991),\n",
       " ('zuckerberg say', 99990),\n",
       " ('zuckerberg', 99989),\n",
       " ('zucker', 99988),\n",
       " ('zor province', 99987),\n",
       " ('zor city', 99986),\n",
       " ('zor', 99985),\n",
       " ('zoomph', 99984),\n",
       " ('zoo', 99983),\n",
       " ('zones', 99982),\n",
       " ('zone would', 99981),\n",
       " ('zone syria', 99980)]"
      ]
     },
     "execution_count": 28,
     "metadata": {},
     "output_type": "execute_result"
    }
   ],
   "source": [
    "# vocabulary\n",
    "sorted(tfidf_train_model.vocabulary_.items(), key=lambda x: x[1], reverse=True)[:20]\n"
   ]
  },
  {
   "cell_type": "code",
   "execution_count": 29,
   "metadata": {},
   "outputs": [],
   "source": [
    "# transform the data using the tfidf vectorizer\n",
    "tfidf_X_train = tfidf_train_model.transform(X_train)"
   ]
  },
  {
   "cell_type": "code",
   "execution_count": 30,
   "metadata": {},
   "outputs": [],
   "source": [
    "# tfidf dataframe\n",
    "tfidf_X_train_df = tfidf_X_train.todense()\n",
    "columns = sorted(tfidf_train_model.vocabulary_, key=lambda k: tfidf_train_model.vocabulary_[k])\n",
    "tfidf_X_train_df = pd.DataFrame(tfidf_X_train_df, columns=columns);"
   ]
  },
  {
   "cell_type": "code",
   "execution_count": 31,
   "metadata": {},
   "outputs": [
    {
     "data": {
      "text/plain": [
       "say           841.355465\n",
       "trump         541.067084\n",
       "state         381.744631\n",
       "reuters       380.831829\n",
       "president     312.431183\n",
       "would         305.316186\n",
       "republican    278.449815\n",
       "government    266.650643\n",
       "house         248.166914\n",
       "year          235.860570\n",
       "dtype: float64"
      ]
     },
     "execution_count": 31,
     "metadata": {},
     "output_type": "execute_result"
    }
   ],
   "source": [
    "# top 20 scoring words for real news\n",
    "\n",
    "np.sum(tfidf_X_train_df[np.array(y_train)==1], axis=0).sort_values(ascending=False)[:10]\n"
   ]
  },
  {
   "cell_type": "code",
   "execution_count": 32,
   "metadata": {},
   "outputs": [
    {
     "data": {
      "text/plain": [
       "trump        868.697439\n",
       "say          370.175866\n",
       "clinton      328.577763\n",
       "people       302.729280\n",
       "go           295.208577\n",
       "obama        288.840402\n",
       "president    286.673302\n",
       "get          276.370834\n",
       "hillary      270.167593\n",
       "one          265.191800\n",
       "dtype: float64"
      ]
     },
     "execution_count": 32,
     "metadata": {},
     "output_type": "execute_result"
    }
   ],
   "source": [
    "# top 20 scoring words for fake news\n",
    "\n",
    "np.sum(tfidf_X_train_df[np.array(y_train)==0], axis=0).sort_values(ascending=False)[:10]\n"
   ]
  },
  {
   "cell_type": "code",
   "execution_count": 33,
   "metadata": {},
   "outputs": [],
   "source": [
    "# # For final model\n",
    "\n",
    "# tfidf = TfidfVectorizer(preprocessor=preprocessor, stop_words=stopwords_list())\n",
    "# tfidf_model = tfidf.fit(X)\n",
    "# tfidf_X = tfidf_train_model.transform(X)\n",
    "\n",
    "# X_df = pd.DataFrame(vectorized_X.toarray())\n",
    "# X_df.shape"
   ]
  },
  {
   "cell_type": "code",
   "execution_count": null,
   "metadata": {},
   "outputs": [],
   "source": []
  },
  {
   "cell_type": "code",
   "execution_count": 34,
   "metadata": {},
   "outputs": [],
   "source": [
    "# # reload training model\n",
    "\n",
    "# with open('cv_train_model.pkl', 'rb') as f:\n",
    "#     cv_model = pickle.load(f)"
   ]
  },
  {
   "cell_type": "markdown",
   "metadata": {},
   "source": [
    "# Testing Classification Models"
   ]
  },
  {
   "cell_type": "code",
   "execution_count": 35,
   "metadata": {},
   "outputs": [
    {
     "data": {
      "text/plain": [
       "{'fit_time': 2.194135808944702,\n",
       " 'score_time': 0.014825677871704102,\n",
       " 'test_accuracy': 0.9872208400371205,\n",
       " 'test_precision': 0.9848232932908239,\n",
       " 'test_recall': 0.9884432558929458}"
      ]
     },
     "execution_count": 35,
     "metadata": {},
     "output_type": "execute_result"
    }
   ],
   "source": [
    "# Logistic Regression 5 folds\n",
    "\n",
    "log_cross = cross_validate(LogisticRegression(max_iter = 400, random_state = 42), tfidf_X_train, y_train, scoring = ['accuracy', 'precision', 'recall'], n_jobs = -1)\n",
    "log_cross.update((x, y.mean()) for x, y in log_cross.items())\n",
    "log_cross"
   ]
  },
  {
   "cell_type": "code",
   "execution_count": 36,
   "metadata": {},
   "outputs": [
    {
     "name": "stdout",
     "output_type": "stream",
     "text": [
      "0.9880839690405925\n"
     ]
    }
   ],
   "source": [
    "# Random Forest Classifier using trial and error parameters, rather than waiting for grid search\n",
    "\n",
    "rfc = RandomForestClassifier(criterion='gini', max_depth = 200, n_estimators = 50, max_features = 'auto', oob_score = True, random_state=42).fit(tfidf_X_train, y_train)\n",
    "print(rfc.oob_score_)"
   ]
  },
  {
   "cell_type": "code",
   "execution_count": 37,
   "metadata": {},
   "outputs": [],
   "source": [
    "feat_scores = pd.DataFrame({'Top 10 Important Features':rfc.feature_importances_}, index = columns)\n",
    "#feat_scores.sort_values(by = 'Fraction of Samples Affected').plot(kind='barh');"
   ]
  },
  {
   "cell_type": "code",
   "execution_count": 38,
   "metadata": {},
   "outputs": [
    {
     "data": {
      "image/png": "[encoded data removed]",
      "text/plain": [
       "<Figure size 432x288 with 1 Axes>"
      ]
     },
     "metadata": {
      "needs_background": "light"
     },
     "output_type": "display_data"
    }
   ],
   "source": [
    "feat_scores.sort_values(by = 'Top 10 Important Features', ascending=False)[:10].plot(kind='bar');"
   ]
  },
  {
   "cell_type": "markdown",
   "metadata": {},
   "source": [
    "### 'Reuters' giving off too much signal! It is a news service so lets find the distribution comparing its appearance in real and fake news."
   ]
  },
  {
   "cell_type": "code",
   "execution_count": 39,
   "metadata": {},
   "outputs": [
    {
     "data": {
      "text/plain": [
       "23478"
      ]
     },
     "execution_count": 39,
     "metadata": {},
     "output_type": "execute_result"
    }
   ],
   "source": [
    "cv_X_train_df.sum(axis=0).loc['reuters']"
   ]
  },
  {
   "cell_type": "code",
   "execution_count": 40,
   "metadata": {},
   "outputs": [
    {
     "data": {
      "text/plain": [
       "330"
      ]
     },
     "execution_count": 40,
     "metadata": {},
     "output_type": "execute_result"
    }
   ],
   "source": [
    "reuters_fake_count = np.sum(cv_X_train_df[np.array(y_train)==0], axis=0).loc['reuters']\n",
    "reuters_fake_count"
   ]
  },
  {
   "cell_type": "code",
   "execution_count": 41,
   "metadata": {},
   "outputs": [
    {
     "data": {
      "text/plain": [
       "23148"
      ]
     },
     "execution_count": 41,
     "metadata": {},
     "output_type": "execute_result"
    }
   ],
   "source": [
    "reuters_real_count = np.sum(cv_X_train_df[np.array(y_train)==1], axis=0).loc['reuters']\n",
    "reuters_real_count"
   ]
  },
  {
   "cell_type": "code",
   "execution_count": 42,
   "metadata": {},
   "outputs": [
    {
     "data": {
      "text/plain": [
       "0.9859442882698697"
      ]
     },
     "execution_count": 42,
     "metadata": {},
     "output_type": "execute_result"
    }
   ],
   "source": [
    "reuters_real_count / (reuters_real_count + reuters_fake_count)"
   ]
  },
  {
   "cell_type": "code",
   "execution_count": 43,
   "metadata": {},
   "outputs": [
    {
     "data": {
      "text/plain": [
       "0.014055711730130335"
      ]
     },
     "execution_count": 43,
     "metadata": {},
     "output_type": "execute_result"
    }
   ],
   "source": [
    "reuters_fake_count / (reuters_real_count + reuters_fake_count)"
   ]
  },
  {
   "cell_type": "markdown",
   "metadata": {},
   "source": [
    "99% of the real data has 'reuters' in it and 1% of the fake data has 'reuters' in it"
   ]
  },
  {
   "cell_type": "code",
   "execution_count": 44,
   "metadata": {},
   "outputs": [
    {
     "data": {
      "text/plain": [
       "11090"
      ]
     },
     "execution_count": 44,
     "metadata": {},
     "output_type": "execute_result"
    }
   ],
   "source": [
    "image_fake_count = np.sum(cv_X_train_df[np.array(y_train)==0], axis=0).loc['image']\n",
    "image_fake_count"
   ]
  },
  {
   "cell_type": "code",
   "execution_count": 45,
   "metadata": {},
   "outputs": [
    {
     "data": {
      "text/plain": [
       "467"
      ]
     },
     "execution_count": 45,
     "metadata": {},
     "output_type": "execute_result"
    }
   ],
   "source": [
    "image_real_count = np.sum(cv_X_train_df[np.array(y_train)==1], axis=0).loc['image']\n",
    "image_real_count"
   ]
  },
  {
   "cell_type": "code",
   "execution_count": 46,
   "metadata": {},
   "outputs": [
    {
     "data": {
      "text/plain": [
       "90735"
      ]
     },
     "execution_count": 46,
     "metadata": {},
     "output_type": "execute_result"
    }
   ],
   "source": [
    "say_real_count = np.sum(cv_X_train_df[np.array(y_train)==1], axis=0).loc['say']\n",
    "say_real_count"
   ]
  },
  {
   "cell_type": "code",
   "execution_count": 47,
   "metadata": {},
   "outputs": [
    {
     "data": {
      "text/plain": [
       "39135"
      ]
     },
     "execution_count": 47,
     "metadata": {},
     "output_type": "execute_result"
    }
   ],
   "source": [
    "say_fake_count = np.sum(cv_X_train_df[np.array(y_train)==0], axis=0).loc['say']\n",
    "say_fake_count"
   ]
  },
  {
   "cell_type": "code",
   "execution_count": 48,
   "metadata": {},
   "outputs": [
    {
     "data": {
      "text/plain": [
       "{'fit_time': 27.829764795303344,\n",
       " 'score_time': 0.7977253437042237,\n",
       " 'test_accuracy': 0.9915362599828164,\n",
       " 'test_precision': 0.9899851322645356,\n",
       " 'test_recall': 0.9922954982504752}"
      ]
     },
     "execution_count": 48,
     "metadata": {},
     "output_type": "execute_result"
    }
   ],
   "source": [
    "# random forest classifier 5 folds\n",
    "\n",
    "rfc_cross = cross_validate(RandomForestClassifier(criterion='gini', max_depth = 200, n_estimators = 50, max_features = 'auto', oob_score = True, random_state=42),\n",
    "                                                    tfidf_X_train, y_train, scoring = ['accuracy', 'precision', 'recall'],cv=5, n_jobs=-1)\n",
    "rfc_cross.update((x, y.mean()) for x, y in rfc_cross.items())\n",
    "rfc_cross"
   ]
  },
  {
   "cell_type": "code",
   "execution_count": 49,
   "metadata": {},
   "outputs": [
    {
     "data": {
      "text/plain": [
       "{'fit_time': 257.63558464050294,\n",
       " 'score_time': 0.07884726524353028,\n",
       " 'test_accuracy': 0.9954340155098945,\n",
       " 'test_precision': 0.9937220930059683,\n",
       " 'test_recall': 0.9967314436318435}"
      ]
     },
     "execution_count": 49,
     "metadata": {},
     "output_type": "execute_result"
    }
   ],
   "source": [
    "# gradient boosted Classifier 5 folds\n",
    "\n",
    "gradient_cross = cross_validate(GradientBoostingClassifier(random_state = 42), tfidf_X_train, y_train, scoring = ['accuracy', 'precision', 'recall'],cv=5, n_jobs=-1)\n",
    "gradient_cross.update((x, y.mean()) for x, y in gradient_cross.items())\n",
    "gradient_cross"
   ]
  },
  {
   "cell_type": "code",
   "execution_count": 50,
   "metadata": {},
   "outputs": [
    {
     "data": {
      "text/plain": [
       "{'fit_time': 0.11124873161315918,\n",
       " 'score_time': 0.019825029373168945,\n",
       " 'test_accuracy': 0.9622194757666813,\n",
       " 'test_precision': 0.961778480234908,\n",
       " 'test_recall': 0.9589097498641926}"
      ]
     },
     "execution_count": 50,
     "metadata": {},
     "output_type": "execute_result"
    }
   ],
   "source": [
    "# Naive Bayes Classifier 5 Folds\n",
    "\n",
    "nb_cross = cross_validate(MultinomialNB(alpha=0.1), tfidf_X_train, y_train, scoring = ['accuracy', 'precision', 'recall'],cv=5, n_jobs=-1)\n",
    "nb_cross.update((x, y.mean()) for x, y in nb_cross.items())\n",
    "nb_cross"
   ]
  },
  {
   "cell_type": "code",
   "execution_count": null,
   "metadata": {},
   "outputs": [],
   "source": []
  },
  {
   "cell_type": "markdown",
   "metadata": {},
   "source": [
    "## Removing Certain Features and Retraining the vectors"
   ]
  },
  {
   "cell_type": "code",
   "execution_count": 19,
   "metadata": {},
   "outputs": [],
   "source": [
    "# Term frequency-Inverse document frequency vectorizer with bigrams and trigrams, top 100,000 highest weighted tokens\n",
    "tfidf2 = TfidfVectorizer(preprocessor=preprocessor, stop_words=stopwords_list() + ['reuters'], ngram_range=(1, 3), max_features=10000)\n",
    "tfidf_X_train_2 = tfidf2.fit_transform(X_train)\n"
   ]
  },
  {
   "cell_type": "code",
   "execution_count": 55,
   "metadata": {},
   "outputs": [],
   "source": [
    "# # save the training model\n",
    "# with open('../tfidf_train_model.pkl', 'wb') as f:\n",
    "#     pickle.dump(tfidf_train_model, f)"
   ]
  },
  {
   "cell_type": "code",
   "execution_count": 19,
   "metadata": {},
   "outputs": [],
   "source": [
    "# # reload training model\n",
    "\n",
    "# with open('../tfidf_train_model.pkl', 'rb') as f:\n",
    "#     tfidf_train_model2 = pickle.load(f)"
   ]
  },
  {
   "cell_type": "code",
   "execution_count": 29,
   "metadata": {},
   "outputs": [],
   "source": [
    "# tfidf_X_train_2 = tfidf_train_model2.transform(X_train)"
   ]
  },
  {
   "cell_type": "code",
   "execution_count": null,
   "metadata": {},
   "outputs": [],
   "source": [
    "# from scipy import sparse\n",
    "\n",
    "# columns = sorted(tfidf2.vocabulary_, key=lambda k: tfidf2.vocabulary_[k])\n",
    "# x_new = sparse.lil_matrix(sparse.csr_matrix(tfidf_X_train_2)[:,columns])"
   ]
  },
  {
   "cell_type": "code",
   "execution_count": 20,
   "metadata": {},
   "outputs": [],
   "source": [
    "# tfidf dataframe\n",
    "tfidf_X_train_2_df = tfidf_X_train_2.todense()\n",
    "columns = sorted(tfidf2.vocabulary_, key=lambda k: tfidf2.vocabulary_[k])\n",
    "tfidf_X_train_2_df = pd.DataFrame(tfidf_X_train_2_df, columns=columns);"
   ]
  },
  {
   "cell_type": "code",
   "execution_count": 21,
   "metadata": {},
   "outputs": [
    {
     "name": "stdout",
     "output_type": "stream",
     "text": [
      "0.9769474915084359\n"
     ]
    }
   ],
   "source": [
    "# Random Forest Classifier using trial and error parameters, rather than waiting for grid search\n",
    "\n",
    "rfc = RandomForestClassifier(criterion='gini', max_depth = 200, n_estimators = 50, max_features = 'auto', oob_score = True, random_state=42).fit(tfidf_X_train_2, y_train)\n",
    "print(rfc.oob_score_)"
   ]
  },
  {
   "cell_type": "code",
   "execution_count": 22,
   "metadata": {},
   "outputs": [],
   "source": [
    "columns = sorted(tfidf2.vocabulary_, key=lambda k: tfidf2.vocabulary_[k])\n",
    "feat_scores = pd.DataFrame({'Top 10 Important Features':rfc.feature_importances_}, index = columns)\n",
    "#feat_scores.sort_values(by = 'Fraction of Samples Affected').plot(kind='barh');"
   ]
  },
  {
   "cell_type": "code",
   "execution_count": 23,
   "metadata": {},
   "outputs": [
    {
     "data": {
      "image/png": "[encoded data removed]",
      "text/plain": [
       "<Figure size 432x288 with 1 Axes>"
      ]
     },
     "metadata": {
      "needs_background": "light"
     },
     "output_type": "display_data"
    }
   ],
   "source": [
    "feat_scores.sort_values(by = 'Top 10 Important Features', ascending=False)[:10].plot(kind='bar');"
   ]
  },
  {
   "cell_type": "code",
   "execution_count": null,
   "metadata": {},
   "outputs": [],
   "source": [
    "# # Partial Dependence Plot (reduce features or else breaks kernel)\n",
    "# features = ['via','say','image']\n",
    "# plot_partial_dependence(rfc, tfidf_X_train_df.sample(frac=.1), features, n_jobs=-1)\n",
    "# fig = plt.gcf()"
   ]
  },
  {
   "cell_type": "code",
   "execution_count": 120,
   "metadata": {},
   "outputs": [
    {
     "data": {
      "text/plain": [
       "0.9846325167037862"
      ]
     },
     "execution_count": 120,
     "metadata": {},
     "output_type": "execute_result"
    }
   ],
   "source": [
    "# Testing on holdout set from train-test split\n",
    "\n",
    "X_test_tfidf = tfidf2.transform(X_test)\n",
    "y_hat = rfc.predict(X_test_tfidf)\n",
    "accuracy_score(y_test, y_hat)"
   ]
  },
  {
   "cell_type": "markdown",
   "metadata": {},
   "source": [
    "#### I suspect an overfitting to this dataset, lets test with the extra data"
   ]
  },
  {
   "cell_type": "code",
   "execution_count": 86,
   "metadata": {},
   "outputs": [
    {
     "data": {
      "text/html": [
       "<div>\n",
       "<style scoped>\n",
       "    .dataframe tbody tr th:only-of-type {\n",
       "        vertical-align: middle;\n",
       "    }\n",
       "\n",
       "    .dataframe tbody tr th {\n",
       "        vertical-align: top;\n",
       "    }\n",
       "\n",
       "    .dataframe thead th {\n",
       "        text-align: right;\n",
       "    }\n",
       "</style>\n",
       "<table border=\"1\" class=\"dataframe\">\n",
       "  <thead>\n",
       "    <tr style=\"text-align: right;\">\n",
       "      <th></th>\n",
       "      <th>Unnamed: 0</th>\n",
       "      <th>title</th>\n",
       "      <th>text</th>\n",
       "      <th>label</th>\n",
       "    </tr>\n",
       "  </thead>\n",
       "  <tbody>\n",
       "    <tr>\n",
       "      <th>0</th>\n",
       "      <td>8476</td>\n",
       "      <td>You Can Smell Hillary’s Fear</td>\n",
       "      <td>Daniel Greenfield, a Shillman Journalism Fello...</td>\n",
       "      <td>FAKE</td>\n",
       "    </tr>\n",
       "    <tr>\n",
       "      <th>1</th>\n",
       "      <td>10294</td>\n",
       "      <td>Watch The Exact Moment Paul Ryan Committed Pol...</td>\n",
       "      <td>Google Pinterest Digg Linkedin Reddit Stumbleu...</td>\n",
       "      <td>FAKE</td>\n",
       "    </tr>\n",
       "    <tr>\n",
       "      <th>2</th>\n",
       "      <td>3608</td>\n",
       "      <td>Kerry to go to Paris in gesture of sympathy</td>\n",
       "      <td>U.S. Secretary of State John F. Kerry said Mon...</td>\n",
       "      <td>REAL</td>\n",
       "    </tr>\n",
       "    <tr>\n",
       "      <th>3</th>\n",
       "      <td>10142</td>\n",
       "      <td>Bernie supporters on Twitter erupt in anger ag...</td>\n",
       "      <td>— Kaydee King (@KaydeeKing) November 9, 2016 T...</td>\n",
       "      <td>FAKE</td>\n",
       "    </tr>\n",
       "    <tr>\n",
       "      <th>4</th>\n",
       "      <td>875</td>\n",
       "      <td>The Battle of New York: Why This Primary Matters</td>\n",
       "      <td>It's primary day in New York and front-runners...</td>\n",
       "      <td>REAL</td>\n",
       "    </tr>\n",
       "  </tbody>\n",
       "</table>\n",
       "</div>"
      ],
      "text/plain": [
       "   Unnamed: 0                                              title  \\\n",
       "0        8476                       You Can Smell Hillary’s Fear   \n",
       "1       10294  Watch The Exact Moment Paul Ryan Committed Pol...   \n",
       "2        3608        Kerry to go to Paris in gesture of sympathy   \n",
       "3       10142  Bernie supporters on Twitter erupt in anger ag...   \n",
       "4         875   The Battle of New York: Why This Primary Matters   \n",
       "\n",
       "                                                text label  \n",
       "0  Daniel Greenfield, a Shillman Journalism Fello...  FAKE  \n",
       "1  Google Pinterest Digg Linkedin Reddit Stumbleu...  FAKE  \n",
       "2  U.S. Secretary of State John F. Kerry said Mon...  REAL  \n",
       "3  — Kaydee King (@KaydeeKing) November 9, 2016 T...  FAKE  \n",
       "4  It's primary day in New York and front-runners...  REAL  "
      ]
     },
     "execution_count": 86,
     "metadata": {},
     "output_type": "execute_result"
    }
   ],
   "source": [
    "# extra dataset outside news articles to test on\n",
    "extra.head()"
   ]
  },
  {
   "cell_type": "code",
   "execution_count": 87,
   "metadata": {},
   "outputs": [],
   "source": [
    "extra['label'] = (extra['label'] == 'REAL')*1"
   ]
  },
  {
   "cell_type": "code",
   "execution_count": 88,
   "metadata": {},
   "outputs": [
    {
     "data": {
      "text/plain": [
       "(6335, 4)"
      ]
     },
     "execution_count": 88,
     "metadata": {},
     "output_type": "execute_result"
    }
   ],
   "source": [
    "extra.shape"
   ]
  },
  {
   "cell_type": "code",
   "execution_count": 89,
   "metadata": {},
   "outputs": [
    {
     "data": {
      "text/html": [
       "<div>\n",
       "<style scoped>\n",
       "    .dataframe tbody tr th:only-of-type {\n",
       "        vertical-align: middle;\n",
       "    }\n",
       "\n",
       "    .dataframe tbody tr th {\n",
       "        vertical-align: top;\n",
       "    }\n",
       "\n",
       "    .dataframe thead th {\n",
       "        text-align: right;\n",
       "    }\n",
       "</style>\n",
       "<table border=\"1\" class=\"dataframe\">\n",
       "  <thead>\n",
       "    <tr style=\"text-align: right;\">\n",
       "      <th></th>\n",
       "      <th>Unnamed: 0</th>\n",
       "      <th>title</th>\n",
       "      <th>text</th>\n",
       "      <th>label</th>\n",
       "    </tr>\n",
       "  </thead>\n",
       "  <tbody>\n",
       "    <tr>\n",
       "      <th>0</th>\n",
       "      <td>8476</td>\n",
       "      <td>You Can Smell Hillary’s Fear</td>\n",
       "      <td>Daniel Greenfield, a Shillman Journalism Fello...</td>\n",
       "      <td>0</td>\n",
       "    </tr>\n",
       "    <tr>\n",
       "      <th>1</th>\n",
       "      <td>10294</td>\n",
       "      <td>Watch The Exact Moment Paul Ryan Committed Pol...</td>\n",
       "      <td>Google Pinterest Digg Linkedin Reddit Stumbleu...</td>\n",
       "      <td>0</td>\n",
       "    </tr>\n",
       "    <tr>\n",
       "      <th>2</th>\n",
       "      <td>3608</td>\n",
       "      <td>Kerry to go to Paris in gesture of sympathy</td>\n",
       "      <td>U.S. Secretary of State John F. Kerry said Mon...</td>\n",
       "      <td>1</td>\n",
       "    </tr>\n",
       "    <tr>\n",
       "      <th>3</th>\n",
       "      <td>10142</td>\n",
       "      <td>Bernie supporters on Twitter erupt in anger ag...</td>\n",
       "      <td>— Kaydee King (@KaydeeKing) November 9, 2016 T...</td>\n",
       "      <td>0</td>\n",
       "    </tr>\n",
       "    <tr>\n",
       "      <th>4</th>\n",
       "      <td>875</td>\n",
       "      <td>The Battle of New York: Why This Primary Matters</td>\n",
       "      <td>It's primary day in New York and front-runners...</td>\n",
       "      <td>1</td>\n",
       "    </tr>\n",
       "  </tbody>\n",
       "</table>\n",
       "</div>"
      ],
      "text/plain": [
       "   Unnamed: 0                                              title  \\\n",
       "0        8476                       You Can Smell Hillary’s Fear   \n",
       "1       10294  Watch The Exact Moment Paul Ryan Committed Pol...   \n",
       "2        3608        Kerry to go to Paris in gesture of sympathy   \n",
       "3       10142  Bernie supporters on Twitter erupt in anger ag...   \n",
       "4         875   The Battle of New York: Why This Primary Matters   \n",
       "\n",
       "                                                text  label  \n",
       "0  Daniel Greenfield, a Shillman Journalism Fello...      0  \n",
       "1  Google Pinterest Digg Linkedin Reddit Stumbleu...      0  \n",
       "2  U.S. Secretary of State John F. Kerry said Mon...      1  \n",
       "3  — Kaydee King (@KaydeeKing) November 9, 2016 T...      0  \n",
       "4  It's primary day in New York and front-runners...      1  "
      ]
     },
     "execution_count": 89,
     "metadata": {},
     "output_type": "execute_result"
    }
   ],
   "source": [
    "extra.head()"
   ]
  },
  {
   "cell_type": "code",
   "execution_count": 90,
   "metadata": {},
   "outputs": [],
   "source": [
    "# splitting the data\n",
    "\n",
    "#split data into target and features, stratify to maintain class balance\n",
    "y_extra = extra['label']\n",
    "X_extra = extra['text']"
   ]
  },
  {
   "cell_type": "code",
   "execution_count": 91,
   "metadata": {},
   "outputs": [
    {
     "data": {
      "text/plain": [
       "0.5005524861878453"
      ]
     },
     "execution_count": 91,
     "metadata": {},
     "output_type": "execute_result"
    }
   ],
   "source": [
    "# baseline of extra data\n",
    "y_extra.sum() / len(y_extra)"
   ]
  },
  {
   "cell_type": "code",
   "execution_count": 29,
   "metadata": {},
   "outputs": [],
   "source": [
    "X_extra_tfidf = tfidf2.transform(X_extra)"
   ]
  },
  {
   "cell_type": "code",
   "execution_count": 30,
   "metadata": {},
   "outputs": [],
   "source": [
    "rfc_y_hat = rfc.predict(X_extra_tfidf)"
   ]
  },
  {
   "cell_type": "code",
   "execution_count": 31,
   "metadata": {},
   "outputs": [
    {
     "data": {
      "text/plain": [
       "0.5957379636937647"
      ]
     },
     "execution_count": 31,
     "metadata": {},
     "output_type": "execute_result"
    }
   ],
   "source": [
    "# the data shows some improvement but obviously very overfit to the particular kaggle dataset\n",
    "\n",
    "accuracy_score(y_extra, rfc_y_hat)"
   ]
  },
  {
   "cell_type": "markdown",
   "metadata": {},
   "source": [
    "#### Yes, very obvious overfitting to this data, only about 10% increase in signal dectection from baseline"
   ]
  },
  {
   "cell_type": "markdown",
   "metadata": {},
   "source": [
    "# Time to bring in More Data!"
   ]
  },
  {
   "cell_type": "code",
   "execution_count": 22,
   "metadata": {},
   "outputs": [],
   "source": [
    "# original kaggle dataset\n",
    "\n",
    "kaggle = news[['text', 'label']]"
   ]
  },
  {
   "cell_type": "code",
   "execution_count": 23,
   "metadata": {},
   "outputs": [
    {
     "data": {
      "text/html": [
       "<div>\n",
       "<style scoped>\n",
       "    .dataframe tbody tr th:only-of-type {\n",
       "        vertical-align: middle;\n",
       "    }\n",
       "\n",
       "    .dataframe tbody tr th {\n",
       "        vertical-align: top;\n",
       "    }\n",
       "\n",
       "    .dataframe thead th {\n",
       "        text-align: right;\n",
       "    }\n",
       "</style>\n",
       "<table border=\"1\" class=\"dataframe\">\n",
       "  <thead>\n",
       "    <tr style=\"text-align: right;\">\n",
       "      <th></th>\n",
       "      <th>text</th>\n",
       "      <th>label</th>\n",
       "    </tr>\n",
       "  </thead>\n",
       "  <tbody>\n",
       "    <tr>\n",
       "      <th>0</th>\n",
       "      <td>Donald Trump just couldn t wish all Americans ...</td>\n",
       "      <td>0</td>\n",
       "    </tr>\n",
       "    <tr>\n",
       "      <th>1</th>\n",
       "      <td>House Intelligence Committee Chairman Devin Nu...</td>\n",
       "      <td>0</td>\n",
       "    </tr>\n",
       "    <tr>\n",
       "      <th>2</th>\n",
       "      <td>On Friday, it was revealed that former Milwauk...</td>\n",
       "      <td>0</td>\n",
       "    </tr>\n",
       "    <tr>\n",
       "      <th>3</th>\n",
       "      <td>On Christmas day, Donald Trump announced that ...</td>\n",
       "      <td>0</td>\n",
       "    </tr>\n",
       "    <tr>\n",
       "      <th>4</th>\n",
       "      <td>Pope Francis used his annual Christmas Day mes...</td>\n",
       "      <td>0</td>\n",
       "    </tr>\n",
       "  </tbody>\n",
       "</table>\n",
       "</div>"
      ],
      "text/plain": [
       "                                                text  label\n",
       "0  Donald Trump just couldn t wish all Americans ...      0\n",
       "1  House Intelligence Committee Chairman Devin Nu...      0\n",
       "2  On Friday, it was revealed that former Milwauk...      0\n",
       "3  On Christmas day, Donald Trump announced that ...      0\n",
       "4  Pope Francis used his annual Christmas Day mes...      0"
      ]
     },
     "execution_count": 23,
     "metadata": {},
     "output_type": "execute_result"
    }
   ],
   "source": [
    "kaggle.head()"
   ]
  },
  {
   "cell_type": "code",
   "execution_count": 24,
   "metadata": {},
   "outputs": [
    {
     "data": {
      "text/plain": [
       "0.47701456635039424"
      ]
     },
     "execution_count": 24,
     "metadata": {},
     "output_type": "execute_result"
    }
   ],
   "source": [
    "kaggle.label.mean()"
   ]
  },
  {
   "cell_type": "code",
   "execution_count": 25,
   "metadata": {},
   "outputs": [],
   "source": [
    "# data verified by politifact\n",
    "\n",
    "politifact = pd.read_csv('data/politifact_data.csv')"
   ]
  },
  {
   "cell_type": "code",
   "execution_count": 26,
   "metadata": {},
   "outputs": [
    {
     "data": {
      "text/html": [
       "<div>\n",
       "<style scoped>\n",
       "    .dataframe tbody tr th:only-of-type {\n",
       "        vertical-align: middle;\n",
       "    }\n",
       "\n",
       "    .dataframe tbody tr th {\n",
       "        vertical-align: top;\n",
       "    }\n",
       "\n",
       "    .dataframe thead th {\n",
       "        text-align: right;\n",
       "    }\n",
       "</style>\n",
       "<table border=\"1\" class=\"dataframe\">\n",
       "  <thead>\n",
       "    <tr style=\"text-align: right;\">\n",
       "      <th></th>\n",
       "      <th>Unnamed: 0</th>\n",
       "      <th>text</th>\n",
       "      <th>label</th>\n",
       "    </tr>\n",
       "  </thead>\n",
       "  <tbody>\n",
       "    <tr>\n",
       "      <th>0</th>\n",
       "      <td>0</td>\n",
       "      <td>If you pass the so-called Dream Act, it will b...</td>\n",
       "      <td>0</td>\n",
       "    </tr>\n",
       "    <tr>\n",
       "      <th>1</th>\n",
       "      <td>1</td>\n",
       "      <td>12 more hurricanes headed towards U.S.</td>\n",
       "      <td>0</td>\n",
       "    </tr>\n",
       "    <tr>\n",
       "      <th>2</th>\n",
       "      <td>2</td>\n",
       "      <td>NFL attendance and ratings are WAY DOWN. Borin...</td>\n",
       "      <td>0</td>\n",
       "    </tr>\n",
       "    <tr>\n",
       "      <th>3</th>\n",
       "      <td>5</td>\n",
       "      <td>Roy Moore fought for pay increases for politic...</td>\n",
       "      <td>0</td>\n",
       "    </tr>\n",
       "    <tr>\n",
       "      <th>4</th>\n",
       "      <td>6</td>\n",
       "      <td>The Graham-Cassidy health care bill does inclu...</td>\n",
       "      <td>0</td>\n",
       "    </tr>\n",
       "  </tbody>\n",
       "</table>\n",
       "</div>"
      ],
      "text/plain": [
       "   Unnamed: 0                                               text  label\n",
       "0           0  If you pass the so-called Dream Act, it will b...      0\n",
       "1           1             12 more hurricanes headed towards U.S.      0\n",
       "2           2  NFL attendance and ratings are WAY DOWN. Borin...      0\n",
       "3           5  Roy Moore fought for pay increases for politic...      0\n",
       "4           6  The Graham-Cassidy health care bill does inclu...      0"
      ]
     },
     "execution_count": 26,
     "metadata": {},
     "output_type": "execute_result"
    }
   ],
   "source": [
    "politifact.head()"
   ]
  },
  {
   "cell_type": "code",
   "execution_count": 27,
   "metadata": {},
   "outputs": [],
   "source": [
    "politifact = politifact[['text', 'label']]"
   ]
  },
  {
   "cell_type": "code",
   "execution_count": 28,
   "metadata": {},
   "outputs": [
    {
     "data": {
      "text/plain": [
       "(8325, 2)"
      ]
     },
     "execution_count": 28,
     "metadata": {},
     "output_type": "execute_result"
    }
   ],
   "source": [
    "politifact.shape"
   ]
  },
  {
   "cell_type": "code",
   "execution_count": 29,
   "metadata": {},
   "outputs": [
    {
     "data": {
      "text/html": [
       "<div>\n",
       "<style scoped>\n",
       "    .dataframe tbody tr th:only-of-type {\n",
       "        vertical-align: middle;\n",
       "    }\n",
       "\n",
       "    .dataframe tbody tr th {\n",
       "        vertical-align: top;\n",
       "    }\n",
       "\n",
       "    .dataframe thead th {\n",
       "        text-align: right;\n",
       "    }\n",
       "</style>\n",
       "<table border=\"1\" class=\"dataframe\">\n",
       "  <thead>\n",
       "    <tr style=\"text-align: right;\">\n",
       "      <th></th>\n",
       "      <th>text</th>\n",
       "      <th>label</th>\n",
       "    </tr>\n",
       "  </thead>\n",
       "  <tbody>\n",
       "    <tr>\n",
       "      <th>0</th>\n",
       "      <td>If you pass the so-called Dream Act, it will b...</td>\n",
       "      <td>0</td>\n",
       "    </tr>\n",
       "    <tr>\n",
       "      <th>1</th>\n",
       "      <td>12 more hurricanes headed towards U.S.</td>\n",
       "      <td>0</td>\n",
       "    </tr>\n",
       "    <tr>\n",
       "      <th>2</th>\n",
       "      <td>NFL attendance and ratings are WAY DOWN. Borin...</td>\n",
       "      <td>0</td>\n",
       "    </tr>\n",
       "    <tr>\n",
       "      <th>3</th>\n",
       "      <td>Roy Moore fought for pay increases for politic...</td>\n",
       "      <td>0</td>\n",
       "    </tr>\n",
       "    <tr>\n",
       "      <th>4</th>\n",
       "      <td>The Graham-Cassidy health care bill does inclu...</td>\n",
       "      <td>0</td>\n",
       "    </tr>\n",
       "  </tbody>\n",
       "</table>\n",
       "</div>"
      ],
      "text/plain": [
       "                                                text  label\n",
       "0  If you pass the so-called Dream Act, it will b...      0\n",
       "1             12 more hurricanes headed towards U.S.      0\n",
       "2  NFL attendance and ratings are WAY DOWN. Borin...      0\n",
       "3  Roy Moore fought for pay increases for politic...      0\n",
       "4  The Graham-Cassidy health care bill does inclu...      0"
      ]
     },
     "execution_count": 29,
     "metadata": {},
     "output_type": "execute_result"
    }
   ],
   "source": [
    "# correct format\n",
    "politifact.head()"
   ]
  },
  {
   "cell_type": "code",
   "execution_count": 30,
   "metadata": {},
   "outputs": [
    {
     "data": {
      "text/plain": [
       "0.43003003003003004"
      ]
     },
     "execution_count": 30,
     "metadata": {},
     "output_type": "execute_result"
    }
   ],
   "source": [
    "# 42% of the data is fake news\n",
    "\n",
    "politifact.label.mean()"
   ]
  },
  {
   "cell_type": "code",
   "execution_count": 32,
   "metadata": {},
   "outputs": [],
   "source": [
    "# data from the onion (only using actual onion data for fake news)\n",
    "onion = pd.read_csv('data/OnionOrNot.csv')"
   ]
  },
  {
   "cell_type": "code",
   "execution_count": 33,
   "metadata": {},
   "outputs": [],
   "source": [
    "# 1 is an onion article so must be changed to 0 to match with other datasets for fake\n",
    "onion = onion[onion.label == 1]\n",
    "onion.label = 0"
   ]
  },
  {
   "cell_type": "code",
   "execution_count": 34,
   "metadata": {},
   "outputs": [
    {
     "data": {
      "text/html": [
       "<div>\n",
       "<style scoped>\n",
       "    .dataframe tbody tr th:only-of-type {\n",
       "        vertical-align: middle;\n",
       "    }\n",
       "\n",
       "    .dataframe tbody tr th {\n",
       "        vertical-align: top;\n",
       "    }\n",
       "\n",
       "    .dataframe thead th {\n",
       "        text-align: right;\n",
       "    }\n",
       "</style>\n",
       "<table border=\"1\" class=\"dataframe\">\n",
       "  <thead>\n",
       "    <tr style=\"text-align: right;\">\n",
       "      <th></th>\n",
       "      <th>text</th>\n",
       "      <th>label</th>\n",
       "    </tr>\n",
       "  </thead>\n",
       "  <tbody>\n",
       "    <tr>\n",
       "      <th>0</th>\n",
       "      <td>Entire Facebook Staff Laughs As Man Tightens P...</td>\n",
       "      <td>0</td>\n",
       "    </tr>\n",
       "    <tr>\n",
       "      <th>2</th>\n",
       "      <td>Bold Move: Hulu Has Announced That They’re Gon...</td>\n",
       "      <td>0</td>\n",
       "    </tr>\n",
       "    <tr>\n",
       "      <th>3</th>\n",
       "      <td>Despondent Jeff Bezos Realizes He’ll Have To W...</td>\n",
       "      <td>0</td>\n",
       "    </tr>\n",
       "    <tr>\n",
       "      <th>4</th>\n",
       "      <td>For men looking for great single women, online...</td>\n",
       "      <td>0</td>\n",
       "    </tr>\n",
       "    <tr>\n",
       "      <th>5</th>\n",
       "      <td>Kim Jong-Un Wonders If Nuclear Threats Distrac...</td>\n",
       "      <td>0</td>\n",
       "    </tr>\n",
       "  </tbody>\n",
       "</table>\n",
       "</div>"
      ],
      "text/plain": [
       "                                                text  label\n",
       "0  Entire Facebook Staff Laughs As Man Tightens P...      0\n",
       "2  Bold Move: Hulu Has Announced That They’re Gon...      0\n",
       "3  Despondent Jeff Bezos Realizes He’ll Have To W...      0\n",
       "4  For men looking for great single women, online...      0\n",
       "5  Kim Jong-Un Wonders If Nuclear Threats Distrac...      0"
      ]
     },
     "execution_count": 34,
     "metadata": {},
     "output_type": "execute_result"
    }
   ],
   "source": [
    "# correct format\n",
    "onion.head()"
   ]
  },
  {
   "cell_type": "code",
   "execution_count": 35,
   "metadata": {},
   "outputs": [
    {
     "data": {
      "text/plain": [
       "(9000, 2)"
      ]
     },
     "execution_count": 35,
     "metadata": {},
     "output_type": "execute_result"
    }
   ],
   "source": [
    "onion.shape"
   ]
  },
  {
   "cell_type": "code",
   "execution_count": 36,
   "metadata": {},
   "outputs": [],
   "source": [
    "# load NYT data\n",
    "\n",
    "NYT = pd.read_csv('data/NYT.csv')"
   ]
  },
  {
   "cell_type": "code",
   "execution_count": 37,
   "metadata": {},
   "outputs": [],
   "source": [
    "# only taking NYT articles\n",
    "\n",
    "NYT = NYT[NYT.publication == 'New York Times']"
   ]
  },
  {
   "cell_type": "code",
   "execution_count": 38,
   "metadata": {},
   "outputs": [],
   "source": [
    "# only taking content and setting label to true\n",
    "\n",
    "NYT = NYT[['content']]\n",
    "NYT['label'] = 1"
   ]
  },
  {
   "cell_type": "code",
   "execution_count": 39,
   "metadata": {},
   "outputs": [],
   "source": [
    "# rename content to text\n",
    "NYT.rename(columns={\"content\": \"text\"}, inplace = True)"
   ]
  },
  {
   "cell_type": "code",
   "execution_count": 40,
   "metadata": {},
   "outputs": [
    {
     "data": {
      "text/html": [
       "<div>\n",
       "<style scoped>\n",
       "    .dataframe tbody tr th:only-of-type {\n",
       "        vertical-align: middle;\n",
       "    }\n",
       "\n",
       "    .dataframe tbody tr th {\n",
       "        vertical-align: top;\n",
       "    }\n",
       "\n",
       "    .dataframe thead th {\n",
       "        text-align: right;\n",
       "    }\n",
       "</style>\n",
       "<table border=\"1\" class=\"dataframe\">\n",
       "  <thead>\n",
       "    <tr style=\"text-align: right;\">\n",
       "      <th></th>\n",
       "      <th>text</th>\n",
       "      <th>label</th>\n",
       "    </tr>\n",
       "  </thead>\n",
       "  <tbody>\n",
       "    <tr>\n",
       "      <th>0</th>\n",
       "      <td>WASHINGTON  —   Congressional Republicans have...</td>\n",
       "      <td>1</td>\n",
       "    </tr>\n",
       "    <tr>\n",
       "      <th>1</th>\n",
       "      <td>After the bullet shells get counted, the blood...</td>\n",
       "      <td>1</td>\n",
       "    </tr>\n",
       "    <tr>\n",
       "      <th>2</th>\n",
       "      <td>When Walt Disney’s “Bambi” opened in 1942, cri...</td>\n",
       "      <td>1</td>\n",
       "    </tr>\n",
       "    <tr>\n",
       "      <th>3</th>\n",
       "      <td>Death may be the great equalizer, but it isn’t...</td>\n",
       "      <td>1</td>\n",
       "    </tr>\n",
       "    <tr>\n",
       "      <th>4</th>\n",
       "      <td>SEOUL, South Korea  —   North Korea’s leader, ...</td>\n",
       "      <td>1</td>\n",
       "    </tr>\n",
       "  </tbody>\n",
       "</table>\n",
       "</div>"
      ],
      "text/plain": [
       "                                                text  label\n",
       "0  WASHINGTON  —   Congressional Republicans have...      1\n",
       "1  After the bullet shells get counted, the blood...      1\n",
       "2  When Walt Disney’s “Bambi” opened in 1942, cri...      1\n",
       "3  Death may be the great equalizer, but it isn’t...      1\n",
       "4  SEOUL, South Korea  —   North Korea’s leader, ...      1"
      ]
     },
     "execution_count": 40,
     "metadata": {},
     "output_type": "execute_result"
    }
   ],
   "source": [
    "# correct format\n",
    "NYT.head()"
   ]
  },
  {
   "cell_type": "code",
   "execution_count": 41,
   "metadata": {},
   "outputs": [
    {
     "data": {
      "text/plain": [
       "(7803, 2)"
      ]
     },
     "execution_count": 41,
     "metadata": {},
     "output_type": "execute_result"
    }
   ],
   "source": [
    "NYT.shape"
   ]
  },
  {
   "cell_type": "code",
   "execution_count": 42,
   "metadata": {},
   "outputs": [],
   "source": [
    "# concat all datasets\n",
    "\n",
    "df_all = pd.concat([kaggle, politifact, onion, NYT]).reset_index(drop = True)"
   ]
  },
  {
   "cell_type": "code",
   "execution_count": 43,
   "metadata": {},
   "outputs": [],
   "source": [
    "df_all.to_csv('data/all_data.csv')"
   ]
  },
  {
   "cell_type": "code",
   "execution_count": 44,
   "metadata": {},
   "outputs": [
    {
     "data": {
      "text/html": [
       "<div>\n",
       "<style scoped>\n",
       "    .dataframe tbody tr th:only-of-type {\n",
       "        vertical-align: middle;\n",
       "    }\n",
       "\n",
       "    .dataframe tbody tr th {\n",
       "        vertical-align: top;\n",
       "    }\n",
       "\n",
       "    .dataframe thead th {\n",
       "        text-align: right;\n",
       "    }\n",
       "</style>\n",
       "<table border=\"1\" class=\"dataframe\">\n",
       "  <thead>\n",
       "    <tr style=\"text-align: right;\">\n",
       "      <th></th>\n",
       "      <th>text</th>\n",
       "      <th>label</th>\n",
       "    </tr>\n",
       "  </thead>\n",
       "  <tbody>\n",
       "    <tr>\n",
       "      <th>0</th>\n",
       "      <td>Donald Trump just couldn t wish all Americans ...</td>\n",
       "      <td>0</td>\n",
       "    </tr>\n",
       "    <tr>\n",
       "      <th>1</th>\n",
       "      <td>House Intelligence Committee Chairman Devin Nu...</td>\n",
       "      <td>0</td>\n",
       "    </tr>\n",
       "    <tr>\n",
       "      <th>2</th>\n",
       "      <td>On Friday, it was revealed that former Milwauk...</td>\n",
       "      <td>0</td>\n",
       "    </tr>\n",
       "    <tr>\n",
       "      <th>3</th>\n",
       "      <td>On Christmas day, Donald Trump announced that ...</td>\n",
       "      <td>0</td>\n",
       "    </tr>\n",
       "    <tr>\n",
       "      <th>4</th>\n",
       "      <td>Pope Francis used his annual Christmas Day mes...</td>\n",
       "      <td>0</td>\n",
       "    </tr>\n",
       "  </tbody>\n",
       "</table>\n",
       "</div>"
      ],
      "text/plain": [
       "                                                text  label\n",
       "0  Donald Trump just couldn t wish all Americans ...      0\n",
       "1  House Intelligence Committee Chairman Devin Nu...      0\n",
       "2  On Friday, it was revealed that former Milwauk...      0\n",
       "3  On Christmas day, Donald Trump announced that ...      0\n",
       "4  Pope Francis used his annual Christmas Day mes...      0"
      ]
     },
     "execution_count": 44,
     "metadata": {},
     "output_type": "execute_result"
    }
   ],
   "source": [
    "df_all.head()"
   ]
  },
  {
   "cell_type": "code",
   "execution_count": 45,
   "metadata": {},
   "outputs": [
    {
     "data": {
      "text/plain": [
       "(70026, 2)"
      ]
     },
     "execution_count": 45,
     "metadata": {},
     "output_type": "execute_result"
    }
   ],
   "source": [
    "df_all.shape"
   ]
  },
  {
   "cell_type": "code",
   "execution_count": 46,
   "metadata": {},
   "outputs": [
    {
     "data": {
      "text/plain": [
       "0.12852369120041127"
      ]
     },
     "execution_count": 46,
     "metadata": {},
     "output_type": "execute_result"
    }
   ],
   "source": [
    "onion.shape[0]/df_all.shape[0]"
   ]
  },
  {
   "cell_type": "code",
   "execution_count": 47,
   "metadata": {},
   "outputs": [
    {
     "data": {
      "text/plain": [
       "0.5316025476251678"
      ]
     },
     "execution_count": 47,
     "metadata": {},
     "output_type": "execute_result"
    }
   ],
   "source": [
    "# new baseline\n",
    "\n",
    "1 - df_all.label.mean()"
   ]
  },
  {
   "cell_type": "markdown",
   "metadata": {},
   "source": [
    "# Modeling on new dataframe"
   ]
  },
  {
   "cell_type": "code",
   "execution_count": 4,
   "metadata": {},
   "outputs": [],
   "source": [
    "df_all = pd.read_csv('data/all_data.csv').reset_index(drop = True)"
   ]
  },
  {
   "cell_type": "code",
   "execution_count": 5,
   "metadata": {},
   "outputs": [],
   "source": [
    "df_all = df_all[['text', 'label']]"
   ]
  },
  {
   "cell_type": "code",
   "execution_count": 17,
   "metadata": {},
   "outputs": [
    {
     "data": {
      "text/plain": [
       "text     0\n",
       "label    0\n",
       "dtype: int64"
      ]
     },
     "execution_count": 17,
     "metadata": {},
     "output_type": "execute_result"
    }
   ],
   "source": [
    "df_all.isna().sum()"
   ]
  },
  {
   "cell_type": "code",
   "execution_count": 6,
   "metadata": {},
   "outputs": [],
   "source": [
    "# splitting the data\n",
    "\n",
    "#split data into target and features, stratify to maintain class balance\n",
    "y = df_all['label']\n",
    "X = df_all['text']\n",
    "\n",
    "X_train, X_test, y_train, y_test = train_test_split(X, y, test_size=0.2, random_state=42, stratify=y)\n"
   ]
  },
  {
   "cell_type": "code",
   "execution_count": 7,
   "metadata": {},
   "outputs": [],
   "source": [
    "# Term frequency-Inverse document frequency vectorizer with bigrams and trigrams, top 100,000 highest weighted tokens\n",
    "tfidf = TfidfVectorizer(preprocessor=preprocessor, stop_words=stopwords_list() + ['reuters'], ngram_range=(1, 3), max_features=20000)\n",
    "tfidf_train_model = tfidf.fit(X_train)"
   ]
  },
  {
   "cell_type": "code",
   "execution_count": 8,
   "metadata": {},
   "outputs": [],
   "source": [
    "# transform the data using the tfidf vectorizer\n",
    "tfidf_X_train = tfidf_train_model.transform(X_train)"
   ]
  },
  {
   "cell_type": "code",
   "execution_count": 75,
   "metadata": {},
   "outputs": [],
   "source": [
    "# tfidf dataframe\n",
    "tfidf_X_train_df = tfidf_X_train.todense()\n",
    "columns = sorted(tfidf_train_model.vocabulary_, key=lambda k: tfidf_train_model.vocabulary_[k])\n",
    "tfidf_X_train_df = pd.DataFrame(tfidf_X_train_df, columns=columns);"
   ]
  },
  {
   "cell_type": "code",
   "execution_count": 76,
   "metadata": {},
   "outputs": [
    {
     "data": {
      "text/plain": [
       "say           1676.184295\n",
       "trump          968.013713\n",
       "mr             910.231823\n",
       "state          705.608364\n",
       "would          567.743149\n",
       "president      541.571570\n",
       "year           506.819302\n",
       "republican     460.990825\n",
       "government     439.164161\n",
       "new            426.238482\n",
       "dtype: float64"
      ]
     },
     "execution_count": 76,
     "metadata": {},
     "output_type": "execute_result"
    }
   ],
   "source": [
    "# top 20 scoring words for real news\n",
    "\n",
    "np.sum(tfidf_X_train_df[np.array(y_train)==1], axis=0).sort_values(ascending=False)[:10]\n"
   ]
  },
  {
   "cell_type": "code",
   "execution_count": 77,
   "metadata": {},
   "outputs": [
    {
     "data": {
      "text/plain": [
       "trump        1267.586828\n",
       "say           645.766184\n",
       "clinton       464.823278\n",
       "obama         455.094418\n",
       "go            445.255040\n",
       "people        441.957802\n",
       "president     440.291120\n",
       "get           436.131694\n",
       "one           385.020201\n",
       "hillary       382.753245\n",
       "dtype: float64"
      ]
     },
     "execution_count": 77,
     "metadata": {},
     "output_type": "execute_result"
    }
   ],
   "source": [
    "# top 20 scoring words for fake news\n",
    "\n",
    "np.sum(tfidf_X_train_df[np.array(y_train)==0], axis=0).sort_values(ascending=False)[:10]\n"
   ]
  },
  {
   "cell_type": "code",
   "execution_count": 78,
   "metadata": {},
   "outputs": [
    {
     "data": {
      "text/plain": [
       "{'fit_time': 2.4135854721069334,\n",
       " 'score_time': 0.013965845108032227,\n",
       " 'test_accuracy': 0.9271331667261691,\n",
       " 'test_precision': 0.9452641397020989,\n",
       " 'test_recall': 0.8963795731707318}"
      ]
     },
     "execution_count": 78,
     "metadata": {},
     "output_type": "execute_result"
    }
   ],
   "source": [
    "# Logistic Regression 5 folds\n",
    "\n",
    "log_cross = cross_validate(LogisticRegression(max_iter = 400, random_state = 42), tfidf_X_train, y_train, scoring = ['accuracy', 'precision', 'recall'], n_jobs = -1)\n",
    "log_cross.update((x, y.mean()) for x, y in log_cross.items())\n",
    "log_cross"
   ]
  },
  {
   "cell_type": "code",
   "execution_count": 9,
   "metadata": {},
   "outputs": [
    {
     "data": {
      "text/plain": [
       "{'fit_time': 109.2871736049652,\n",
       " 'score_time': 0.8163335800170899,\n",
       " 'test_accuracy': 0.9273652267047483,\n",
       " 'test_precision': 0.9593777547607407,\n",
       " 'test_recall': 0.8823170731707318}"
      ]
     },
     "execution_count": 9,
     "metadata": {},
     "output_type": "execute_result"
    }
   ],
   "source": [
    "# random forest classifier 5 folds\n",
    "\n",
    "rfc_cross = cross_validate(RandomForestClassifier(criterion='gini', max_depth = 100, n_estimators = 100, max_features = 'auto', oob_score = True, random_state=42),\n",
    "                                                    tfidf_X_train, y_train, scoring = ['accuracy', 'precision', 'recall'],cv=5, n_jobs=-1)\n",
    "rfc_cross.update((x, y.mean()) for x, y in rfc_cross.items())\n",
    "rfc_cross"
   ]
  },
  {
   "cell_type": "code",
   "execution_count": 80,
   "metadata": {},
   "outputs": [
    {
     "data": {
      "text/plain": [
       "{'fit_time': 290.5793572902679,\n",
       " 'score_time': 0.09346399307250977,\n",
       " 'test_accuracy': 0.8958764726883256,\n",
       " 'test_precision': 0.9012481979570207,\n",
       " 'test_recall': 0.8734375}"
      ]
     },
     "execution_count": 80,
     "metadata": {},
     "output_type": "execute_result"
    }
   ],
   "source": [
    "# gradient boosted Classifier 5 folds\n",
    "\n",
    "gradient_cross = cross_validate(GradientBoostingClassifier(random_state = 42), tfidf_X_train, y_train, scoring = ['accuracy', 'precision', 'recall'],cv=5, n_jobs=-1)\n",
    "gradient_cross.update((x, y.mean()) for x, y in gradient_cross.items())\n",
    "gradient_cross"
   ]
  },
  {
   "cell_type": "code",
   "execution_count": 81,
   "metadata": {},
   "outputs": [
    {
     "data": {
      "text/plain": [
       "{'fit_time': 0.10827131271362304,\n",
       " 'score_time': 0.021002721786499024,\n",
       " 'test_accuracy': 0.8746340592645485,\n",
       " 'test_precision': 0.8783375759970069,\n",
       " 'test_recall': 0.8501143292682928}"
      ]
     },
     "execution_count": 81,
     "metadata": {},
     "output_type": "execute_result"
    }
   ],
   "source": [
    "# Naive Bayes Classifier 5 Folds\n",
    "\n",
    "nb_cross = cross_validate(MultinomialNB(alpha=0.1), tfidf_X_train, y_train, scoring = ['accuracy', 'precision', 'recall'],cv=5, n_jobs=-1)\n",
    "nb_cross.update((x, y.mean()) for x, y in nb_cross.items())\n",
    "nb_cross"
   ]
  },
  {
   "cell_type": "code",
   "execution_count": 35,
   "metadata": {},
   "outputs": [
    {
     "data": {
      "text/plain": [
       "GridSearchCV(estimator=RandomForestClassifier(),\n",
       "             param_grid={'criterion': ('gini', 'entropy'),\n",
       "                         'max_depth': [100, 200, 300],\n",
       "                         'n_estimators': [10, 50, 100]},\n",
       "             refit='precision', scoring=['accuracy', 'precision'])"
      ]
     },
     "execution_count": 35,
     "metadata": {},
     "output_type": "execute_result"
    }
   ],
   "source": [
    "# Grid Search RFC\n",
    "\n",
    "parameters = {'criterion':('gini', 'entropy'), 'max_depth':[100,200,300], 'n_estimators':[10,50,100]} #max_depth 3 different times\n",
    "rfc = RandomForestClassifier()\n",
    "#gridsearch Cross Validate\n",
    "gs = GridSearchCV(rfc, parameters, scoring = ['accuracy','precision'], refit='precision') \n",
    "# other scoring strings\n",
    "# https://scikit-learn.org/stable/modules/model_evaluation.html #model-evaluation\n",
    "# refit makes it the primary ranking score out of the list we gave\n",
    "# n_jobs = -1 runs the process using all cores on your computer\n",
    "\n",
    "gs.fit(tfidf_X_train, y_train)\n"
   ]
  },
  {
   "cell_type": "code",
   "execution_count": 36,
   "metadata": {},
   "outputs": [
    {
     "data": {
      "text/html": [
       "<div>\n",
       "<style scoped>\n",
       "    .dataframe tbody tr th:only-of-type {\n",
       "        vertical-align: middle;\n",
       "    }\n",
       "\n",
       "    .dataframe tbody tr th {\n",
       "        vertical-align: top;\n",
       "    }\n",
       "\n",
       "    .dataframe thead th {\n",
       "        text-align: right;\n",
       "    }\n",
       "</style>\n",
       "<table border=\"1\" class=\"dataframe\">\n",
       "  <thead>\n",
       "    <tr style=\"text-align: right;\">\n",
       "      <th></th>\n",
       "      <th>0</th>\n",
       "      <th>1</th>\n",
       "      <th>2</th>\n",
       "      <th>3</th>\n",
       "      <th>4</th>\n",
       "      <th>5</th>\n",
       "      <th>6</th>\n",
       "      <th>7</th>\n",
       "      <th>8</th>\n",
       "      <th>9</th>\n",
       "      <th>10</th>\n",
       "      <th>11</th>\n",
       "      <th>12</th>\n",
       "      <th>13</th>\n",
       "      <th>14</th>\n",
       "      <th>15</th>\n",
       "      <th>16</th>\n",
       "      <th>17</th>\n",
       "    </tr>\n",
       "  </thead>\n",
       "  <tbody>\n",
       "    <tr>\n",
       "      <th>mean_fit_time</th>\n",
       "      <td>10.1138</td>\n",
       "      <td>50.2015</td>\n",
       "      <td>97.3079</td>\n",
       "      <td>11.9103</td>\n",
       "      <td>60.9297</td>\n",
       "      <td>120.089</td>\n",
       "      <td>12.1121</td>\n",
       "      <td>61.7482</td>\n",
       "      <td>125.405</td>\n",
       "      <td>9.69765</td>\n",
       "      <td>46.9242</td>\n",
       "      <td>94.4472</td>\n",
       "      <td>11.9718</td>\n",
       "      <td>62.4021</td>\n",
       "      <td>121.479</td>\n",
       "      <td>12.5959</td>\n",
       "      <td>63.2365</td>\n",
       "      <td>129.649</td>\n",
       "    </tr>\n",
       "    <tr>\n",
       "      <th>std_fit_time</th>\n",
       "      <td>0.350329</td>\n",
       "      <td>1.54563</td>\n",
       "      <td>0.707187</td>\n",
       "      <td>0.396083</td>\n",
       "      <td>0.519858</td>\n",
       "      <td>4.43858</td>\n",
       "      <td>0.313177</td>\n",
       "      <td>1.15035</td>\n",
       "      <td>2.24362</td>\n",
       "      <td>0.45115</td>\n",
       "      <td>0.999656</td>\n",
       "      <td>2.17796</td>\n",
       "      <td>0.204473</td>\n",
       "      <td>2.73285</td>\n",
       "      <td>1.76705</td>\n",
       "      <td>0.232091</td>\n",
       "      <td>1.44242</td>\n",
       "      <td>1.20682</td>\n",
       "    </tr>\n",
       "    <tr>\n",
       "      <th>mean_score_time</th>\n",
       "      <td>0.111172</td>\n",
       "      <td>0.390923</td>\n",
       "      <td>0.714521</td>\n",
       "      <td>0.109938</td>\n",
       "      <td>0.436449</td>\n",
       "      <td>0.778295</td>\n",
       "      <td>0.109747</td>\n",
       "      <td>0.415217</td>\n",
       "      <td>0.817657</td>\n",
       "      <td>0.100462</td>\n",
       "      <td>0.34005</td>\n",
       "      <td>0.686683</td>\n",
       "      <td>0.108183</td>\n",
       "      <td>0.379529</td>\n",
       "      <td>0.71145</td>\n",
       "      <td>0.105602</td>\n",
       "      <td>0.387211</td>\n",
       "      <td>0.81502</td>\n",
       "    </tr>\n",
       "    <tr>\n",
       "      <th>std_score_time</th>\n",
       "      <td>0.0147697</td>\n",
       "      <td>0.0267132</td>\n",
       "      <td>0.0723736</td>\n",
       "      <td>0.0118875</td>\n",
       "      <td>0.034731</td>\n",
       "      <td>0.0433503</td>\n",
       "      <td>0.00749082</td>\n",
       "      <td>0.0366547</td>\n",
       "      <td>0.0426651</td>\n",
       "      <td>0.00726666</td>\n",
       "      <td>0.0135063</td>\n",
       "      <td>0.0274505</td>\n",
       "      <td>0.00358165</td>\n",
       "      <td>0.00839794</td>\n",
       "      <td>0.0172479</td>\n",
       "      <td>0.00922479</td>\n",
       "      <td>0.0042148</td>\n",
       "      <td>0.0786976</td>\n",
       "    </tr>\n",
       "    <tr>\n",
       "      <th>param_criterion</th>\n",
       "      <td>gini</td>\n",
       "      <td>gini</td>\n",
       "      <td>gini</td>\n",
       "      <td>gini</td>\n",
       "      <td>gini</td>\n",
       "      <td>gini</td>\n",
       "      <td>gini</td>\n",
       "      <td>gini</td>\n",
       "      <td>gini</td>\n",
       "      <td>entropy</td>\n",
       "      <td>entropy</td>\n",
       "      <td>entropy</td>\n",
       "      <td>entropy</td>\n",
       "      <td>entropy</td>\n",
       "      <td>entropy</td>\n",
       "      <td>entropy</td>\n",
       "      <td>entropy</td>\n",
       "      <td>entropy</td>\n",
       "    </tr>\n",
       "    <tr>\n",
       "      <th>param_max_depth</th>\n",
       "      <td>100</td>\n",
       "      <td>100</td>\n",
       "      <td>100</td>\n",
       "      <td>200</td>\n",
       "      <td>200</td>\n",
       "      <td>200</td>\n",
       "      <td>300</td>\n",
       "      <td>300</td>\n",
       "      <td>300</td>\n",
       "      <td>100</td>\n",
       "      <td>100</td>\n",
       "      <td>100</td>\n",
       "      <td>200</td>\n",
       "      <td>200</td>\n",
       "      <td>200</td>\n",
       "      <td>300</td>\n",
       "      <td>300</td>\n",
       "      <td>300</td>\n",
       "    </tr>\n",
       "    <tr>\n",
       "      <th>param_n_estimators</th>\n",
       "      <td>10</td>\n",
       "      <td>50</td>\n",
       "      <td>100</td>\n",
       "      <td>10</td>\n",
       "      <td>50</td>\n",
       "      <td>100</td>\n",
       "      <td>10</td>\n",
       "      <td>50</td>\n",
       "      <td>100</td>\n",
       "      <td>10</td>\n",
       "      <td>50</td>\n",
       "      <td>100</td>\n",
       "      <td>10</td>\n",
       "      <td>50</td>\n",
       "      <td>100</td>\n",
       "      <td>10</td>\n",
       "      <td>50</td>\n",
       "      <td>100</td>\n",
       "    </tr>\n",
       "    <tr>\n",
       "      <th>params</th>\n",
       "      <td>{'criterion': 'gini', 'max_depth': 100, 'n_est...</td>\n",
       "      <td>{'criterion': 'gini', 'max_depth': 100, 'n_est...</td>\n",
       "      <td>{'criterion': 'gini', 'max_depth': 100, 'n_est...</td>\n",
       "      <td>{'criterion': 'gini', 'max_depth': 200, 'n_est...</td>\n",
       "      <td>{'criterion': 'gini', 'max_depth': 200, 'n_est...</td>\n",
       "      <td>{'criterion': 'gini', 'max_depth': 200, 'n_est...</td>\n",
       "      <td>{'criterion': 'gini', 'max_depth': 300, 'n_est...</td>\n",
       "      <td>{'criterion': 'gini', 'max_depth': 300, 'n_est...</td>\n",
       "      <td>{'criterion': 'gini', 'max_depth': 300, 'n_est...</td>\n",
       "      <td>{'criterion': 'entropy', 'max_depth': 100, 'n_...</td>\n",
       "      <td>{'criterion': 'entropy', 'max_depth': 100, 'n_...</td>\n",
       "      <td>{'criterion': 'entropy', 'max_depth': 100, 'n_...</td>\n",
       "      <td>{'criterion': 'entropy', 'max_depth': 200, 'n_...</td>\n",
       "      <td>{'criterion': 'entropy', 'max_depth': 200, 'n_...</td>\n",
       "      <td>{'criterion': 'entropy', 'max_depth': 200, 'n_...</td>\n",
       "      <td>{'criterion': 'entropy', 'max_depth': 300, 'n_...</td>\n",
       "      <td>{'criterion': 'entropy', 'max_depth': 300, 'n_...</td>\n",
       "      <td>{'criterion': 'entropy', 'max_depth': 300, 'n_...</td>\n",
       "    </tr>\n",
       "    <tr>\n",
       "      <th>split0_test_accuracy</th>\n",
       "      <td>0.910925</td>\n",
       "      <td>0.922349</td>\n",
       "      <td>0.925116</td>\n",
       "      <td>0.909407</td>\n",
       "      <td>0.926544</td>\n",
       "      <td>0.927704</td>\n",
       "      <td>0.912978</td>\n",
       "      <td>0.926544</td>\n",
       "      <td>0.928597</td>\n",
       "      <td>0.910211</td>\n",
       "      <td>0.924134</td>\n",
       "      <td>0.924134</td>\n",
       "      <td>0.908247</td>\n",
       "      <td>0.926812</td>\n",
       "      <td>0.925027</td>\n",
       "      <td>0.905659</td>\n",
       "      <td>0.925652</td>\n",
       "      <td>0.92699</td>\n",
       "    </tr>\n",
       "    <tr>\n",
       "      <th>split1_test_accuracy</th>\n",
       "      <td>0.912263</td>\n",
       "      <td>0.931007</td>\n",
       "      <td>0.931096</td>\n",
       "      <td>0.911728</td>\n",
       "      <td>0.930203</td>\n",
       "      <td>0.931899</td>\n",
       "      <td>0.910835</td>\n",
       "      <td>0.930114</td>\n",
       "      <td>0.931185</td>\n",
       "      <td>0.913067</td>\n",
       "      <td>0.926187</td>\n",
       "      <td>0.929579</td>\n",
       "      <td>0.916101</td>\n",
       "      <td>0.928418</td>\n",
       "      <td>0.931453</td>\n",
       "      <td>0.911549</td>\n",
       "      <td>0.928954</td>\n",
       "      <td>0.928508</td>\n",
       "    </tr>\n",
       "    <tr>\n",
       "      <th>split2_test_accuracy</th>\n",
       "      <td>0.906105</td>\n",
       "      <td>0.923599</td>\n",
       "      <td>0.92342</td>\n",
       "      <td>0.901107</td>\n",
       "      <td>0.925562</td>\n",
       "      <td>0.926901</td>\n",
       "      <td>0.902803</td>\n",
       "      <td>0.925919</td>\n",
       "      <td>0.926455</td>\n",
       "      <td>0.906105</td>\n",
       "      <td>0.921635</td>\n",
       "      <td>0.924223</td>\n",
       "      <td>0.905391</td>\n",
       "      <td>0.924223</td>\n",
       "      <td>0.926187</td>\n",
       "      <td>0.904677</td>\n",
       "      <td>0.923509</td>\n",
       "      <td>0.924938</td>\n",
       "    </tr>\n",
       "    <tr>\n",
       "      <th>split3_test_accuracy</th>\n",
       "      <td>0.906819</td>\n",
       "      <td>0.924938</td>\n",
       "      <td>0.928418</td>\n",
       "      <td>0.91262</td>\n",
       "      <td>0.929489</td>\n",
       "      <td>0.928597</td>\n",
       "      <td>0.911014</td>\n",
       "      <td>0.928597</td>\n",
       "      <td>0.931899</td>\n",
       "      <td>0.910121</td>\n",
       "      <td>0.926633</td>\n",
       "      <td>0.927169</td>\n",
       "      <td>0.907176</td>\n",
       "      <td>0.928418</td>\n",
       "      <td>0.929936</td>\n",
       "      <td>0.907355</td>\n",
       "      <td>0.927258</td>\n",
       "      <td>0.931007</td>\n",
       "    </tr>\n",
       "    <tr>\n",
       "      <th>split4_test_accuracy</th>\n",
       "      <td>0.912799</td>\n",
       "      <td>0.924938</td>\n",
       "      <td>0.928686</td>\n",
       "      <td>0.911103</td>\n",
       "      <td>0.929043</td>\n",
       "      <td>0.931989</td>\n",
       "      <td>0.909854</td>\n",
       "      <td>0.928329</td>\n",
       "      <td>0.931989</td>\n",
       "      <td>0.911639</td>\n",
       "      <td>0.92708</td>\n",
       "      <td>0.926276</td>\n",
       "      <td>0.915566</td>\n",
       "      <td>0.928686</td>\n",
       "      <td>0.929668</td>\n",
       "      <td>0.913602</td>\n",
       "      <td>0.929043</td>\n",
       "      <td>0.928597</td>\n",
       "    </tr>\n",
       "    <tr>\n",
       "      <th>mean_test_accuracy</th>\n",
       "      <td>0.909782</td>\n",
       "      <td>0.925366</td>\n",
       "      <td>0.927347</td>\n",
       "      <td>0.909193</td>\n",
       "      <td>0.928169</td>\n",
       "      <td>0.929418</td>\n",
       "      <td>0.909497</td>\n",
       "      <td>0.927901</td>\n",
       "      <td>0.930025</td>\n",
       "      <td>0.910228</td>\n",
       "      <td>0.925134</td>\n",
       "      <td>0.926276</td>\n",
       "      <td>0.910496</td>\n",
       "      <td>0.927312</td>\n",
       "      <td>0.928454</td>\n",
       "      <td>0.908568</td>\n",
       "      <td>0.926883</td>\n",
       "      <td>0.928008</td>\n",
       "    </tr>\n",
       "    <tr>\n",
       "      <th>std_test_accuracy</th>\n",
       "      <td>0.00278804</td>\n",
       "      <td>0.00298028</td>\n",
       "      <td>0.00273472</td>\n",
       "      <td>0.00417746</td>\n",
       "      <td>0.00179345</td>\n",
       "      <td>0.00213121</td>\n",
       "      <td>0.00349711</td>\n",
       "      <td>0.00150561</td>\n",
       "      <td>0.00216797</td>\n",
       "      <td>0.00232636</td>\n",
       "      <td>0.00201911</td>\n",
       "      <td>0.0020251</td>\n",
       "      <td>0.00445569</td>\n",
       "      <td>0.00168082</td>\n",
       "      <td>0.00243098</td>\n",
       "      <td>0.00344413</td>\n",
       "      <td>0.00209729</td>\n",
       "      <td>0.00200263</td>\n",
       "    </tr>\n",
       "    <tr>\n",
       "      <th>rank_test_accuracy</th>\n",
       "      <td>15</td>\n",
       "      <td>11</td>\n",
       "      <td>7</td>\n",
       "      <td>17</td>\n",
       "      <td>4</td>\n",
       "      <td>2</td>\n",
       "      <td>16</td>\n",
       "      <td>6</td>\n",
       "      <td>1</td>\n",
       "      <td>14</td>\n",
       "      <td>12</td>\n",
       "      <td>10</td>\n",
       "      <td>13</td>\n",
       "      <td>8</td>\n",
       "      <td>3</td>\n",
       "      <td>18</td>\n",
       "      <td>9</td>\n",
       "      <td>5</td>\n",
       "    </tr>\n",
       "    <tr>\n",
       "      <th>split0_test_precision</th>\n",
       "      <td>0.944561</td>\n",
       "      <td>0.954904</td>\n",
       "      <td>0.958984</td>\n",
       "      <td>0.939199</td>\n",
       "      <td>0.953288</td>\n",
       "      <td>0.956397</td>\n",
       "      <td>0.943165</td>\n",
       "      <td>0.950519</td>\n",
       "      <td>0.952953</td>\n",
       "      <td>0.94728</td>\n",
       "      <td>0.955846</td>\n",
       "      <td>0.957934</td>\n",
       "      <td>0.940134</td>\n",
       "      <td>0.954807</td>\n",
       "      <td>0.950163</td>\n",
       "      <td>0.941623</td>\n",
       "      <td>0.949318</td>\n",
       "      <td>0.950386</td>\n",
       "    </tr>\n",
       "    <tr>\n",
       "      <th>split1_test_precision</th>\n",
       "      <td>0.938335</td>\n",
       "      <td>0.961435</td>\n",
       "      <td>0.95936</td>\n",
       "      <td>0.929248</td>\n",
       "      <td>0.951111</td>\n",
       "      <td>0.953488</td>\n",
       "      <td>0.927035</td>\n",
       "      <td>0.945698</td>\n",
       "      <td>0.95122</td>\n",
       "      <td>0.949705</td>\n",
       "      <td>0.951215</td>\n",
       "      <td>0.955837</td>\n",
       "      <td>0.941213</td>\n",
       "      <td>0.948005</td>\n",
       "      <td>0.951613</td>\n",
       "      <td>0.930087</td>\n",
       "      <td>0.947887</td>\n",
       "      <td>0.947474</td>\n",
       "    </tr>\n",
       "    <tr>\n",
       "      <th>split2_test_precision</th>\n",
       "      <td>0.936538</td>\n",
       "      <td>0.954658</td>\n",
       "      <td>0.956531</td>\n",
       "      <td>0.93107</td>\n",
       "      <td>0.952625</td>\n",
       "      <td>0.950926</td>\n",
       "      <td>0.927793</td>\n",
       "      <td>0.951923</td>\n",
       "      <td>0.950693</td>\n",
       "      <td>0.935089</td>\n",
       "      <td>0.95464</td>\n",
       "      <td>0.959474</td>\n",
       "      <td>0.935524</td>\n",
       "      <td>0.949153</td>\n",
       "      <td>0.95103</td>\n",
       "      <td>0.932175</td>\n",
       "      <td>0.948519</td>\n",
       "      <td>0.949052</td>\n",
       "    </tr>\n",
       "    <tr>\n",
       "      <th>split3_test_precision</th>\n",
       "      <td>0.941597</td>\n",
       "      <td>0.962434</td>\n",
       "      <td>0.961586</td>\n",
       "      <td>0.942934</td>\n",
       "      <td>0.958076</td>\n",
       "      <td>0.958179</td>\n",
       "      <td>0.943274</td>\n",
       "      <td>0.956861</td>\n",
       "      <td>0.959058</td>\n",
       "      <td>0.949163</td>\n",
       "      <td>0.961042</td>\n",
       "      <td>0.964181</td>\n",
       "      <td>0.938151</td>\n",
       "      <td>0.95423</td>\n",
       "      <td>0.958496</td>\n",
       "      <td>0.935818</td>\n",
       "      <td>0.951702</td>\n",
       "      <td>0.953946</td>\n",
       "    </tr>\n",
       "    <tr>\n",
       "      <th>split4_test_precision</th>\n",
       "      <td>0.938771</td>\n",
       "      <td>0.954049</td>\n",
       "      <td>0.956682</td>\n",
       "      <td>0.930016</td>\n",
       "      <td>0.950617</td>\n",
       "      <td>0.954417</td>\n",
       "      <td>0.931041</td>\n",
       "      <td>0.944056</td>\n",
       "      <td>0.949139</td>\n",
       "      <td>0.942436</td>\n",
       "      <td>0.95316</td>\n",
       "      <td>0.953632</td>\n",
       "      <td>0.93437</td>\n",
       "      <td>0.949122</td>\n",
       "      <td>0.952884</td>\n",
       "      <td>0.942514</td>\n",
       "      <td>0.946103</td>\n",
       "      <td>0.948206</td>\n",
       "    </tr>\n",
       "    <tr>\n",
       "      <th>mean_test_precision</th>\n",
       "      <td>0.93996</td>\n",
       "      <td>0.957496</td>\n",
       "      <td>0.958629</td>\n",
       "      <td>0.934494</td>\n",
       "      <td>0.953144</td>\n",
       "      <td>0.954681</td>\n",
       "      <td>0.934462</td>\n",
       "      <td>0.949811</td>\n",
       "      <td>0.952613</td>\n",
       "      <td>0.944735</td>\n",
       "      <td>0.95518</td>\n",
       "      <td>0.958212</td>\n",
       "      <td>0.937878</td>\n",
       "      <td>0.951063</td>\n",
       "      <td>0.952837</td>\n",
       "      <td>0.936443</td>\n",
       "      <td>0.948706</td>\n",
       "      <td>0.949813</td>\n",
       "    </tr>\n",
       "    <tr>\n",
       "      <th>std_test_precision</th>\n",
       "      <td>0.00281463</td>\n",
       "      <td>0.00364846</td>\n",
       "      <td>0.00187604</td>\n",
       "      <td>0.00552568</td>\n",
       "      <td>0.00265089</td>\n",
       "      <td>0.00248058</td>\n",
       "      <td>0.00727656</td>\n",
       "      <td>0.00457616</td>\n",
       "      <td>0.00344547</td>\n",
       "      <td>0.00546112</td>\n",
       "      <td>0.00331357</td>\n",
       "      <td>0.00357541</td>\n",
       "      <td>0.0026126</td>\n",
       "      <td>0.00285711</td>\n",
       "      <td>0.00296435</td>\n",
       "      <td>0.00495372</td>\n",
       "      <td>0.00183464</td>\n",
       "      <td>0.0022821</td>\n",
       "    </tr>\n",
       "    <tr>\n",
       "      <th>rank_test_precision</th>\n",
       "      <td>14</td>\n",
       "      <td>3</td>\n",
       "      <td>1</td>\n",
       "      <td>17</td>\n",
       "      <td>6</td>\n",
       "      <td>5</td>\n",
       "      <td>18</td>\n",
       "      <td>11</td>\n",
       "      <td>8</td>\n",
       "      <td>13</td>\n",
       "      <td>4</td>\n",
       "      <td>2</td>\n",
       "      <td>15</td>\n",
       "      <td>9</td>\n",
       "      <td>7</td>\n",
       "      <td>16</td>\n",
       "      <td>12</td>\n",
       "      <td>10</td>\n",
       "    </tr>\n",
       "  </tbody>\n",
       "</table>\n",
       "</div>"
      ],
      "text/plain": [
       "                                                                       0  \\\n",
       "mean_fit_time                                                    10.1138   \n",
       "std_fit_time                                                    0.350329   \n",
       "mean_score_time                                                 0.111172   \n",
       "std_score_time                                                 0.0147697   \n",
       "param_criterion                                                     gini   \n",
       "param_max_depth                                                      100   \n",
       "param_n_estimators                                                    10   \n",
       "params                 {'criterion': 'gini', 'max_depth': 100, 'n_est...   \n",
       "split0_test_accuracy                                            0.910925   \n",
       "split1_test_accuracy                                            0.912263   \n",
       "split2_test_accuracy                                            0.906105   \n",
       "split3_test_accuracy                                            0.906819   \n",
       "split4_test_accuracy                                            0.912799   \n",
       "mean_test_accuracy                                              0.909782   \n",
       "std_test_accuracy                                             0.00278804   \n",
       "rank_test_accuracy                                                    15   \n",
       "split0_test_precision                                           0.944561   \n",
       "split1_test_precision                                           0.938335   \n",
       "split2_test_precision                                           0.936538   \n",
       "split3_test_precision                                           0.941597   \n",
       "split4_test_precision                                           0.938771   \n",
       "mean_test_precision                                              0.93996   \n",
       "std_test_precision                                            0.00281463   \n",
       "rank_test_precision                                                   14   \n",
       "\n",
       "                                                                       1  \\\n",
       "mean_fit_time                                                    50.2015   \n",
       "std_fit_time                                                     1.54563   \n",
       "mean_score_time                                                 0.390923   \n",
       "std_score_time                                                 0.0267132   \n",
       "param_criterion                                                     gini   \n",
       "param_max_depth                                                      100   \n",
       "param_n_estimators                                                    50   \n",
       "params                 {'criterion': 'gini', 'max_depth': 100, 'n_est...   \n",
       "split0_test_accuracy                                            0.922349   \n",
       "split1_test_accuracy                                            0.931007   \n",
       "split2_test_accuracy                                            0.923599   \n",
       "split3_test_accuracy                                            0.924938   \n",
       "split4_test_accuracy                                            0.924938   \n",
       "mean_test_accuracy                                              0.925366   \n",
       "std_test_accuracy                                             0.00298028   \n",
       "rank_test_accuracy                                                    11   \n",
       "split0_test_precision                                           0.954904   \n",
       "split1_test_precision                                           0.961435   \n",
       "split2_test_precision                                           0.954658   \n",
       "split3_test_precision                                           0.962434   \n",
       "split4_test_precision                                           0.954049   \n",
       "mean_test_precision                                             0.957496   \n",
       "std_test_precision                                            0.00364846   \n",
       "rank_test_precision                                                    3   \n",
       "\n",
       "                                                                       2  \\\n",
       "mean_fit_time                                                    97.3079   \n",
       "std_fit_time                                                    0.707187   \n",
       "mean_score_time                                                 0.714521   \n",
       "std_score_time                                                 0.0723736   \n",
       "param_criterion                                                     gini   \n",
       "param_max_depth                                                      100   \n",
       "param_n_estimators                                                   100   \n",
       "params                 {'criterion': 'gini', 'max_depth': 100, 'n_est...   \n",
       "split0_test_accuracy                                            0.925116   \n",
       "split1_test_accuracy                                            0.931096   \n",
       "split2_test_accuracy                                             0.92342   \n",
       "split3_test_accuracy                                            0.928418   \n",
       "split4_test_accuracy                                            0.928686   \n",
       "mean_test_accuracy                                              0.927347   \n",
       "std_test_accuracy                                             0.00273472   \n",
       "rank_test_accuracy                                                     7   \n",
       "split0_test_precision                                           0.958984   \n",
       "split1_test_precision                                            0.95936   \n",
       "split2_test_precision                                           0.956531   \n",
       "split3_test_precision                                           0.961586   \n",
       "split4_test_precision                                           0.956682   \n",
       "mean_test_precision                                             0.958629   \n",
       "std_test_precision                                            0.00187604   \n",
       "rank_test_precision                                                    1   \n",
       "\n",
       "                                                                       3  \\\n",
       "mean_fit_time                                                    11.9103   \n",
       "std_fit_time                                                    0.396083   \n",
       "mean_score_time                                                 0.109938   \n",
       "std_score_time                                                 0.0118875   \n",
       "param_criterion                                                     gini   \n",
       "param_max_depth                                                      200   \n",
       "param_n_estimators                                                    10   \n",
       "params                 {'criterion': 'gini', 'max_depth': 200, 'n_est...   \n",
       "split0_test_accuracy                                            0.909407   \n",
       "split1_test_accuracy                                            0.911728   \n",
       "split2_test_accuracy                                            0.901107   \n",
       "split3_test_accuracy                                             0.91262   \n",
       "split4_test_accuracy                                            0.911103   \n",
       "mean_test_accuracy                                              0.909193   \n",
       "std_test_accuracy                                             0.00417746   \n",
       "rank_test_accuracy                                                    17   \n",
       "split0_test_precision                                           0.939199   \n",
       "split1_test_precision                                           0.929248   \n",
       "split2_test_precision                                            0.93107   \n",
       "split3_test_precision                                           0.942934   \n",
       "split4_test_precision                                           0.930016   \n",
       "mean_test_precision                                             0.934494   \n",
       "std_test_precision                                            0.00552568   \n",
       "rank_test_precision                                                   17   \n",
       "\n",
       "                                                                       4  \\\n",
       "mean_fit_time                                                    60.9297   \n",
       "std_fit_time                                                    0.519858   \n",
       "mean_score_time                                                 0.436449   \n",
       "std_score_time                                                  0.034731   \n",
       "param_criterion                                                     gini   \n",
       "param_max_depth                                                      200   \n",
       "param_n_estimators                                                    50   \n",
       "params                 {'criterion': 'gini', 'max_depth': 200, 'n_est...   \n",
       "split0_test_accuracy                                            0.926544   \n",
       "split1_test_accuracy                                            0.930203   \n",
       "split2_test_accuracy                                            0.925562   \n",
       "split3_test_accuracy                                            0.929489   \n",
       "split4_test_accuracy                                            0.929043   \n",
       "mean_test_accuracy                                              0.928169   \n",
       "std_test_accuracy                                             0.00179345   \n",
       "rank_test_accuracy                                                     4   \n",
       "split0_test_precision                                           0.953288   \n",
       "split1_test_precision                                           0.951111   \n",
       "split2_test_precision                                           0.952625   \n",
       "split3_test_precision                                           0.958076   \n",
       "split4_test_precision                                           0.950617   \n",
       "mean_test_precision                                             0.953144   \n",
       "std_test_precision                                            0.00265089   \n",
       "rank_test_precision                                                    6   \n",
       "\n",
       "                                                                       5  \\\n",
       "mean_fit_time                                                    120.089   \n",
       "std_fit_time                                                     4.43858   \n",
       "mean_score_time                                                 0.778295   \n",
       "std_score_time                                                 0.0433503   \n",
       "param_criterion                                                     gini   \n",
       "param_max_depth                                                      200   \n",
       "param_n_estimators                                                   100   \n",
       "params                 {'criterion': 'gini', 'max_depth': 200, 'n_est...   \n",
       "split0_test_accuracy                                            0.927704   \n",
       "split1_test_accuracy                                            0.931899   \n",
       "split2_test_accuracy                                            0.926901   \n",
       "split3_test_accuracy                                            0.928597   \n",
       "split4_test_accuracy                                            0.931989   \n",
       "mean_test_accuracy                                              0.929418   \n",
       "std_test_accuracy                                             0.00213121   \n",
       "rank_test_accuracy                                                     2   \n",
       "split0_test_precision                                           0.956397   \n",
       "split1_test_precision                                           0.953488   \n",
       "split2_test_precision                                           0.950926   \n",
       "split3_test_precision                                           0.958179   \n",
       "split4_test_precision                                           0.954417   \n",
       "mean_test_precision                                             0.954681   \n",
       "std_test_precision                                            0.00248058   \n",
       "rank_test_precision                                                    5   \n",
       "\n",
       "                                                                       6  \\\n",
       "mean_fit_time                                                    12.1121   \n",
       "std_fit_time                                                    0.313177   \n",
       "mean_score_time                                                 0.109747   \n",
       "std_score_time                                                0.00749082   \n",
       "param_criterion                                                     gini   \n",
       "param_max_depth                                                      300   \n",
       "param_n_estimators                                                    10   \n",
       "params                 {'criterion': 'gini', 'max_depth': 300, 'n_est...   \n",
       "split0_test_accuracy                                            0.912978   \n",
       "split1_test_accuracy                                            0.910835   \n",
       "split2_test_accuracy                                            0.902803   \n",
       "split3_test_accuracy                                            0.911014   \n",
       "split4_test_accuracy                                            0.909854   \n",
       "mean_test_accuracy                                              0.909497   \n",
       "std_test_accuracy                                             0.00349711   \n",
       "rank_test_accuracy                                                    16   \n",
       "split0_test_precision                                           0.943165   \n",
       "split1_test_precision                                           0.927035   \n",
       "split2_test_precision                                           0.927793   \n",
       "split3_test_precision                                           0.943274   \n",
       "split4_test_precision                                           0.931041   \n",
       "mean_test_precision                                             0.934462   \n",
       "std_test_precision                                            0.00727656   \n",
       "rank_test_precision                                                   18   \n",
       "\n",
       "                                                                       7  \\\n",
       "mean_fit_time                                                    61.7482   \n",
       "std_fit_time                                                     1.15035   \n",
       "mean_score_time                                                 0.415217   \n",
       "std_score_time                                                 0.0366547   \n",
       "param_criterion                                                     gini   \n",
       "param_max_depth                                                      300   \n",
       "param_n_estimators                                                    50   \n",
       "params                 {'criterion': 'gini', 'max_depth': 300, 'n_est...   \n",
       "split0_test_accuracy                                            0.926544   \n",
       "split1_test_accuracy                                            0.930114   \n",
       "split2_test_accuracy                                            0.925919   \n",
       "split3_test_accuracy                                            0.928597   \n",
       "split4_test_accuracy                                            0.928329   \n",
       "mean_test_accuracy                                              0.927901   \n",
       "std_test_accuracy                                             0.00150561   \n",
       "rank_test_accuracy                                                     6   \n",
       "split0_test_precision                                           0.950519   \n",
       "split1_test_precision                                           0.945698   \n",
       "split2_test_precision                                           0.951923   \n",
       "split3_test_precision                                           0.956861   \n",
       "split4_test_precision                                           0.944056   \n",
       "mean_test_precision                                             0.949811   \n",
       "std_test_precision                                            0.00457616   \n",
       "rank_test_precision                                                   11   \n",
       "\n",
       "                                                                       8  \\\n",
       "mean_fit_time                                                    125.405   \n",
       "std_fit_time                                                     2.24362   \n",
       "mean_score_time                                                 0.817657   \n",
       "std_score_time                                                 0.0426651   \n",
       "param_criterion                                                     gini   \n",
       "param_max_depth                                                      300   \n",
       "param_n_estimators                                                   100   \n",
       "params                 {'criterion': 'gini', 'max_depth': 300, 'n_est...   \n",
       "split0_test_accuracy                                            0.928597   \n",
       "split1_test_accuracy                                            0.931185   \n",
       "split2_test_accuracy                                            0.926455   \n",
       "split3_test_accuracy                                            0.931899   \n",
       "split4_test_accuracy                                            0.931989   \n",
       "mean_test_accuracy                                              0.930025   \n",
       "std_test_accuracy                                             0.00216797   \n",
       "rank_test_accuracy                                                     1   \n",
       "split0_test_precision                                           0.952953   \n",
       "split1_test_precision                                            0.95122   \n",
       "split2_test_precision                                           0.950693   \n",
       "split3_test_precision                                           0.959058   \n",
       "split4_test_precision                                           0.949139   \n",
       "mean_test_precision                                             0.952613   \n",
       "std_test_precision                                            0.00344547   \n",
       "rank_test_precision                                                    8   \n",
       "\n",
       "                                                                       9  \\\n",
       "mean_fit_time                                                    9.69765   \n",
       "std_fit_time                                                     0.45115   \n",
       "mean_score_time                                                 0.100462   \n",
       "std_score_time                                                0.00726666   \n",
       "param_criterion                                                  entropy   \n",
       "param_max_depth                                                      100   \n",
       "param_n_estimators                                                    10   \n",
       "params                 {'criterion': 'entropy', 'max_depth': 100, 'n_...   \n",
       "split0_test_accuracy                                            0.910211   \n",
       "split1_test_accuracy                                            0.913067   \n",
       "split2_test_accuracy                                            0.906105   \n",
       "split3_test_accuracy                                            0.910121   \n",
       "split4_test_accuracy                                            0.911639   \n",
       "mean_test_accuracy                                              0.910228   \n",
       "std_test_accuracy                                             0.00232636   \n",
       "rank_test_accuracy                                                    14   \n",
       "split0_test_precision                                            0.94728   \n",
       "split1_test_precision                                           0.949705   \n",
       "split2_test_precision                                           0.935089   \n",
       "split3_test_precision                                           0.949163   \n",
       "split4_test_precision                                           0.942436   \n",
       "mean_test_precision                                             0.944735   \n",
       "std_test_precision                                            0.00546112   \n",
       "rank_test_precision                                                   13   \n",
       "\n",
       "                                                                      10  \\\n",
       "mean_fit_time                                                    46.9242   \n",
       "std_fit_time                                                    0.999656   \n",
       "mean_score_time                                                  0.34005   \n",
       "std_score_time                                                 0.0135063   \n",
       "param_criterion                                                  entropy   \n",
       "param_max_depth                                                      100   \n",
       "param_n_estimators                                                    50   \n",
       "params                 {'criterion': 'entropy', 'max_depth': 100, 'n_...   \n",
       "split0_test_accuracy                                            0.924134   \n",
       "split1_test_accuracy                                            0.926187   \n",
       "split2_test_accuracy                                            0.921635   \n",
       "split3_test_accuracy                                            0.926633   \n",
       "split4_test_accuracy                                             0.92708   \n",
       "mean_test_accuracy                                              0.925134   \n",
       "std_test_accuracy                                             0.00201911   \n",
       "rank_test_accuracy                                                    12   \n",
       "split0_test_precision                                           0.955846   \n",
       "split1_test_precision                                           0.951215   \n",
       "split2_test_precision                                            0.95464   \n",
       "split3_test_precision                                           0.961042   \n",
       "split4_test_precision                                            0.95316   \n",
       "mean_test_precision                                              0.95518   \n",
       "std_test_precision                                            0.00331357   \n",
       "rank_test_precision                                                    4   \n",
       "\n",
       "                                                                      11  \\\n",
       "mean_fit_time                                                    94.4472   \n",
       "std_fit_time                                                     2.17796   \n",
       "mean_score_time                                                 0.686683   \n",
       "std_score_time                                                 0.0274505   \n",
       "param_criterion                                                  entropy   \n",
       "param_max_depth                                                      100   \n",
       "param_n_estimators                                                   100   \n",
       "params                 {'criterion': 'entropy', 'max_depth': 100, 'n_...   \n",
       "split0_test_accuracy                                            0.924134   \n",
       "split1_test_accuracy                                            0.929579   \n",
       "split2_test_accuracy                                            0.924223   \n",
       "split3_test_accuracy                                            0.927169   \n",
       "split4_test_accuracy                                            0.926276   \n",
       "mean_test_accuracy                                              0.926276   \n",
       "std_test_accuracy                                              0.0020251   \n",
       "rank_test_accuracy                                                    10   \n",
       "split0_test_precision                                           0.957934   \n",
       "split1_test_precision                                           0.955837   \n",
       "split2_test_precision                                           0.959474   \n",
       "split3_test_precision                                           0.964181   \n",
       "split4_test_precision                                           0.953632   \n",
       "mean_test_precision                                             0.958212   \n",
       "std_test_precision                                            0.00357541   \n",
       "rank_test_precision                                                    2   \n",
       "\n",
       "                                                                      12  \\\n",
       "mean_fit_time                                                    11.9718   \n",
       "std_fit_time                                                    0.204473   \n",
       "mean_score_time                                                 0.108183   \n",
       "std_score_time                                                0.00358165   \n",
       "param_criterion                                                  entropy   \n",
       "param_max_depth                                                      200   \n",
       "param_n_estimators                                                    10   \n",
       "params                 {'criterion': 'entropy', 'max_depth': 200, 'n_...   \n",
       "split0_test_accuracy                                            0.908247   \n",
       "split1_test_accuracy                                            0.916101   \n",
       "split2_test_accuracy                                            0.905391   \n",
       "split3_test_accuracy                                            0.907176   \n",
       "split4_test_accuracy                                            0.915566   \n",
       "mean_test_accuracy                                              0.910496   \n",
       "std_test_accuracy                                             0.00445569   \n",
       "rank_test_accuracy                                                    13   \n",
       "split0_test_precision                                           0.940134   \n",
       "split1_test_precision                                           0.941213   \n",
       "split2_test_precision                                           0.935524   \n",
       "split3_test_precision                                           0.938151   \n",
       "split4_test_precision                                            0.93437   \n",
       "mean_test_precision                                             0.937878   \n",
       "std_test_precision                                             0.0026126   \n",
       "rank_test_precision                                                   15   \n",
       "\n",
       "                                                                      13  \\\n",
       "mean_fit_time                                                    62.4021   \n",
       "std_fit_time                                                     2.73285   \n",
       "mean_score_time                                                 0.379529   \n",
       "std_score_time                                                0.00839794   \n",
       "param_criterion                                                  entropy   \n",
       "param_max_depth                                                      200   \n",
       "param_n_estimators                                                    50   \n",
       "params                 {'criterion': 'entropy', 'max_depth': 200, 'n_...   \n",
       "split0_test_accuracy                                            0.926812   \n",
       "split1_test_accuracy                                            0.928418   \n",
       "split2_test_accuracy                                            0.924223   \n",
       "split3_test_accuracy                                            0.928418   \n",
       "split4_test_accuracy                                            0.928686   \n",
       "mean_test_accuracy                                              0.927312   \n",
       "std_test_accuracy                                             0.00168082   \n",
       "rank_test_accuracy                                                     8   \n",
       "split0_test_precision                                           0.954807   \n",
       "split1_test_precision                                           0.948005   \n",
       "split2_test_precision                                           0.949153   \n",
       "split3_test_precision                                            0.95423   \n",
       "split4_test_precision                                           0.949122   \n",
       "mean_test_precision                                             0.951063   \n",
       "std_test_precision                                            0.00285711   \n",
       "rank_test_precision                                                    9   \n",
       "\n",
       "                                                                      14  \\\n",
       "mean_fit_time                                                    121.479   \n",
       "std_fit_time                                                     1.76705   \n",
       "mean_score_time                                                  0.71145   \n",
       "std_score_time                                                 0.0172479   \n",
       "param_criterion                                                  entropy   \n",
       "param_max_depth                                                      200   \n",
       "param_n_estimators                                                   100   \n",
       "params                 {'criterion': 'entropy', 'max_depth': 200, 'n_...   \n",
       "split0_test_accuracy                                            0.925027   \n",
       "split1_test_accuracy                                            0.931453   \n",
       "split2_test_accuracy                                            0.926187   \n",
       "split3_test_accuracy                                            0.929936   \n",
       "split4_test_accuracy                                            0.929668   \n",
       "mean_test_accuracy                                              0.928454   \n",
       "std_test_accuracy                                             0.00243098   \n",
       "rank_test_accuracy                                                     3   \n",
       "split0_test_precision                                           0.950163   \n",
       "split1_test_precision                                           0.951613   \n",
       "split2_test_precision                                            0.95103   \n",
       "split3_test_precision                                           0.958496   \n",
       "split4_test_precision                                           0.952884   \n",
       "mean_test_precision                                             0.952837   \n",
       "std_test_precision                                            0.00296435   \n",
       "rank_test_precision                                                    7   \n",
       "\n",
       "                                                                      15  \\\n",
       "mean_fit_time                                                    12.5959   \n",
       "std_fit_time                                                    0.232091   \n",
       "mean_score_time                                                 0.105602   \n",
       "std_score_time                                                0.00922479   \n",
       "param_criterion                                                  entropy   \n",
       "param_max_depth                                                      300   \n",
       "param_n_estimators                                                    10   \n",
       "params                 {'criterion': 'entropy', 'max_depth': 300, 'n_...   \n",
       "split0_test_accuracy                                            0.905659   \n",
       "split1_test_accuracy                                            0.911549   \n",
       "split2_test_accuracy                                            0.904677   \n",
       "split3_test_accuracy                                            0.907355   \n",
       "split4_test_accuracy                                            0.913602   \n",
       "mean_test_accuracy                                              0.908568   \n",
       "std_test_accuracy                                             0.00344413   \n",
       "rank_test_accuracy                                                    18   \n",
       "split0_test_precision                                           0.941623   \n",
       "split1_test_precision                                           0.930087   \n",
       "split2_test_precision                                           0.932175   \n",
       "split3_test_precision                                           0.935818   \n",
       "split4_test_precision                                           0.942514   \n",
       "mean_test_precision                                             0.936443   \n",
       "std_test_precision                                            0.00495372   \n",
       "rank_test_precision                                                   16   \n",
       "\n",
       "                                                                      16  \\\n",
       "mean_fit_time                                                    63.2365   \n",
       "std_fit_time                                                     1.44242   \n",
       "mean_score_time                                                 0.387211   \n",
       "std_score_time                                                 0.0042148   \n",
       "param_criterion                                                  entropy   \n",
       "param_max_depth                                                      300   \n",
       "param_n_estimators                                                    50   \n",
       "params                 {'criterion': 'entropy', 'max_depth': 300, 'n_...   \n",
       "split0_test_accuracy                                            0.925652   \n",
       "split1_test_accuracy                                            0.928954   \n",
       "split2_test_accuracy                                            0.923509   \n",
       "split3_test_accuracy                                            0.927258   \n",
       "split4_test_accuracy                                            0.929043   \n",
       "mean_test_accuracy                                              0.926883   \n",
       "std_test_accuracy                                             0.00209729   \n",
       "rank_test_accuracy                                                     9   \n",
       "split0_test_precision                                           0.949318   \n",
       "split1_test_precision                                           0.947887   \n",
       "split2_test_precision                                           0.948519   \n",
       "split3_test_precision                                           0.951702   \n",
       "split4_test_precision                                           0.946103   \n",
       "mean_test_precision                                             0.948706   \n",
       "std_test_precision                                            0.00183464   \n",
       "rank_test_precision                                                   12   \n",
       "\n",
       "                                                                      17  \n",
       "mean_fit_time                                                    129.649  \n",
       "std_fit_time                                                     1.20682  \n",
       "mean_score_time                                                  0.81502  \n",
       "std_score_time                                                 0.0786976  \n",
       "param_criterion                                                  entropy  \n",
       "param_max_depth                                                      300  \n",
       "param_n_estimators                                                   100  \n",
       "params                 {'criterion': 'entropy', 'max_depth': 300, 'n_...  \n",
       "split0_test_accuracy                                             0.92699  \n",
       "split1_test_accuracy                                            0.928508  \n",
       "split2_test_accuracy                                            0.924938  \n",
       "split3_test_accuracy                                            0.931007  \n",
       "split4_test_accuracy                                            0.928597  \n",
       "mean_test_accuracy                                              0.928008  \n",
       "std_test_accuracy                                             0.00200263  \n",
       "rank_test_accuracy                                                     5  \n",
       "split0_test_precision                                           0.950386  \n",
       "split1_test_precision                                           0.947474  \n",
       "split2_test_precision                                           0.949052  \n",
       "split3_test_precision                                           0.953946  \n",
       "split4_test_precision                                           0.948206  \n",
       "mean_test_precision                                             0.949813  \n",
       "std_test_precision                                             0.0022821  \n",
       "rank_test_precision                                                   10  "
      ]
     },
     "execution_count": 36,
     "metadata": {},
     "output_type": "execute_result"
    }
   ],
   "source": [
    "#5 K-folds done by default\n",
    "\n",
    "pd.DataFrame(gs.cv_results_).T"
   ]
  },
  {
   "cell_type": "code",
   "execution_count": 37,
   "metadata": {},
   "outputs": [
    {
     "data": {
      "text/plain": [
       "RandomForestClassifier(max_depth=100)"
      ]
     },
     "execution_count": 37,
     "metadata": {},
     "output_type": "execute_result"
    }
   ],
   "source": [
    "gs.best_estimator_"
   ]
  },
  {
   "cell_type": "code",
   "execution_count": 38,
   "metadata": {},
   "outputs": [
    {
     "data": {
      "text/plain": [
       "{'criterion': 'gini', 'max_depth': 100, 'n_estimators': 100}"
      ]
     },
     "execution_count": 38,
     "metadata": {},
     "output_type": "execute_result"
    }
   ],
   "source": [
    "#best hyperparameters\n",
    "\n",
    "gs.best_params_"
   ]
  },
  {
   "cell_type": "markdown",
   "metadata": {},
   "source": [
    "## Using validation split to plot a ROC curve"
   ]
  },
  {
   "cell_type": "code",
   "execution_count": 19,
   "metadata": {},
   "outputs": [],
   "source": [
    "# Validation Split\n",
    "\n",
    "X_valtrain, X_valtest, y_valtrain, y_valtest = train_test_split(X_train, y_train, test_size=0.2, random_state=1, stratify=y_train)"
   ]
  },
  {
   "cell_type": "code",
   "execution_count": 20,
   "metadata": {},
   "outputs": [],
   "source": [
    "# Term frequency-Inverse document frequency vectorizer with bigrams and trigrams, top 20,000 highest weighted tokens\n",
    "tfidf_val = TfidfVectorizer(preprocessor=preprocessor, stop_words=stopwords_list() + ['reuters'], ngram_range=(1, 3), max_features=20000)\n",
    "tfidf_val_model = tfidf_val.fit(X_valtrain)\n"
   ]
  },
  {
   "cell_type": "code",
   "execution_count": 22,
   "metadata": {},
   "outputs": [],
   "source": [
    "# transform the validation training data using the tfidf vectorizer\n",
    "tfidf_X_valtrain = tfidf_val_model.transform(X_valtrain)"
   ]
  },
  {
   "cell_type": "code",
   "execution_count": 23,
   "metadata": {},
   "outputs": [],
   "source": [
    "# transform the testing validation data using the tfidf vectorizer\n",
    "tfidf_X_valtest = tfidf_val_model.transform(X_valtest)"
   ]
  },
  {
   "cell_type": "code",
   "execution_count": 28,
   "metadata": {},
   "outputs": [],
   "source": [
    "rfc_val = RandomForestClassifier(criterion='gini', max_depth = 200, n_estimators = 50, max_features = 'auto', oob_score = True, random_state=42).fit(tfidf_X_valtrain, y_valtrain)\n",
    "rfc_val_probs = rfc_val.predict_proba(tfidf_X_valtest)\n",
    "\n"
   ]
  },
  {
   "cell_type": "code",
   "execution_count": 25,
   "metadata": {},
   "outputs": [],
   "source": [
    "lf_val = LogisticRegression(max_iter = 400, random_state = 42).fit(tfidf_X_valtrain, y_valtrain)\n",
    "lf_val_probs = lf_val.predict_proba(tfidf_X_valtest)"
   ]
  },
  {
   "cell_type": "code",
   "execution_count": 26,
   "metadata": {},
   "outputs": [],
   "source": [
    "gbc_val = GradientBoostingClassifier(random_state = 42).fit(tfidf_X_valtrain, y_valtrain)\n",
    "gbc_val_probs = gbc_val.predict_proba(tfidf_X_valtest)"
   ]
  },
  {
   "cell_type": "code",
   "execution_count": 27,
   "metadata": {},
   "outputs": [],
   "source": [
    "nb_val = MultinomialNB(alpha=0.1).fit(tfidf_X_valtrain, y_valtrain)\n",
    "nb_val_probs = nb_val.predict_proba(tfidf_X_valtest)"
   ]
  },
  {
   "cell_type": "code",
   "execution_count": 113,
   "metadata": {},
   "outputs": [
    {
     "data": {
      "text/plain": [
       "array([[0.14      , 0.86      ],\n",
       "       [0.9631829 , 0.0368171 ],\n",
       "       [0.06      , 0.94      ],\n",
       "       ...,\n",
       "       [0.82916294, 0.17083706],\n",
       "       [0.96594692, 0.03405308],\n",
       "       [0.92551262, 0.07448738]])"
      ]
     },
     "execution_count": 113,
     "metadata": {},
     "output_type": "execute_result"
    }
   ],
   "source": [
    "rfc_val_probs"
   ]
  },
  {
   "cell_type": "code",
   "execution_count": null,
   "metadata": {},
   "outputs": [],
   "source": []
  },
  {
   "cell_type": "code",
   "execution_count": 29,
   "metadata": {},
   "outputs": [
    {
     "data": {
      "image/png": "[encoded data removed]",
      "text/plain": [
       "<Figure size 720x432 with 1 Axes>"
      ]
     },
     "metadata": {
      "needs_background": "light"
     },
     "output_type": "display_data"
    }
   ],
   "source": [
    "fig, ax = plt.subplots(1, figsize=(10,6))\n",
    "\n",
    "rfc_df = calculate_threshold_values(rfc_val_probs[:,1], y_valtest)\n",
    "plot_roc(ax, rfc_df, 'Random Forest Classifier')\n",
    "\n",
    "lf_df = calculate_threshold_values(lf_val_probs[:,1], y_valtest)\n",
    "plot_roc(ax, lf_df, 'Logistic Regression')\n",
    "\n",
    "gbc_df = calculate_threshold_values(gbc_val_probs[:,1], y_valtest)\n",
    "plot_roc(ax, gbc_df, 'Gradient Boosted Classifier')\n",
    "\n",
    "nb_df = calculate_threshold_values(nb_val_probs[:,1], y_valtest)\n",
    "plot_roc(ax, nb_df, 'Multinomial Naive Bayes')\n",
    "\n",
    "ax.plot([0,1],[0,1], 'k', label=\"Random Chance\")\n",
    "\n",
    "ax.legend()\n",
    "plt.tight_layout()\n",
    "# plt.savefig('images/roc.jpg')"
   ]
  },
  {
   "cell_type": "code",
   "execution_count": null,
   "metadata": {},
   "outputs": [],
   "source": []
  },
  {
   "cell_type": "code",
   "execution_count": null,
   "metadata": {},
   "outputs": [],
   "source": []
  },
  {
   "cell_type": "markdown",
   "metadata": {},
   "source": [
    "## RFC on Final Test Set"
   ]
  },
  {
   "cell_type": "code",
   "execution_count": 10,
   "metadata": {},
   "outputs": [
    {
     "name": "stdout",
     "output_type": "stream",
     "text": [
      "0.9290789003927169\n"
     ]
    }
   ],
   "source": [
    "# Random Forest Classifier with params after using gridsearch\n",
    "\n",
    "rfc = RandomForestClassifier(criterion='gini', max_depth = 100, n_estimators = 100, max_features = 'auto', oob_score = True, random_state=42).fit(tfidf_X_train, y_train)\n",
    "print(rfc.oob_score_)"
   ]
  },
  {
   "cell_type": "code",
   "execution_count": 83,
   "metadata": {},
   "outputs": [],
   "source": [
    "feat_scores = pd.DataFrame({'Top 10 Important Features':rfc.feature_importances_}, index = columns)"
   ]
  },
  {
   "cell_type": "code",
   "execution_count": 84,
   "metadata": {},
   "outputs": [
    {
     "data": {
      "image/png": "[encoded data removed]",
      "text/plain": [
       "<Figure size 432x288 with 1 Axes>"
      ]
     },
     "metadata": {
      "needs_background": "light"
     },
     "output_type": "display_data"
    }
   ],
   "source": [
    "feat_scores.sort_values(by = 'Top 10 Important Features', ascending=False)[:10].plot(kind='bar');"
   ]
  },
  {
   "cell_type": "code",
   "execution_count": 11,
   "metadata": {},
   "outputs": [
    {
     "data": {
      "text/plain": [
       "0.9358132229044696"
      ]
     },
     "execution_count": 11,
     "metadata": {},
     "output_type": "execute_result"
    }
   ],
   "source": [
    "# Testing on holdout set from train-test split\n",
    "\n",
    "X_test_tfidf = tfidf.transform(X_test)\n",
    "y_hat = rfc.predict(X_test_tfidf)\n",
    "accuracy_score(y_test, y_hat)"
   ]
  },
  {
   "cell_type": "code",
   "execution_count": 12,
   "metadata": {},
   "outputs": [
    {
     "data": {
      "text/plain": [
       "0.9690140845070423"
      ]
     },
     "execution_count": 12,
     "metadata": {},
     "output_type": "execute_result"
    }
   ],
   "source": [
    "precision_score(y_test, y_hat)"
   ]
  },
  {
   "cell_type": "code",
   "execution_count": 13,
   "metadata": {},
   "outputs": [
    {
     "data": {
      "text/plain": [
       "0.8914634146341464"
      ]
     },
     "execution_count": 13,
     "metadata": {},
     "output_type": "execute_result"
    }
   ],
   "source": [
    "recall_score(y_test,y_hat)"
   ]
  },
  {
   "cell_type": "code",
   "execution_count": 79,
   "metadata": {},
   "outputs": [],
   "source": [
    "rfc_probs = rfc.predict_proba(X_test_tfidf)"
   ]
  },
  {
   "cell_type": "code",
   "execution_count": 80,
   "metadata": {},
   "outputs": [
    {
     "data": {
      "text/plain": [
       "(14006, 2)"
      ]
     },
     "execution_count": 80,
     "metadata": {},
     "output_type": "execute_result"
    }
   ],
   "source": [
    "rfc_probs.shape"
   ]
  },
  {
   "cell_type": "code",
   "execution_count": 19,
   "metadata": {},
   "outputs": [
    {
     "data": {
      "text/plain": [
       "array([[7208,  678],\n",
       "       [ 238, 5882]])"
      ]
     },
     "execution_count": 19,
     "metadata": {},
     "output_type": "execute_result"
    }
   ],
   "source": [
    "confusion_matrix(y_hat, y_test)"
   ]
  },
  {
   "cell_type": "code",
   "execution_count": 67,
   "metadata": {},
   "outputs": [
    {
     "data": {
      "image/png": "[encoded data removed]",
      "text/plain": [
       "<Figure size 432x288 with 1 Axes>"
      ]
     },
     "metadata": {},
     "output_type": "display_data"
    }
   ],
   "source": [
    "# Pie chart of confusion matrix\n",
    "tp = (7208/14006) * 100\n",
    "tn = (5882/14006) * 100\n",
    "fp = (238/14006) * 100\n",
    "fn = (678/14006) * 100\n",
    "\n",
    "labels = 'True Positives', 'False Positives (Actually Fake)', 'True Negatives', 'False Negatives (Actually Real)'\n",
    "sizes = [tp, fp, tn, fn]\n",
    "explode = (0, 0, 0, 0)\n",
    "\n",
    "fig1, ax1 = plt.subplots()\n",
    "ax1.pie(sizes, explode=explode, autopct='%1.1f%%',\n",
    "        shadow=True, startangle=90, pctdistance=0.7, textprops={'fontsize': 14})\n",
    "ax1.axis('equal')  # Equal aspect ratio ensures that pie is drawn as a circle.\n",
    "ax1.legend(labels,\n",
    "          loc=\"center left\",\n",
    "          bbox_to_anchor=(0.8, 0, 0.5, 1), fontsize = 12)\n",
    "ax1.set_title(\"Model Performance on Test Set \\n (53.2% Real, 46.8% Fake)\", fontsize = 18)\n",
    "\n",
    "plt.show()\n"
   ]
  },
  {
   "cell_type": "code",
   "execution_count": 190,
   "metadata": {},
   "outputs": [
    {
     "data": {
      "text/plain": [
       "(70026, 2)"
      ]
     },
     "execution_count": 190,
     "metadata": {},
     "output_type": "execute_result"
    }
   ],
   "source": [
    "df_all.shape"
   ]
  },
  {
   "cell_type": "code",
   "execution_count": 181,
   "metadata": {},
   "outputs": [
    {
     "data": {
      "text/html": [
       "<div>\n",
       "<style scoped>\n",
       "    .dataframe tbody tr th:only-of-type {\n",
       "        vertical-align: middle;\n",
       "    }\n",
       "\n",
       "    .dataframe tbody tr th {\n",
       "        vertical-align: top;\n",
       "    }\n",
       "\n",
       "    .dataframe thead th {\n",
       "        text-align: right;\n",
       "    }\n",
       "</style>\n",
       "<table border=\"1\" class=\"dataframe\">\n",
       "  <thead>\n",
       "    <tr style=\"text-align: right;\">\n",
       "      <th></th>\n",
       "      <th>text</th>\n",
       "      <th>label</th>\n",
       "    </tr>\n",
       "  </thead>\n",
       "  <tbody>\n",
       "    <tr>\n",
       "      <th>55001</th>\n",
       "      <td>Man Wasting His Life Playing Video Games When ...</td>\n",
       "      <td>0</td>\n",
       "    </tr>\n",
       "    <tr>\n",
       "      <th>55002</th>\n",
       "      <td>Ominous: The USDA Has Printed Gene Hackman’s N...</td>\n",
       "      <td>0</td>\n",
       "    </tr>\n",
       "    <tr>\n",
       "      <th>55003</th>\n",
       "      <td>News: UPDATE: Every Facebook User Who Clicked ...</td>\n",
       "      <td>0</td>\n",
       "    </tr>\n",
       "    <tr>\n",
       "      <th>55004</th>\n",
       "      <td>Mom Hasn’t Said Full, Uninterrupted Sentence T...</td>\n",
       "      <td>0</td>\n",
       "    </tr>\n",
       "  </tbody>\n",
       "</table>\n",
       "</div>"
      ],
      "text/plain": [
       "                                                    text  label\n",
       "55001  Man Wasting His Life Playing Video Games When ...      0\n",
       "55002  Ominous: The USDA Has Printed Gene Hackman’s N...      0\n",
       "55003  News: UPDATE: Every Facebook User Who Clicked ...      0\n",
       "55004  Mom Hasn’t Said Full, Uninterrupted Sentence T...      0"
      ]
     },
     "execution_count": 181,
     "metadata": {},
     "output_type": "execute_result"
    }
   ],
   "source": [
    "# kaggle (44898), politifact(8325), onion(9000), nyt(7803)\n",
    "\n",
    "df_all[55001:55005]"
   ]
  },
  {
   "cell_type": "code",
   "execution_count": 191,
   "metadata": {},
   "outputs": [
    {
     "data": {
      "text/html": [
       "<div>\n",
       "<style scoped>\n",
       "    .dataframe tbody tr th:only-of-type {\n",
       "        vertical-align: middle;\n",
       "    }\n",
       "\n",
       "    .dataframe tbody tr th {\n",
       "        vertical-align: top;\n",
       "    }\n",
       "\n",
       "    .dataframe thead th {\n",
       "        text-align: right;\n",
       "    }\n",
       "</style>\n",
       "<table border=\"1\" class=\"dataframe\">\n",
       "  <thead>\n",
       "    <tr style=\"text-align: right;\">\n",
       "      <th></th>\n",
       "      <th>text</th>\n",
       "      <th>label</th>\n",
       "    </tr>\n",
       "  </thead>\n",
       "  <tbody>\n",
       "    <tr>\n",
       "      <th>26000</th>\n",
       "      <td>WASHINGTON (Reuters) - The chairman of the Sen...</td>\n",
       "      <td>1</td>\n",
       "    </tr>\n",
       "    <tr>\n",
       "      <th>26001</th>\n",
       "      <td>WASHINGTON (Reuters) - Top Republican lawmaker...</td>\n",
       "      <td>1</td>\n",
       "    </tr>\n",
       "    <tr>\n",
       "      <th>26002</th>\n",
       "      <td>WASHINGTON (Reuters) - President Donald Trump’...</td>\n",
       "      <td>1</td>\n",
       "    </tr>\n",
       "    <tr>\n",
       "      <th>26003</th>\n",
       "      <td>BERLIN (Reuters) - Plans under consideration i...</td>\n",
       "      <td>1</td>\n",
       "    </tr>\n",
       "    <tr>\n",
       "      <th>26004</th>\n",
       "      <td>MOSCOW (Reuters) - Draft new U.S. sanctions ag...</td>\n",
       "      <td>1</td>\n",
       "    </tr>\n",
       "  </tbody>\n",
       "</table>\n",
       "</div>"
      ],
      "text/plain": [
       "                                                    text  label\n",
       "26000  WASHINGTON (Reuters) - The chairman of the Sen...      1\n",
       "26001  WASHINGTON (Reuters) - Top Republican lawmaker...      1\n",
       "26002  WASHINGTON (Reuters) - President Donald Trump’...      1\n",
       "26003  BERLIN (Reuters) - Plans under consideration i...      1\n",
       "26004  MOSCOW (Reuters) - Draft new U.S. sanctions ag...      1"
      ]
     },
     "execution_count": 191,
     "metadata": {},
     "output_type": "execute_result"
    }
   ],
   "source": [
    "# kaggle (44898), politifact(8325), onion(9000), nyt(7803)\n",
    "\n",
    "df_all[26000:26005]"
   ]
  },
  {
   "cell_type": "code",
   "execution_count": 188,
   "metadata": {},
   "outputs": [
    {
     "data": {
      "text/plain": [
       "'WASHINGTON (Reuters) - The chairman of the Senate Foreign Relations Committee said on Wednesday his panel was likely to strip out language imposing sanctions against North Korea from legislation that contains sanctions against Russia and Iran. Republican Senator Bob Corker told the Washington Post in an interview that doing so would ensure the measure could pass. Corker said the bill was likely to become law “very, very soon.” '"
      ]
     },
     "execution_count": 188,
     "metadata": {},
     "output_type": "execute_result"
    }
   ],
   "source": [
    "# Politifact Example\n",
    "\n",
    "df_all['text'][26000]"
   ]
  },
  {
   "cell_type": "code",
   "execution_count": 192,
   "metadata": {},
   "outputs": [
    {
     "data": {
      "text/html": [
       "<div>\n",
       "<style scoped>\n",
       "    .dataframe tbody tr th:only-of-type {\n",
       "        vertical-align: middle;\n",
       "    }\n",
       "\n",
       "    .dataframe tbody tr th {\n",
       "        vertical-align: top;\n",
       "    }\n",
       "\n",
       "    .dataframe thead th {\n",
       "        text-align: right;\n",
       "    }\n",
       "</style>\n",
       "<table border=\"1\" class=\"dataframe\">\n",
       "  <thead>\n",
       "    <tr style=\"text-align: right;\">\n",
       "      <th></th>\n",
       "      <th>text</th>\n",
       "      <th>label</th>\n",
       "    </tr>\n",
       "  </thead>\n",
       "  <tbody>\n",
       "    <tr>\n",
       "      <th>70000</th>\n",
       "      <td>WEST PALM BEACH, Fla.  —     Donald J. Trump o...</td>\n",
       "      <td>1</td>\n",
       "    </tr>\n",
       "    <tr>\n",
       "      <th>70001</th>\n",
       "      <td>WASHINGTON  —   President Obama designated two...</td>\n",
       "      <td>1</td>\n",
       "    </tr>\n",
       "    <tr>\n",
       "      <th>70002</th>\n",
       "      <td>For anyone who loves the spotlight, mothering ...</td>\n",
       "      <td>1</td>\n",
       "    </tr>\n",
       "    <tr>\n",
       "      <th>70003</th>\n",
       "      <td>Google is a top target for European regulators...</td>\n",
       "      <td>1</td>\n",
       "    </tr>\n",
       "    <tr>\n",
       "      <th>70004</th>\n",
       "      <td>SEATTLE  —   Some parents find peace of mind i...</td>\n",
       "      <td>1</td>\n",
       "    </tr>\n",
       "  </tbody>\n",
       "</table>\n",
       "</div>"
      ],
      "text/plain": [
       "                                                    text  label\n",
       "70000  WEST PALM BEACH, Fla.  —     Donald J. Trump o...      1\n",
       "70001  WASHINGTON  —   President Obama designated two...      1\n",
       "70002  For anyone who loves the spotlight, mothering ...      1\n",
       "70003  Google is a top target for European regulators...      1\n",
       "70004  SEATTLE  —   Some parents find peace of mind i...      1"
      ]
     },
     "execution_count": 192,
     "metadata": {},
     "output_type": "execute_result"
    }
   ],
   "source": [
    "# kaggle (44898), politifact(8325), onion(9000), nyt(7803)\n",
    "\n",
    "df_all[70000:70005]"
   ]
  },
  {
   "cell_type": "code",
   "execution_count": 194,
   "metadata": {},
   "outputs": [
    {
     "data": {
      "text/plain": [
       "'Google is a top target for European regulators and privacy watchdogs, who openly fear and distrust its dominance. The American tech giant’s search engine alone gobbles up roughly 90 percent of the European market. But a landmark court ruling intended to rein in Google has instead put it at the forefront of Europe’s enforcement of Internet privacy. That has upended conventional wisdom about the company and raised questions about the role of commercial interests in protecting people’s privacy, often with little or no transparency. In the almost two years since Europeans gained the “right to be forgotten” on the Internet, Google has passed judgment in over 418, 000 cases  —   roughly 572 a day  —   from people wanting links of certain search results to be removed, according to the company’’s records. It has approved fewer than half of those requests, all behind closed doors. Google’s total number of   judgments is double those of most of Europe’s biggest individual national authorities over the same period, even though these public agencies address a wider range of data protection complaints. Despite a history of animosity toward the company, national regulators have handed over the review powers to Google with few complaints, saying they are merely following Europe’s complex data protection rules. Other search companies, including Microsoft, have been given the same authority, though their number of judgments pales by comparison. Some consumer groups and privacy experts are not satisfied with that arrangement. They have sounded alarm bells over a   company  —   one that relies on tapping into people’s digital lives to make billions of dollars and that is the subject of multiple privacy and antitrust investigations  —   playing such a central role in protecting individuals’ data, and doing so in such a secretive manner. Google has not responded to requests, including an open letter last year from primarily European and American academics, to explain how its review process works. And since 2014, when “right to be forgotten” was enshrined, the company has declined to give any journalists access to its team of fewer than 50 employees  —   mostly lawyers and paralegals based at its Dublin offices  —   who review the demands. Google also did not respond to questions for this article about the decision process. “It’s a   solution,” said Luciano Floridi, a University of Oxford professor who previously sat on an advisory council to help Google handle its role as a de facto privacy regulator. “If Europe really wanted to regain control over personal data, giving Google this type of power is an odd outcome. ” Less than 1 percent of Google’s decisions are appealed to Europe’s privacy authorities, according to the regulators’ statistics, and those authorities said they generally ruled in the company’s favor. But several individuals who sent requests to Google told The New York Times that the lack of detail over how these decisions were made left them frustrated and, in some cases, angry that a company adjudicated on such delicate matters. These people spoke on the condition of anonymity because they did not want to publicize their own privacy cases. “If governments were handling ‘right to be forgotten,’ they would have to publish data,” said Martin Husovec, a professor at the Tilburg Institute for Law, Technology, and Society in the Netherlands, and a signatory of the open letter to Google. “But with Google, we can’t see what’s happening behind the company’s closed doors. ” After Europe’s highest court ruled in May 2014 that people with connections to the Continent could ask search engines like Google and Microsoft’s Bing to remove links about themselves from online search results, the companies were handed the power to decide which of these requests were legitimate. Citing European privacy rules, the European Court of Justice mandated that search engines, and not a public body, should be the first port of call for the decisions. Europe’s top court did not require that companies make their   process open to public scrutiny. People’s privacy requests must relate to online information, like personal circumstances or a past criminal conviction, that is no longer relevant or not in the public interest, definitions that privacy lawyers say are inherently fuzzy. Thus far, that has mostly involved people demanding mundane information like phone numbers or addresses be removed from links to online directories (the largest collective group of sites affected). Individuals have also requested that links to references about themselves on social media, including Facebook, be taken down. In some cases, however, newspaper articles, including one in The Times covering somewhat questionable business practices, have been removed from European search results. Elsewhere, a Romanian website that publishes court proceedings has been hit with complaints. People requesting the removal of links must submit an online form, attaching an official ID. Though Google would not comment publicly about the review process, two company executives gave some detail on how decisions were made. They spoke to The Times on the condition they not be named. Typically, requests are sent to Google’s legal team. Straightforward rulings, like those that involve a public figure who cannot legally apply for links to be removed, are handled by junior staff members. Tougher decisions are referred to senior lawyers who must weigh an individual’s privacy against the public’s right to information, the company officials said. When Google’s team accepts a request, it informs an individual that the privacy demand has been successful, while also notifying the website that links to certain European search results have been removed. The website cannot appeal the decision. If Google refuses the request, the company must tell an individual that the decision can be appealed, but does not specifically explain why the submission failed. Some European officials remain wary of handing Google the power to make privacy decisions, though they declined to comment publicly on the   privacy process. But regulators acknowledge that the company’s system  —   which has so far dealt with removal requests for 1. 4 million links  —   has proved surprisingly straightforward. Some officials also remain satisfied that Google makes these initial privacy rulings despite a lack of openness over how decisions are made. “When it comes to appeals, we agree with Google most of the time,” said Mathias Moulin, a deputy director at the Commission National de l’Informatique et des Libertés, the French privacy authority. This muted official response  —   from both European regulators and politicians  —   is partly because agencies lack the financial, technical and human resources to handle the substantial influx of “right to be forgotten” requests, according to regulatory officials and legal experts. Still, for privacy campaigners and some regulators, Google’s regulatory track record remains outweighed by Europe’s effectively handing the policing of one of its fundamental rights to a   company. “Is Google the right entity to have such power over these decisions?” said Johannes Caspar, supervisor at the Hamburg data protection authority, the primary regulator in Germany that oversees American tech companies such as Alphabet, the parent company of Google, and Facebook. “We have to live by European law, and that says Google must decide. ”'"
      ]
     },
     "execution_count": 194,
     "metadata": {},
     "output_type": "execute_result"
    }
   ],
   "source": [
    "# NYT Example\n",
    "\n",
    "df_all['text'][70003]"
   ]
  },
  {
   "cell_type": "code",
   "execution_count": 87,
   "metadata": {},
   "outputs": [],
   "source": [
    "articles_probs_df = pd.DataFrame(data = {'text': X_test, 'pred':y_hat, 'actual':y_test, 'prob_fake': rfc_probs[:,0]})"
   ]
  },
  {
   "cell_type": "code",
   "execution_count": 111,
   "metadata": {},
   "outputs": [
    {
     "data": {
      "text/html": [
       "<div>\n",
       "<style scoped>\n",
       "    .dataframe tbody tr th:only-of-type {\n",
       "        vertical-align: middle;\n",
       "    }\n",
       "\n",
       "    .dataframe tbody tr th {\n",
       "        vertical-align: top;\n",
       "    }\n",
       "\n",
       "    .dataframe thead th {\n",
       "        text-align: right;\n",
       "    }\n",
       "</style>\n",
       "<table border=\"1\" class=\"dataframe\">\n",
       "  <thead>\n",
       "    <tr style=\"text-align: right;\">\n",
       "      <th></th>\n",
       "      <th>text</th>\n",
       "      <th>pred</th>\n",
       "      <th>actual</th>\n",
       "      <th>prob_fake</th>\n",
       "    </tr>\n",
       "  </thead>\n",
       "  <tbody>\n",
       "    <tr>\n",
       "      <th>47248</th>\n",
       "      <td>The House of Representatives does not have a p...</td>\n",
       "      <td>0</td>\n",
       "      <td>1</td>\n",
       "      <td>0.693827</td>\n",
       "    </tr>\n",
       "    <tr>\n",
       "      <th>55109</th>\n",
       "      <td>Whale Regrets Eating 290,000 Plastic Poker Chi...</td>\n",
       "      <td>0</td>\n",
       "      <td>0</td>\n",
       "      <td>0.938384</td>\n",
       "    </tr>\n",
       "    <tr>\n",
       "      <th>1529</th>\n",
       "      <td>Donald Trump thanked outgoing FBI Director Jam...</td>\n",
       "      <td>0</td>\n",
       "      <td>0</td>\n",
       "      <td>0.980000</td>\n",
       "    </tr>\n",
       "    <tr>\n",
       "      <th>2775</th>\n",
       "      <td>Kellyanne Conway tried to baffle George Stepha...</td>\n",
       "      <td>0</td>\n",
       "      <td>0</td>\n",
       "      <td>0.860000</td>\n",
       "    </tr>\n",
       "    <tr>\n",
       "      <th>30195</th>\n",
       "      <td>MOSCOW (Reuters) - Syrian President Bashar al-...</td>\n",
       "      <td>1</td>\n",
       "      <td>1</td>\n",
       "      <td>0.177826</td>\n",
       "    </tr>\n",
       "    <tr>\n",
       "      <th>...</th>\n",
       "      <td>...</td>\n",
       "      <td>...</td>\n",
       "      <td>...</td>\n",
       "      <td>...</td>\n",
       "    </tr>\n",
       "    <tr>\n",
       "      <th>14130</th>\n",
       "      <td>Has their ever been a more vengeful and hatefu...</td>\n",
       "      <td>0</td>\n",
       "      <td>0</td>\n",
       "      <td>0.840000</td>\n",
       "    </tr>\n",
       "    <tr>\n",
       "      <th>55648</th>\n",
       "      <td>July 21, 1969</td>\n",
       "      <td>0</td>\n",
       "      <td>0</td>\n",
       "      <td>0.957736</td>\n",
       "    </tr>\n",
       "    <tr>\n",
       "      <th>40753</th>\n",
       "      <td>DUBAI (Reuters) - The United States said it la...</td>\n",
       "      <td>1</td>\n",
       "      <td>1</td>\n",
       "      <td>0.160000</td>\n",
       "    </tr>\n",
       "    <tr>\n",
       "      <th>27203</th>\n",
       "      <td>WASHINGTON (Reuters) - U.S. House of Represent...</td>\n",
       "      <td>1</td>\n",
       "      <td>1</td>\n",
       "      <td>0.040000</td>\n",
       "    </tr>\n",
       "    <tr>\n",
       "      <th>69209</th>\n",
       "      <td>On a hot September day in Brooklyn, I got off ...</td>\n",
       "      <td>1</td>\n",
       "      <td>1</td>\n",
       "      <td>0.280000</td>\n",
       "    </tr>\n",
       "  </tbody>\n",
       "</table>\n",
       "<p>14006 rows × 4 columns</p>\n",
       "</div>"
      ],
      "text/plain": [
       "                                                    text  pred  actual  \\\n",
       "47248  The House of Representatives does not have a p...     0       1   \n",
       "55109  Whale Regrets Eating 290,000 Plastic Poker Chi...     0       0   \n",
       "1529   Donald Trump thanked outgoing FBI Director Jam...     0       0   \n",
       "2775   Kellyanne Conway tried to baffle George Stepha...     0       0   \n",
       "30195  MOSCOW (Reuters) - Syrian President Bashar al-...     1       1   \n",
       "...                                                  ...   ...     ...   \n",
       "14130  Has their ever been a more vengeful and hatefu...     0       0   \n",
       "55648                                      July 21, 1969     0       0   \n",
       "40753  DUBAI (Reuters) - The United States said it la...     1       1   \n",
       "27203  WASHINGTON (Reuters) - U.S. House of Represent...     1       1   \n",
       "69209  On a hot September day in Brooklyn, I got off ...     1       1   \n",
       "\n",
       "       prob_fake  \n",
       "47248   0.693827  \n",
       "55109   0.938384  \n",
       "1529    0.980000  \n",
       "2775    0.860000  \n",
       "30195   0.177826  \n",
       "...          ...  \n",
       "14130   0.840000  \n",
       "55648   0.957736  \n",
       "40753   0.160000  \n",
       "27203   0.040000  \n",
       "69209   0.280000  \n",
       "\n",
       "[14006 rows x 4 columns]"
      ]
     },
     "execution_count": 111,
     "metadata": {},
     "output_type": "execute_result"
    }
   ],
   "source": [
    "articles_probs_df"
   ]
  },
  {
   "cell_type": "code",
   "execution_count": 88,
   "metadata": {},
   "outputs": [],
   "source": [
    "# kaggle (44898), politifact(8325), onion(9000), nyt(7803)\n",
    "\n",
    "false_positives = articles_probs_df[(articles_probs_df.actual == 0) & (articles_probs_df.pred == 1)]"
   ]
  },
  {
   "cell_type": "code",
   "execution_count": 147,
   "metadata": {},
   "outputs": [
    {
     "data": {
      "text/plain": [
       "'THE TRUTH IS MEXICO DEPENDS ON THE BILLIONS SENT BACK BY ILLEGALS:FROM THE WALL STREET JOURNAL FEB 1, 2017:MEXICO CITY Mexicans living abroad sent home a record amount of money in 2016, taking advantage of a strong U.S. labor market and a weakening Mexican peso amid worries about actions that the administration of U.S. President Donald Trump may take against immigrants or remittances.After a 25% jump in November, the month that Mr. Trump was elected, December remittances grew 6.2% from a year before to $2.34 billion, bringing the total for the year to $27 billion, the Bank of Mexico said Wednesday.'"
      ]
     },
     "execution_count": 147,
     "metadata": {},
     "output_type": "execute_result"
    }
   ],
   "source": [
    "false_positives.text[11577]"
   ]
  },
  {
   "cell_type": "code",
   "execution_count": 90,
   "metadata": {},
   "outputs": [],
   "source": [
    "# kaggle (44898), politifact(8325), onion(9000), nyt(7803)\n",
    "\n",
    "true_negatives = articles_probs_df[(articles_probs_df.actual == 0) & (articles_probs_df.pred == 0)]"
   ]
  },
  {
   "cell_type": "code",
   "execution_count": 137,
   "metadata": {},
   "outputs": [
    {
     "data": {
      "text/html": [
       "<div>\n",
       "<style scoped>\n",
       "    .dataframe tbody tr th:only-of-type {\n",
       "        vertical-align: middle;\n",
       "    }\n",
       "\n",
       "    .dataframe tbody tr th {\n",
       "        vertical-align: top;\n",
       "    }\n",
       "\n",
       "    .dataframe thead th {\n",
       "        text-align: right;\n",
       "    }\n",
       "</style>\n",
       "<table border=\"1\" class=\"dataframe\">\n",
       "  <thead>\n",
       "    <tr style=\"text-align: right;\">\n",
       "      <th></th>\n",
       "      <th>text</th>\n",
       "      <th>pred</th>\n",
       "      <th>actual</th>\n",
       "      <th>prob_fake</th>\n",
       "    </tr>\n",
       "  </thead>\n",
       "  <tbody>\n",
       "    <tr>\n",
       "      <th>55109</th>\n",
       "      <td>Whale Regrets Eating 290,000 Plastic Poker Chi...</td>\n",
       "      <td>0</td>\n",
       "      <td>0</td>\n",
       "      <td>0.938384</td>\n",
       "    </tr>\n",
       "    <tr>\n",
       "      <th>1529</th>\n",
       "      <td>Donald Trump thanked outgoing FBI Director Jam...</td>\n",
       "      <td>0</td>\n",
       "      <td>0</td>\n",
       "      <td>0.980000</td>\n",
       "    </tr>\n",
       "    <tr>\n",
       "      <th>2775</th>\n",
       "      <td>Kellyanne Conway tried to baffle George Stepha...</td>\n",
       "      <td>0</td>\n",
       "      <td>0</td>\n",
       "      <td>0.860000</td>\n",
       "    </tr>\n",
       "    <tr>\n",
       "      <th>47324</th>\n",
       "      <td>Health insurance companies deny 1 out of 5 tre...</td>\n",
       "      <td>0</td>\n",
       "      <td>0</td>\n",
       "      <td>0.802624</td>\n",
       "    </tr>\n",
       "    <tr>\n",
       "      <th>59908</th>\n",
       "      <td>Must See: Inspiring: This Teenager Is The Firs...</td>\n",
       "      <td>0</td>\n",
       "      <td>0</td>\n",
       "      <td>0.961138</td>\n",
       "    </tr>\n",
       "    <tr>\n",
       "      <th>11349</th>\n",
       "      <td>Conservative media company The Blaze has suspe...</td>\n",
       "      <td>0</td>\n",
       "      <td>0</td>\n",
       "      <td>0.680000</td>\n",
       "    </tr>\n",
       "    <tr>\n",
       "      <th>53812</th>\n",
       "      <td>Must See: Finally! Khan Academy Now Offers A C...</td>\n",
       "      <td>0</td>\n",
       "      <td>0</td>\n",
       "      <td>0.958525</td>\n",
       "    </tr>\n",
       "    <tr>\n",
       "      <th>45324</th>\n",
       "      <td>Says Hillary Clinton has spoken such lies abou...</td>\n",
       "      <td>0</td>\n",
       "      <td>0</td>\n",
       "      <td>0.802006</td>\n",
       "    </tr>\n",
       "    <tr>\n",
       "      <th>9879</th>\n",
       "      <td>The hateful Hollywood crowd just couldn t help...</td>\n",
       "      <td>0</td>\n",
       "      <td>0</td>\n",
       "      <td>0.558954</td>\n",
       "    </tr>\n",
       "    <tr>\n",
       "      <th>53694</th>\n",
       "      <td>Graduation Ceremony A Real Broken Fucking Reco...</td>\n",
       "      <td>0</td>\n",
       "      <td>0</td>\n",
       "      <td>0.953797</td>\n",
       "    </tr>\n",
       "    <tr>\n",
       "      <th>10988</th>\n",
       "      <td>Tucker Carlson interviews Jose Antonio Vargas,...</td>\n",
       "      <td>0</td>\n",
       "      <td>0</td>\n",
       "      <td>0.995815</td>\n",
       "    </tr>\n",
       "    <tr>\n",
       "      <th>50562</th>\n",
       "      <td>\\tSays over 50 percent of U.S. job growth in J...</td>\n",
       "      <td>0</td>\n",
       "      <td>0</td>\n",
       "      <td>0.524359</td>\n",
       "    </tr>\n",
       "    <tr>\n",
       "      <th>6103</th>\n",
       "      <td>Conservatives have embraced the idea that ever...</td>\n",
       "      <td>0</td>\n",
       "      <td>0</td>\n",
       "      <td>0.840000</td>\n",
       "    </tr>\n",
       "    <tr>\n",
       "      <th>8044</th>\n",
       "      <td>Another person was attacked at a Trump rally i...</td>\n",
       "      <td>0</td>\n",
       "      <td>0</td>\n",
       "      <td>0.900000</td>\n",
       "    </tr>\n",
       "    <tr>\n",
       "      <th>16998</th>\n",
       "      <td>Our vision of the world ? Where are the Catho...</td>\n",
       "      <td>0</td>\n",
       "      <td>0</td>\n",
       "      <td>0.740000</td>\n",
       "    </tr>\n",
       "    <tr>\n",
       "      <th>60539</th>\n",
       "      <td>NASA Issues Formal Apology For 1969 Genocide O...</td>\n",
       "      <td>0</td>\n",
       "      <td>0</td>\n",
       "      <td>0.939169</td>\n",
       "    </tr>\n",
       "    <tr>\n",
       "      <th>17186</th>\n",
       "      <td>No word yet about the Mayor developing a plan ...</td>\n",
       "      <td>0</td>\n",
       "      <td>0</td>\n",
       "      <td>0.840000</td>\n",
       "    </tr>\n",
       "    <tr>\n",
       "      <th>9663</th>\n",
       "      <td>The left is going ballistic over supposed word...</td>\n",
       "      <td>0</td>\n",
       "      <td>0</td>\n",
       "      <td>0.940000</td>\n",
       "    </tr>\n",
       "    <tr>\n",
       "      <th>8597</th>\n",
       "      <td>A Christian Conservative  lawmaker in Kansas h...</td>\n",
       "      <td>0</td>\n",
       "      <td>0</td>\n",
       "      <td>0.779310</td>\n",
       "    </tr>\n",
       "    <tr>\n",
       "      <th>23061</th>\n",
       "      <td>Join Patrick every Wednesday at Independent Ta...</td>\n",
       "      <td>0</td>\n",
       "      <td>0</td>\n",
       "      <td>0.860000</td>\n",
       "    </tr>\n",
       "    <tr>\n",
       "      <th>59296</th>\n",
       "      <td>Deal Alert: Your Parents Have Promised To Buy ...</td>\n",
       "      <td>0</td>\n",
       "      <td>0</td>\n",
       "      <td>0.899510</td>\n",
       "    </tr>\n",
       "    <tr>\n",
       "      <th>20143</th>\n",
       "      <td>Dan Rather just released a Facebook post that ...</td>\n",
       "      <td>0</td>\n",
       "      <td>0</td>\n",
       "      <td>0.838692</td>\n",
       "    </tr>\n",
       "    <tr>\n",
       "      <th>5448</th>\n",
       "      <td>Now that Indiana governor Mike Pence has offic...</td>\n",
       "      <td>0</td>\n",
       "      <td>0</td>\n",
       "      <td>0.759226</td>\n",
       "    </tr>\n",
       "    <tr>\n",
       "      <th>1539</th>\n",
       "      <td>As everybody who still believes in democracy a...</td>\n",
       "      <td>0</td>\n",
       "      <td>0</td>\n",
       "      <td>0.960000</td>\n",
       "    </tr>\n",
       "    <tr>\n",
       "      <th>2282</th>\n",
       "      <td>Donald Trump has absolutely no evidence that P...</td>\n",
       "      <td>0</td>\n",
       "      <td>0</td>\n",
       "      <td>0.980000</td>\n",
       "    </tr>\n",
       "    <tr>\n",
       "      <th>19660</th>\n",
       "      <td></td>\n",
       "      <td>0</td>\n",
       "      <td>0</td>\n",
       "      <td>0.957736</td>\n",
       "    </tr>\n",
       "    <tr>\n",
       "      <th>5616</th>\n",
       "      <td>Californians have a choice ahead of them. In N...</td>\n",
       "      <td>0</td>\n",
       "      <td>0</td>\n",
       "      <td>0.600000</td>\n",
       "    </tr>\n",
       "    <tr>\n",
       "      <th>20360</th>\n",
       "      <td>This is the same Muslim mayor who recently ban...</td>\n",
       "      <td>0</td>\n",
       "      <td>0</td>\n",
       "      <td>0.817868</td>\n",
       "    </tr>\n",
       "    <tr>\n",
       "      <th>61318</th>\n",
       "      <td>White House Hires Top Hollywood Agent To Pitch...</td>\n",
       "      <td>0</td>\n",
       "      <td>0</td>\n",
       "      <td>0.818559</td>\n",
       "    </tr>\n",
       "    <tr>\n",
       "      <th>6855</th>\n",
       "      <td>According to the NRA, we have nothing to fear ...</td>\n",
       "      <td>0</td>\n",
       "      <td>0</td>\n",
       "      <td>0.900000</td>\n",
       "    </tr>\n",
       "    <tr>\n",
       "      <th>53244</th>\n",
       "      <td>Your Horoscopes — Week Of February 28, 2017</td>\n",
       "      <td>0</td>\n",
       "      <td>0</td>\n",
       "      <td>0.963816</td>\n",
       "    </tr>\n",
       "    <tr>\n",
       "      <th>17602</th>\n",
       "      <td>Earlier today, President Trump tweeted:  We sh...</td>\n",
       "      <td>0</td>\n",
       "      <td>0</td>\n",
       "      <td>0.720000</td>\n",
       "    </tr>\n",
       "    <tr>\n",
       "      <th>13647</th>\n",
       "      <td>Don t think for a minute this union-style Blac...</td>\n",
       "      <td>0</td>\n",
       "      <td>0</td>\n",
       "      <td>0.960000</td>\n",
       "    </tr>\n",
       "    <tr>\n",
       "      <th>20132</th>\n",
       "      <td>The number of Muslim registered voters is up 3...</td>\n",
       "      <td>0</td>\n",
       "      <td>0</td>\n",
       "      <td>0.818056</td>\n",
       "    </tr>\n",
       "    <tr>\n",
       "      <th>55592</th>\n",
       "      <td>Female Friend Group Fails In One Duty Of Provi...</td>\n",
       "      <td>0</td>\n",
       "      <td>0</td>\n",
       "      <td>0.842135</td>\n",
       "    </tr>\n",
       "    <tr>\n",
       "      <th>62168</th>\n",
       "      <td>News: Diplomatic Blunder: Donald Trump Keeps C...</td>\n",
       "      <td>0</td>\n",
       "      <td>0</td>\n",
       "      <td>0.975939</td>\n",
       "    </tr>\n",
       "    <tr>\n",
       "      <th>60091</th>\n",
       "      <td>29-Year-Old Has Been Going To Different Friend...</td>\n",
       "      <td>0</td>\n",
       "      <td>0</td>\n",
       "      <td>0.789699</td>\n",
       "    </tr>\n",
       "    <tr>\n",
       "      <th>59938</th>\n",
       "      <td>Republicans Outraged Over RedTube Censoring Of...</td>\n",
       "      <td>0</td>\n",
       "      <td>0</td>\n",
       "      <td>0.620770</td>\n",
       "    </tr>\n",
       "    <tr>\n",
       "      <th>13216</th>\n",
       "      <td>Hillary Clinton is a Planned Parenthood s cham...</td>\n",
       "      <td>0</td>\n",
       "      <td>0</td>\n",
       "      <td>0.960000</td>\n",
       "    </tr>\n",
       "    <tr>\n",
       "      <th>11534</th>\n",
       "      <td>We are blessed to be joined tonight by Carryn ...</td>\n",
       "      <td>0</td>\n",
       "      <td>0</td>\n",
       "      <td>0.654947</td>\n",
       "    </tr>\n",
       "    <tr>\n",
       "      <th>22042</th>\n",
       "      <td>21st Century Wire says Clearly, below the surf...</td>\n",
       "      <td>0</td>\n",
       "      <td>0</td>\n",
       "      <td>0.939208</td>\n",
       "    </tr>\n",
       "    <tr>\n",
       "      <th>54237</th>\n",
       "      <td>87% Of Eagles Home Crowd Listening To NFC Cham...</td>\n",
       "      <td>0</td>\n",
       "      <td>0</td>\n",
       "      <td>0.963945</td>\n",
       "    </tr>\n",
       "    <tr>\n",
       "      <th>59193</th>\n",
       "      <td>MLB Reminds Teams To Properly Dispose Of All T...</td>\n",
       "      <td>0</td>\n",
       "      <td>0</td>\n",
       "      <td>0.950844</td>\n",
       "    </tr>\n",
       "    <tr>\n",
       "      <th>55352</th>\n",
       "      <td>’90s Kids Rejoice! The End Of Net Neutrality M...</td>\n",
       "      <td>0</td>\n",
       "      <td>0</td>\n",
       "      <td>0.940245</td>\n",
       "    </tr>\n",
       "    <tr>\n",
       "      <th>21672</th>\n",
       "      <td>Ultimate gun control is the end game of Barack...</td>\n",
       "      <td>0</td>\n",
       "      <td>0</td>\n",
       "      <td>0.938662</td>\n",
       "    </tr>\n",
       "    <tr>\n",
       "      <th>58598</th>\n",
       "      <td>Increase your cognitive ability by reading a f...</td>\n",
       "      <td>0</td>\n",
       "      <td>0</td>\n",
       "      <td>0.965266</td>\n",
       "    </tr>\n",
       "    <tr>\n",
       "      <th>4735</th>\n",
       "      <td>The city of Portland, Maine has been thrown in...</td>\n",
       "      <td>0</td>\n",
       "      <td>0</td>\n",
       "      <td>0.720000</td>\n",
       "    </tr>\n",
       "    <tr>\n",
       "      <th>54089</th>\n",
       "      <td>A Timeline Of Gun Laws In America</td>\n",
       "      <td>0</td>\n",
       "      <td>0</td>\n",
       "      <td>0.835367</td>\n",
       "    </tr>\n",
       "    <tr>\n",
       "      <th>13699</th>\n",
       "      <td>Where there s a will, there s a way and these ...</td>\n",
       "      <td>0</td>\n",
       "      <td>0</td>\n",
       "      <td>0.958919</td>\n",
       "    </tr>\n",
       "    <tr>\n",
       "      <th>22673</th>\n",
       "      <td>21st Century Wire says The CIA is trying its b...</td>\n",
       "      <td>0</td>\n",
       "      <td>0</td>\n",
       "      <td>0.617997</td>\n",
       "    </tr>\n",
       "  </tbody>\n",
       "</table>\n",
       "</div>"
      ],
      "text/plain": [
       "                                                    text  pred  actual  \\\n",
       "55109  Whale Regrets Eating 290,000 Plastic Poker Chi...     0       0   \n",
       "1529   Donald Trump thanked outgoing FBI Director Jam...     0       0   \n",
       "2775   Kellyanne Conway tried to baffle George Stepha...     0       0   \n",
       "47324  Health insurance companies deny 1 out of 5 tre...     0       0   \n",
       "59908  Must See: Inspiring: This Teenager Is The Firs...     0       0   \n",
       "11349  Conservative media company The Blaze has suspe...     0       0   \n",
       "53812  Must See: Finally! Khan Academy Now Offers A C...     0       0   \n",
       "45324  Says Hillary Clinton has spoken such lies abou...     0       0   \n",
       "9879   The hateful Hollywood crowd just couldn t help...     0       0   \n",
       "53694  Graduation Ceremony A Real Broken Fucking Reco...     0       0   \n",
       "10988  Tucker Carlson interviews Jose Antonio Vargas,...     0       0   \n",
       "50562  \\tSays over 50 percent of U.S. job growth in J...     0       0   \n",
       "6103   Conservatives have embraced the idea that ever...     0       0   \n",
       "8044   Another person was attacked at a Trump rally i...     0       0   \n",
       "16998   Our vision of the world ? Where are the Catho...     0       0   \n",
       "60539  NASA Issues Formal Apology For 1969 Genocide O...     0       0   \n",
       "17186  No word yet about the Mayor developing a plan ...     0       0   \n",
       "9663   The left is going ballistic over supposed word...     0       0   \n",
       "8597   A Christian Conservative  lawmaker in Kansas h...     0       0   \n",
       "23061  Join Patrick every Wednesday at Independent Ta...     0       0   \n",
       "59296  Deal Alert: Your Parents Have Promised To Buy ...     0       0   \n",
       "20143  Dan Rather just released a Facebook post that ...     0       0   \n",
       "5448   Now that Indiana governor Mike Pence has offic...     0       0   \n",
       "1539   As everybody who still believes in democracy a...     0       0   \n",
       "2282   Donald Trump has absolutely no evidence that P...     0       0   \n",
       "19660                                                        0       0   \n",
       "5616   Californians have a choice ahead of them. In N...     0       0   \n",
       "20360  This is the same Muslim mayor who recently ban...     0       0   \n",
       "61318  White House Hires Top Hollywood Agent To Pitch...     0       0   \n",
       "6855   According to the NRA, we have nothing to fear ...     0       0   \n",
       "53244        Your Horoscopes — Week Of February 28, 2017     0       0   \n",
       "17602  Earlier today, President Trump tweeted:  We sh...     0       0   \n",
       "13647  Don t think for a minute this union-style Blac...     0       0   \n",
       "20132  The number of Muslim registered voters is up 3...     0       0   \n",
       "55592  Female Friend Group Fails In One Duty Of Provi...     0       0   \n",
       "62168  News: Diplomatic Blunder: Donald Trump Keeps C...     0       0   \n",
       "60091  29-Year-Old Has Been Going To Different Friend...     0       0   \n",
       "59938  Republicans Outraged Over RedTube Censoring Of...     0       0   \n",
       "13216  Hillary Clinton is a Planned Parenthood s cham...     0       0   \n",
       "11534  We are blessed to be joined tonight by Carryn ...     0       0   \n",
       "22042  21st Century Wire says Clearly, below the surf...     0       0   \n",
       "54237  87% Of Eagles Home Crowd Listening To NFC Cham...     0       0   \n",
       "59193  MLB Reminds Teams To Properly Dispose Of All T...     0       0   \n",
       "55352  ’90s Kids Rejoice! The End Of Net Neutrality M...     0       0   \n",
       "21672  Ultimate gun control is the end game of Barack...     0       0   \n",
       "58598  Increase your cognitive ability by reading a f...     0       0   \n",
       "4735   The city of Portland, Maine has been thrown in...     0       0   \n",
       "54089                  A Timeline Of Gun Laws In America     0       0   \n",
       "13699  Where there s a will, there s a way and these ...     0       0   \n",
       "22673  21st Century Wire says The CIA is trying its b...     0       0   \n",
       "\n",
       "       prob_fake  \n",
       "55109   0.938384  \n",
       "1529    0.980000  \n",
       "2775    0.860000  \n",
       "47324   0.802624  \n",
       "59908   0.961138  \n",
       "11349   0.680000  \n",
       "53812   0.958525  \n",
       "45324   0.802006  \n",
       "9879    0.558954  \n",
       "53694   0.953797  \n",
       "10988   0.995815  \n",
       "50562   0.524359  \n",
       "6103    0.840000  \n",
       "8044    0.900000  \n",
       "16998   0.740000  \n",
       "60539   0.939169  \n",
       "17186   0.840000  \n",
       "9663    0.940000  \n",
       "8597    0.779310  \n",
       "23061   0.860000  \n",
       "59296   0.899510  \n",
       "20143   0.838692  \n",
       "5448    0.759226  \n",
       "1539    0.960000  \n",
       "2282    0.980000  \n",
       "19660   0.957736  \n",
       "5616    0.600000  \n",
       "20360   0.817868  \n",
       "61318   0.818559  \n",
       "6855    0.900000  \n",
       "53244   0.963816  \n",
       "17602   0.720000  \n",
       "13647   0.960000  \n",
       "20132   0.818056  \n",
       "55592   0.842135  \n",
       "62168   0.975939  \n",
       "60091   0.789699  \n",
       "59938   0.620770  \n",
       "13216   0.960000  \n",
       "11534   0.654947  \n",
       "22042   0.939208  \n",
       "54237   0.963945  \n",
       "59193   0.950844  \n",
       "55352   0.940245  \n",
       "21672   0.938662  \n",
       "58598   0.965266  \n",
       "4735    0.720000  \n",
       "54089   0.835367  \n",
       "13699   0.958919  \n",
       "22673   0.617997  "
      ]
     },
     "execution_count": 137,
     "metadata": {},
     "output_type": "execute_result"
    }
   ],
   "source": [
    "true_negatives.head(50)"
   ]
  },
  {
   "cell_type": "code",
   "execution_count": 143,
   "metadata": {},
   "outputs": [
    {
     "data": {
      "text/plain": [
       "'Another person was attacked at a Trump rally in what has become a theme at Trump events since the billionaire businessman threw in his hat for the Republican nomination for the presidency.This time, a young Latina woman had a poster denouncing Trump s stance on immigration ripped out of her hand by two men. The men were praised by Trump for their  courage.  In fact, Trump was so elated that he gleefully recounted the entire attack.   I saw fists start to fly,  Trump said, calling her a  rough cookie.  He then gave praise to the attackers, saying.  I love people with courage. But, it gets crazier than that. After the protester is escorted out of the building (she flipped Trump off with two her two middle fingers), Trump invited the attackers on stage to make speeches. After some cuddling and hugging between Trump and his two heroes, one man took the mic and said: Do not let them intimidate you. They will say anything, they will do anything to keep in power. We don t need who is in there now. We need to get some fresh bunch up there, some fresh blood. As the crowd roared and cheered, the second man, an Iraq war veteran, said: If it wasn t for Mr. Trump right here, I don t think any of us would have the voice that we have. This is the only man who is really going to bring America back. This is not the first time that Trump has praised attacks on protesters. When a protester from Black Lives Matter was roughed up at a Trump rally, Trump defended the actions of his supporters: Maybe he should have been roughed up. It was disgusting what he was doing. In August, when two men inspired by Trump s racism beat and urinated on a Latino man, Trump put a different spin on things: They love this country and they want this country to be great again. Trump rallies are indicative of what a Trump presidency would look like: chaotic, racist, and violent.Watch Video Here:Featured image from video screen capture'"
      ]
     },
     "execution_count": 143,
     "metadata": {},
     "output_type": "execute_result"
    }
   ],
   "source": [
    "true_negatives.text[8044]"
   ]
  },
  {
   "cell_type": "code",
   "execution_count": 145,
   "metadata": {},
   "outputs": [
    {
     "data": {
      "text/plain": [
       "'Hillary Clinton is a Planned Parenthood s champion. She was greeted like a rock star at the Planned Parenthood Action Fund event in June, 2016. She mocked Donald Trump s defense of life, while highlighting her undying support for destroying the life of the most vulnerable. She s been bending over backwards to pander to Blacks for their votes, while trying desperately to gain the confidence of the Black Lives Matter movement. But isn t Hillary s concern for Black lives just another one of her lies? She is the darling of Planned Parenthood after all, and their stated goal has always been to kill off the Black population? Finally, a prominent Black professional athlete is speaking out and telling the truth about the true intentions of this killing machine for profit.Christian NFL player Ben Watson does not hesitate to call out Planned Parenthood s targeting of minority women and their babies for abortions.In a recent interview with Turning Point Pregnancy Resource Center in San Diego, the Baltimore Ravens player talked about the racial divide in America and how it factors into the abortion issue.  abortion saddens me period, but it seems to be something that is really pushed on minorities and provided to minorities especially as something that they should do,  Watson said.He pointed to Planned Parenthood s founder Margaret Sanger and her eugenic push to exterminate people she deemed  unfit.  Today,  it s working,  Watson said. We sit here and talk about advancing the black agenda, whatever that means, we talk about our interests, and what s important to us   like having political power and advancement and all those things   and then we are turning around and we are killing our children,  Watson continued.  And we are buying the lie that it s our personal decision to make. Here s Hillary Clinton slamming Donald Trump over his defense of life and her willingness to destroy it at a Planned Parenthood event:The NFL star said he is sympathetic to the women who are struggling with an unplanned pregnancy. But Watson, a husband and father of five children, said many men are not stepping up to help their children and the women in their lives like they should. He urged men to take responsibility for their actions. He need to be there to support her through the physical changes of the pregnancy, and help and provide emotional strength, and do it together,  Watson continued.  As much as he has a role in making the baby in the first place, it needs to take both of them the whole way through. Sometimes, Watson said he does have the opportunity to talk with other NFL players about abortion and his pro-life convictions. Just like in almost any career setting, Watson said they talk about many different things, including politics and religion. You ve got guys that consider themselves Conservative and pro-life, and you ve got guys that consider themselves Liberal and pro-choice, and it kind of goes back and forth,  he said.  What I love is that in most of the situations I have been in, not all of them, but most, even if we sometimes talk abrasively to each other, we still have love for each other. Last year, after the Center for Medical Progress began releasing its undercover Planned Parenthood videos, Watson wasn t shy about speaking up for unborn babies either.He posted on his Facebook wall:As horrific as it is, the issue isn t really the sale of human parts. It s the legal practice that allows this to even be a possibility. Killing children and simply discarding the leftovers is not any more acceptable than profiting off of them. #PlannedParenthood  Asked if he has faced backlash for his stance, Watson told Turning Point,  I won t say I m not afraid, and I will say that I ve received some flack for some of the things I ve said   I decided that you know, if the spirit of God has prompted me to say something, I m gonna trust in God and say it. Via: Life News'"
      ]
     },
     "execution_count": 145,
     "metadata": {},
     "output_type": "execute_result"
    }
   ],
   "source": [
    "true_negatives.text[13216]"
   ]
  },
  {
   "cell_type": "code",
   "execution_count": 140,
   "metadata": {},
   "outputs": [],
   "source": [
    "# # Partial Dependence Plot (reduce features or else breaks kernel)\n",
    "# features = ['say','via',image']\n",
    "# plot_partial_dependence(rfc, tfidf_X_train_df.sample(frac=.1), features, n_jobs=-1)\n",
    "# fig = plt.gcf()"
   ]
  },
  {
   "cell_type": "code",
   "execution_count": 136,
   "metadata": {},
   "outputs": [
    {
     "data": {
      "image/png": "[encoded data removed]",
      "text/plain": [
       "<Figure size 432x288 with 2 Axes>"
      ]
     },
     "metadata": {
      "needs_background": "light"
     },
     "output_type": "display_data"
    }
   ],
   "source": [
    "# Partial Dependence Plot (reduce features or else breaks kernel)\n",
    "plot_partial_dependence(rfc, tfidf_X_train_df.sample(frac=.1), ['say'], n_jobs=-1)\n",
    "fig = plt.gcf()\n",
    "plt.tight_layout()"
   ]
  },
  {
   "cell_type": "code",
   "execution_count": 137,
   "metadata": {},
   "outputs": [
    {
     "data": {
      "image/png": "[encoded data removed]",
      "text/plain": [
       "<Figure size 432x288 with 2 Axes>"
      ]
     },
     "metadata": {
      "needs_background": "light"
     },
     "output_type": "display_data"
    }
   ],
   "source": [
    "# Partial Dependence Plot (reduce features or else breaks kernel)\n",
    "plot_partial_dependence(rfc, tfidf_X_train_df.sample(frac=.1), ['via'], n_jobs=-1)\n",
    "fig = plt.gcf()\n",
    "plt.tight_layout()"
   ]
  },
  {
   "cell_type": "code",
   "execution_count": 138,
   "metadata": {},
   "outputs": [
    {
     "data": {
      "image/png": "[encoded data removed]",
      "text/plain": [
       "<Figure size 432x288 with 2 Axes>"
      ]
     },
     "metadata": {
      "needs_background": "light"
     },
     "output_type": "display_data"
    }
   ],
   "source": [
    "# Partial Dependence Plot (reduce features or else breaks kernel)\n",
    "plot_partial_dependence(rfc, tfidf_X_train_df.sample(frac=.1), ['washington'], n_jobs=-1)\n",
    "fig = plt.gcf()\n",
    "plt.tight_layout()"
   ]
  },
  {
   "cell_type": "code",
   "execution_count": 139,
   "metadata": {},
   "outputs": [
    {
     "data": {
      "image/png": "[encoded data removed]",
      "text/plain": [
       "<Figure size 432x288 with 2 Axes>"
      ]
     },
     "metadata": {
      "needs_background": "light"
     },
     "output_type": "display_data"
    }
   ],
   "source": [
    "# Partial Dependence Plot (reduce features or else breaks kernel)\n",
    "plot_partial_dependence(rfc, tfidf_X_train_df.sample(frac=.1), ['image'], n_jobs=-1)\n",
    "fig = plt.gcf()\n",
    "plt.tight_layout()"
   ]
  },
  {
   "cell_type": "code",
   "execution_count": 231,
   "metadata": {},
   "outputs": [
    {
     "data": {
      "text/plain": [
       "array([[0.89931196, 0.10068804]])"
      ]
     },
     "execution_count": 231,
     "metadata": {},
     "output_type": "execute_result"
    }
   ],
   "source": [
    "false_ex = ['president trump declared war on the whole world today']\n",
    "false_ex = tfidf.transform(false_ex)\n",
    "rfc.predict_proba(false_ex)"
   ]
  },
  {
   "cell_type": "code",
   "execution_count": 256,
   "metadata": {},
   "outputs": [
    {
     "data": {
      "text/plain": [
       "array([[0.42, 0.58]])"
      ]
     },
     "execution_count": 256,
     "metadata": {},
     "output_type": "execute_result"
    }
   ],
   "source": [
    "nyt_ex = ['''For the first three years of President Trump’s time in office, his blunt-force view of the military was confined to threatening American adversaries: \\\n",
    "          “fire and fury” if North Korea challenged American troops. A warning that he would “shoot down and destroy” Iranian forces in the Persian Gulf. Billions \\\n",
    "          spent to rejuvenate a nuclear arsenal he viewed as the ultimate source of American power.His generals and admirals accepted a commander in chief with what \\\n",
    "          they diplomatically dismissed as a “unique style” — and they welcomed the increase in military spending. His chief diplomats, while embarrassed, saw some \\\n",
    "          utility in trying to force adversaries to the table. Now, that tolerance has frayed. Mr. Trump’s threat to use the 1807 Insurrection Act to send active-duty \\\n",
    "           troops on American soil against protesters has laid bare the chasm in the national security community that was forming even when he ran for \\ \n",
    "           office in 2016.Back then it was only a limited group of “Never Trumpers” — establishment Republican national security professionals repelled \\ \n",
    "           by Mr. Trump’s description of how American power should be wielded around the world — who wrote and spoke of the dangers. He “lacks the character, \\ \n",
    "           values and experience” to be president, they wrote, and “would put at risk our country’s national security.”This week, it was his former defense secretary, \\ \n",
    "           a former chairman of the Joint Chiefs of Staff and a range of other retired senior officers who were saying in public what they previously said only in private: \\\n",
    "            that the risk lies in the fact that the president regards the military, which historically has prized its nonpartisan, apolitical role in society, as just another \\ \n",
    "            political force to be massed to his advantage.“There is a thin line between the military’s tolerance for questionable partisan moves over the past three years and \\\n",
    "            the point where these become intolerable for an apolitical military,” said Douglas E. Lute, a retired three-star Army general who coordinated Afghanistan and \\ \n",
    "            Pakistan operations on the National Security Council for Presidents George W. Bush and Barack Obama, and later became the American ambassador to NATO. \\ \n",
    "            “Relatively minor episodes have accumulated imperceptibly, but we are now at a point of where real damage is being done.''']\n",
    "nyt_ex = tfidf.transform(nyt_ex)\n",
    "rfc.predict_proba(nyt_ex)"
   ]
  },
  {
   "cell_type": "markdown",
   "metadata": {},
   "source": [
    "### Testing on \"extra\" data (unknown source, but labeled)"
   ]
  },
  {
   "cell_type": "code",
   "execution_count": 92,
   "metadata": {},
   "outputs": [],
   "source": [
    "X_extra_tfidf = tfidf.transform(X_extra)"
   ]
  },
  {
   "cell_type": "code",
   "execution_count": 93,
   "metadata": {},
   "outputs": [],
   "source": [
    "rfc_y_hat = rfc.predict(X_extra_tfidf)"
   ]
  },
  {
   "cell_type": "code",
   "execution_count": 94,
   "metadata": {},
   "outputs": [
    {
     "data": {
      "text/plain": [
       "0.6601420678768745"
      ]
     },
     "execution_count": 94,
     "metadata": {},
     "output_type": "execute_result"
    }
   ],
   "source": [
    "accuracy_score(y_extra, rfc_y_hat)"
   ]
  },
  {
   "cell_type": "code",
   "execution_count": null,
   "metadata": {},
   "outputs": [],
   "source": []
  },
  {
   "cell_type": "markdown",
   "metadata": {},
   "source": [
    "### Definitely some improvement! With more data, the RFC went from 59% accuracy to 66% accuracy on unknown outside source news"
   ]
  },
  {
   "cell_type": "code",
   "execution_count": 52,
   "metadata": {},
   "outputs": [
    {
     "data": {
      "text/html": [
       "<div>\n",
       "<style scoped>\n",
       "    .dataframe tbody tr th:only-of-type {\n",
       "        vertical-align: middle;\n",
       "    }\n",
       "\n",
       "    .dataframe tbody tr th {\n",
       "        vertical-align: top;\n",
       "    }\n",
       "\n",
       "    .dataframe thead th {\n",
       "        text-align: right;\n",
       "    }\n",
       "</style>\n",
       "<table border=\"1\" class=\"dataframe\">\n",
       "  <thead>\n",
       "    <tr style=\"text-align: right;\">\n",
       "      <th></th>\n",
       "      <th>text</th>\n",
       "      <th>label</th>\n",
       "    </tr>\n",
       "  </thead>\n",
       "  <tbody>\n",
       "    <tr>\n",
       "      <th>0</th>\n",
       "      <td>Donald Trump just couldn t wish all Americans ...</td>\n",
       "      <td>0</td>\n",
       "    </tr>\n",
       "    <tr>\n",
       "      <th>1</th>\n",
       "      <td>House Intelligence Committee Chairman Devin Nu...</td>\n",
       "      <td>0</td>\n",
       "    </tr>\n",
       "    <tr>\n",
       "      <th>2</th>\n",
       "      <td>On Friday, it was revealed that former Milwauk...</td>\n",
       "      <td>0</td>\n",
       "    </tr>\n",
       "    <tr>\n",
       "      <th>3</th>\n",
       "      <td>On Christmas day, Donald Trump announced that ...</td>\n",
       "      <td>0</td>\n",
       "    </tr>\n",
       "    <tr>\n",
       "      <th>4</th>\n",
       "      <td>Pope Francis used his annual Christmas Day mes...</td>\n",
       "      <td>0</td>\n",
       "    </tr>\n",
       "  </tbody>\n",
       "</table>\n",
       "</div>"
      ],
      "text/plain": [
       "                                                text  label\n",
       "0  Donald Trump just couldn t wish all Americans ...      0\n",
       "1  House Intelligence Committee Chairman Devin Nu...      0\n",
       "2  On Friday, it was revealed that former Milwauk...      0\n",
       "3  On Christmas day, Donald Trump announced that ...      0\n",
       "4  Pope Francis used his annual Christmas Day mes...      0"
      ]
     },
     "execution_count": 52,
     "metadata": {},
     "output_type": "execute_result"
    }
   ],
   "source": [
    "df_all.head()"
   ]
  },
  {
   "cell_type": "code",
   "execution_count": 55,
   "metadata": {},
   "outputs": [],
   "source": [
    "# clean df_all\n",
    "df_all_clean = df_all.copy()\n",
    "df_all_clean['text'] = df_all_clean['text'].apply(lambda x: preprocessor(x))"
   ]
  },
  {
   "cell_type": "code",
   "execution_count": 56,
   "metadata": {},
   "outputs": [],
   "source": [
    "real = df_all_clean[df_all_clean.label == 1]\n",
    "fake = df_all_clean[df_all_clean.label == 0]"
   ]
  },
  {
   "cell_type": "code",
   "execution_count": null,
   "metadata": {},
   "outputs": [],
   "source": []
  },
  {
   "cell_type": "code",
   "execution_count": 216,
   "metadata": {},
   "outputs": [],
   "source": [
    "# Word Cloud needs one long string of words\n",
    "\n",
    "real_text = ' '.join(text for text in real.text)"
   ]
  },
  {
   "cell_type": "code",
   "execution_count": null,
   "metadata": {},
   "outputs": [],
   "source": [
    "# Word Cloud needs one long string of words\n",
    "\n",
    "fake_text = ' '.join(text for text in fake.text)"
   ]
  },
  {
   "cell_type": "code",
   "execution_count": 217,
   "metadata": {},
   "outputs": [],
   "source": [
    "# wordcloud = WordCloud(width = 800, height = 600, \n",
    "#                 background_color ='white', \n",
    "#                 stopwords = sw + ['reuters'], \n",
    "#                 min_font_size = 10).generate(real_text) \n",
    "  \n",
    "# # plot the WordCloud image                        \n",
    "# plt.figure(figsize = (8, 8), facecolor = None) \n",
    "# plt.imshow(wordcloud) \n",
    "# plt.axis(\"off\") \n",
    "# plt.tight_layout(pad = 0) \n",
    "  \n",
    "# plt.show()"
   ]
  },
  {
   "cell_type": "code",
   "execution_count": 64,
   "metadata": {},
   "outputs": [
    {
     "data": {
      "text/html": [
       "<div>\n",
       "<style scoped>\n",
       "    .dataframe tbody tr th:only-of-type {\n",
       "        vertical-align: middle;\n",
       "    }\n",
       "\n",
       "    .dataframe tbody tr th {\n",
       "        vertical-align: top;\n",
       "    }\n",
       "\n",
       "    .dataframe thead th {\n",
       "        text-align: right;\n",
       "    }\n",
       "</style>\n",
       "<table border=\"1\" class=\"dataframe\">\n",
       "  <thead>\n",
       "    <tr style=\"text-align: right;\">\n",
       "      <th></th>\n",
       "      <th>text</th>\n",
       "      <th>label</th>\n",
       "    </tr>\n",
       "  </thead>\n",
       "  <tbody>\n",
       "    <tr>\n",
       "      <th>65000</th>\n",
       "      <td>Gov. Mary Fallin of Oklahoma vetoed a bill on ...</td>\n",
       "      <td>1</td>\n",
       "    </tr>\n",
       "    <tr>\n",
       "      <th>65001</th>\n",
       "      <td>ISTANBUL  —   Lawmakers from President Recep T...</td>\n",
       "      <td>1</td>\n",
       "    </tr>\n",
       "    <tr>\n",
       "      <th>65002</th>\n",
       "      <td>Come summer (and what is Memorial Day weekend ...</td>\n",
       "      <td>1</td>\n",
       "    </tr>\n",
       "    <tr>\n",
       "      <th>65003</th>\n",
       "      <td>A powerful array of the Republican Party’s lar...</td>\n",
       "      <td>1</td>\n",
       "    </tr>\n",
       "    <tr>\n",
       "      <th>65004</th>\n",
       "      <td>Donald J. Trump has faced a chilly reception f...</td>\n",
       "      <td>1</td>\n",
       "    </tr>\n",
       "    <tr>\n",
       "      <th>65005</th>\n",
       "      <td>Doubling down on his feud with the Democratic ...</td>\n",
       "      <td>1</td>\n",
       "    </tr>\n",
       "    <tr>\n",
       "      <th>65006</th>\n",
       "      <td>CAIRO  —   In an eerie coincidence, the EgyptA...</td>\n",
       "      <td>1</td>\n",
       "    </tr>\n",
       "    <tr>\n",
       "      <th>65007</th>\n",
       "      <td>PRISTINA, Kosovo  —   Every Friday, just yards...</td>\n",
       "      <td>1</td>\n",
       "    </tr>\n",
       "    <tr>\n",
       "      <th>65008</th>\n",
       "      <td>BALTIMORE  —   They are Louisiana horsemen, Ke...</td>\n",
       "      <td>1</td>\n",
       "    </tr>\n",
       "    <tr>\n",
       "      <th>65009</th>\n",
       "      <td>Growing up as a member of the Gila River India...</td>\n",
       "      <td>1</td>\n",
       "    </tr>\n",
       "  </tbody>\n",
       "</table>\n",
       "</div>"
      ],
      "text/plain": [
       "                                                    text  label\n",
       "65000  Gov. Mary Fallin of Oklahoma vetoed a bill on ...      1\n",
       "65001  ISTANBUL  —   Lawmakers from President Recep T...      1\n",
       "65002  Come summer (and what is Memorial Day weekend ...      1\n",
       "65003  A powerful array of the Republican Party’s lar...      1\n",
       "65004  Donald J. Trump has faced a chilly reception f...      1\n",
       "65005  Doubling down on his feud with the Democratic ...      1\n",
       "65006  CAIRO  —   In an eerie coincidence, the EgyptA...      1\n",
       "65007  PRISTINA, Kosovo  —   Every Friday, just yards...      1\n",
       "65008  BALTIMORE  —   They are Louisiana horsemen, Ke...      1\n",
       "65009  Growing up as a member of the Gila River India...      1"
      ]
     },
     "execution_count": 64,
     "metadata": {},
     "output_type": "execute_result"
    }
   ],
   "source": [
    "df_all[65000:65010]"
   ]
  },
  {
   "cell_type": "code",
   "execution_count": null,
   "metadata": {},
   "outputs": [],
   "source": []
  }
 ],
 "metadata": {
  "kernelspec": {
   "display_name": "Python 3",
   "language": "python",
   "name": "python3"
  },
  "language_info": {
   "codemirror_mode": {
    "name": "ipython",
    "version": 3
   },
   "file_extension": ".py",
   "mimetype": "text/x-python",
   "name": "python",
   "nbconvert_exporter": "python",
   "pygments_lexer": "ipython3",
   "version": "3.7.7"
  }
 },
 "nbformat": 4,
 "nbformat_minor": 4
}

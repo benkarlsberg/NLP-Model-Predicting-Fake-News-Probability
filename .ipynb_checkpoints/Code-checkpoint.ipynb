{
 "cells": [
  {
   "cell_type": "markdown",
   "metadata": {},
   "source": [
    "# Basic EDA of Datasets"
   ]
  },
  {
   "cell_type": "code",
   "execution_count": 1,
   "metadata": {},
   "outputs": [],
   "source": [
    "import pandas as pd\n",
    "import numpy as np\n",
    "import matplotlib.pyplot as plt\n",
    "%matplotlib inline"
   ]
  },
  {
   "cell_type": "code",
   "execution_count": 2,
   "metadata": {},
   "outputs": [],
   "source": [
    "# For NLP vectorizing\n",
    "from sklearn.feature_extraction.text import TfidfVectorizer, CountVectorizer\n",
    "\n",
    "# # imports in helpers.py\n",
    "# import unicodedata\n",
    "# import string\n",
    "# import re\n",
    "\n",
    "# from nltk.util import ngrams\n",
    "# from nltk.tokenize import sent_tokenize, word_tokenize\n",
    "# from nltk.corpus import stopwords\n",
    "# from nltk.stem.snowball import SnowballStemmer\n",
    "\n",
    "# import nltk\n",
    "# from nltk.corpus import wordnet\n",
    "# from nltk.stem import WordNetLemmatizer\n",
    "\n",
    "# np.set_printoptions(linewidth=100) \n",
    "\n",
    "# pt = string.punctuation\n",
    "# sw = stopwords.words('english')\n",
    "# stemmer = SnowballStemmer('english')\n",
    "\n",
    "from wordcloud import WordCloud, STOPWORDS\n",
    "from src.helpers import *\n",
    "%load_ext autoreload\n",
    "%autoreload 2"
   ]
  },
  {
   "cell_type": "code",
   "execution_count": 3,
   "metadata": {},
   "outputs": [],
   "source": [
    "from sklearn.model_selection import train_test_split\n",
    "import pickle\n",
    "\n",
    "from sklearn.ensemble import RandomForestClassifier\n",
    "from sklearn.tree import DecisionTreeClassifier\n",
    "from sklearn.model_selection import GridSearchCV\n",
    "from sklearn.metrics import recall_score, precision_score, log_loss, accuracy_score, roc_auc_score\n",
    "from sklearn.ensemble import GradientBoostingClassifier, AdaBoostClassifier\n",
    "from sklearn.naive_bayes import MultinomialNB\n",
    "\n",
    "import statsmodels.api as sm\n",
    "from scipy.stats import norm, t\n",
    "from sklearn.metrics import recall_score, precision_score, accuracy_score, roc_auc_score\n",
    "from sklearn.metrics import mean_squared_error, r2_score, confusion_matrix\n",
    "from sklearn.linear_model import LinearRegression, LogisticRegression, LogisticRegressionCV\n",
    "from sklearn.model_selection import KFold\n",
    "from sklearn.model_selection import cross_val_score, cross_validate"
   ]
  },
  {
   "cell_type": "code",
   "execution_count": 4,
   "metadata": {},
   "outputs": [],
   "source": [
    "# import kaggle data\n",
    "kaggle_real = pd.read_csv('data/kaggle_news/True.csv')\n",
    "kaggle_fake = pd.read_csv('data/kaggle_news/Fake.csv')"
   ]
  },
  {
   "cell_type": "code",
   "execution_count": 5,
   "metadata": {},
   "outputs": [],
   "source": [
    "# label real news as 1 and fake news as 0\n",
    "\n",
    "kaggle_real['label'] = 1\n",
    "kaggle_fake['label'] = 0"
   ]
  },
  {
   "cell_type": "code",
   "execution_count": 6,
   "metadata": {},
   "outputs": [],
   "source": [
    "# extra labeled data from outside source\n",
    "extra = pd.read_csv('data/extra_news.csv')"
   ]
  },
  {
   "cell_type": "code",
   "execution_count": 7,
   "metadata": {},
   "outputs": [
    {
     "data": {
      "text/plain": [
       "(23481, 5)"
      ]
     },
     "execution_count": 7,
     "metadata": {},
     "output_type": "execute_result"
    }
   ],
   "source": [
    "kaggle_fake.shape"
   ]
  },
  {
   "cell_type": "code",
   "execution_count": 8,
   "metadata": {},
   "outputs": [
    {
     "data": {
      "text/plain": [
       "(21417, 5)"
      ]
     },
     "execution_count": 8,
     "metadata": {},
     "output_type": "execute_result"
    }
   ],
   "source": [
    "kaggle_real.shape"
   ]
  },
  {
   "cell_type": "code",
   "execution_count": 9,
   "metadata": {},
   "outputs": [],
   "source": [
    "# merging real and fake data into one dataset\n",
    "news = pd.concat([kaggle_fake, kaggle_real]).reset_index(drop = True)"
   ]
  },
  {
   "cell_type": "code",
   "execution_count": 10,
   "metadata": {},
   "outputs": [
    {
     "data": {
      "text/html": [
       "<div>\n",
       "<style scoped>\n",
       "    .dataframe tbody tr th:only-of-type {\n",
       "        vertical-align: middle;\n",
       "    }\n",
       "\n",
       "    .dataframe tbody tr th {\n",
       "        vertical-align: top;\n",
       "    }\n",
       "\n",
       "    .dataframe thead th {\n",
       "        text-align: right;\n",
       "    }\n",
       "</style>\n",
       "<table border=\"1\" class=\"dataframe\">\n",
       "  <thead>\n",
       "    <tr style=\"text-align: right;\">\n",
       "      <th></th>\n",
       "      <th>title</th>\n",
       "      <th>text</th>\n",
       "      <th>subject</th>\n",
       "      <th>date</th>\n",
       "      <th>label</th>\n",
       "    </tr>\n",
       "  </thead>\n",
       "  <tbody>\n",
       "    <tr>\n",
       "      <th>0</th>\n",
       "      <td>Donald Trump Sends Out Embarrassing New Year’...</td>\n",
       "      <td>Donald Trump just couldn t wish all Americans ...</td>\n",
       "      <td>News</td>\n",
       "      <td>December 31, 2017</td>\n",
       "      <td>0</td>\n",
       "    </tr>\n",
       "    <tr>\n",
       "      <th>1</th>\n",
       "      <td>Drunk Bragging Trump Staffer Started Russian ...</td>\n",
       "      <td>House Intelligence Committee Chairman Devin Nu...</td>\n",
       "      <td>News</td>\n",
       "      <td>December 31, 2017</td>\n",
       "      <td>0</td>\n",
       "    </tr>\n",
       "    <tr>\n",
       "      <th>2</th>\n",
       "      <td>Sheriff David Clarke Becomes An Internet Joke...</td>\n",
       "      <td>On Friday, it was revealed that former Milwauk...</td>\n",
       "      <td>News</td>\n",
       "      <td>December 30, 2017</td>\n",
       "      <td>0</td>\n",
       "    </tr>\n",
       "    <tr>\n",
       "      <th>3</th>\n",
       "      <td>Trump Is So Obsessed He Even Has Obama’s Name...</td>\n",
       "      <td>On Christmas day, Donald Trump announced that ...</td>\n",
       "      <td>News</td>\n",
       "      <td>December 29, 2017</td>\n",
       "      <td>0</td>\n",
       "    </tr>\n",
       "    <tr>\n",
       "      <th>4</th>\n",
       "      <td>Pope Francis Just Called Out Donald Trump Dur...</td>\n",
       "      <td>Pope Francis used his annual Christmas Day mes...</td>\n",
       "      <td>News</td>\n",
       "      <td>December 25, 2017</td>\n",
       "      <td>0</td>\n",
       "    </tr>\n",
       "  </tbody>\n",
       "</table>\n",
       "</div>"
      ],
      "text/plain": [
       "                                               title  \\\n",
       "0   Donald Trump Sends Out Embarrassing New Year’...   \n",
       "1   Drunk Bragging Trump Staffer Started Russian ...   \n",
       "2   Sheriff David Clarke Becomes An Internet Joke...   \n",
       "3   Trump Is So Obsessed He Even Has Obama’s Name...   \n",
       "4   Pope Francis Just Called Out Donald Trump Dur...   \n",
       "\n",
       "                                                text subject  \\\n",
       "0  Donald Trump just couldn t wish all Americans ...    News   \n",
       "1  House Intelligence Committee Chairman Devin Nu...    News   \n",
       "2  On Friday, it was revealed that former Milwauk...    News   \n",
       "3  On Christmas day, Donald Trump announced that ...    News   \n",
       "4  Pope Francis used his annual Christmas Day mes...    News   \n",
       "\n",
       "                date  label  \n",
       "0  December 31, 2017      0  \n",
       "1  December 31, 2017      0  \n",
       "2  December 30, 2017      0  \n",
       "3  December 29, 2017      0  \n",
       "4  December 25, 2017      0  "
      ]
     },
     "execution_count": 10,
     "metadata": {},
     "output_type": "execute_result"
    }
   ],
   "source": [
    "news.head()"
   ]
  },
  {
   "cell_type": "code",
   "execution_count": 11,
   "metadata": {},
   "outputs": [
    {
     "data": {
      "text/plain": [
       "0    23481\n",
       "1    21417\n",
       "Name: label, dtype: int64"
      ]
     },
     "execution_count": 11,
     "metadata": {},
     "output_type": "execute_result"
    }
   ],
   "source": [
    "# visualize class balance\n",
    "\n",
    "balance = news.label.value_counts()\n",
    "balance"
   ]
  },
  {
   "cell_type": "code",
   "execution_count": 12,
   "metadata": {},
   "outputs": [
    {
     "data": {
      "text/plain": [
       "<BarContainer object of 2 artists>"
      ]
     },
     "execution_count": 12,
     "metadata": {},
     "output_type": "execute_result"
    },
    {
     "data": {
      "image/png": "[encoded data removed]",
      "text/plain": [
       "<Figure size 432x288 with 1 Axes>"
      ]
     },
     "metadata": {
      "needs_background": "light"
     },
     "output_type": "display_data"
    }
   ],
   "source": [
    "# notice similar class balance\n",
    "\n",
    "plt.bar(balance.index, balance.values, tick_label = ['False', 'True'])"
   ]
  },
  {
   "cell_type": "code",
   "execution_count": 13,
   "metadata": {},
   "outputs": [
    {
     "data": {
      "text/plain": [
       "News               9050\n",
       "politics           6841\n",
       "left-news          4459\n",
       "Government News    1570\n",
       "US_News             783\n",
       "Middle-east         778\n",
       "Name: subject, dtype: int64"
      ]
     },
     "execution_count": 13,
     "metadata": {},
     "output_type": "execute_result"
    }
   ],
   "source": [
    "subjects_real = news[news['label'] == 0]['subject'].value_counts()\n",
    "subjects_fake = news[news['label'] == 0]['subject'].value_counts()\n",
    "subjects_real"
   ]
  },
  {
   "cell_type": "code",
   "execution_count": 14,
   "metadata": {},
   "outputs": [
    {
     "data": {
      "image/png": "[encoded data removed]",
      "text/plain": [
       "<Figure size 720x432 with 1 Axes>"
      ]
     },
     "metadata": {
      "needs_background": "light"
     },
     "output_type": "display_data"
    }
   ],
   "source": [
    "fig, ax = plt.subplots(1, figsize = (10, 6))\n",
    "\n",
    "labels = subjects_real.index\n",
    "x = np.arange(len(labels))\n",
    "width = 0.35\n",
    "\n",
    "ax.bar(x - width/2, subjects_real.values, width, label = 'Real', color = 'r')\n",
    "ax.bar(x + width/2, subjects_fake.values, width, label = 'Fake', color = 'b')\n",
    "\n",
    "ax.set_xticks(x)\n",
    "ax.set_xticklabels(labels)\n",
    "\n",
    "plt.title('Fake and Real News Breakdown by Subject')\n",
    "plt.ylabel('Number of Articles')\n",
    "plt.xlabel('Subject')\n",
    "plt.rc('xtick', labelsize=13) \n",
    "plt.xticks(rotation =45)\n",
    "plt.rc('ytick', labelsize=17) \n",
    "plt.rc('axes', titlesize=20)\n",
    "plt.rc('axes', labelsize = 17)\n",
    "plt.legend()\n",
    "plt.tight_layout()\n",
    "# plt.savefig('images/subject_breakdown.jpg')"
   ]
  },
  {
   "cell_type": "markdown",
   "metadata": {},
   "source": [
    "# Creating NLP Vectors"
   ]
  },
  {
   "cell_type": "code",
   "execution_count": 15,
   "metadata": {},
   "outputs": [],
   "source": [
    "# splitting the data\n",
    "\n",
    "#split data into target and features, stratify to maintain class balance\n",
    "y = news['label']\n",
    "X = news['text']\n",
    "\n",
    "X_train, X_test, y_train, y_test = train_test_split(X, y, test_size=0.2, random_state=42, stratify=y)\n",
    "\n"
   ]
  },
  {
   "cell_type": "code",
   "execution_count": 16,
   "metadata": {},
   "outputs": [
    {
     "data": {
      "text/plain": [
       "(35918,)"
      ]
     },
     "execution_count": 16,
     "metadata": {},
     "output_type": "execute_result"
    }
   ],
   "source": [
    "y_train.shape"
   ]
  },
  {
   "cell_type": "code",
   "execution_count": 17,
   "metadata": {},
   "outputs": [
    {
     "data": {
      "text/plain": [
       "(35918,)"
      ]
     },
     "execution_count": 17,
     "metadata": {},
     "output_type": "execute_result"
    }
   ],
   "source": [
    "X_train.shape"
   ]
  },
  {
   "cell_type": "code",
   "execution_count": 18,
   "metadata": {},
   "outputs": [],
   "source": [
    "# Validation Split  (Using cross validation instead)\n",
    "\n",
    "X_valtrain, X_valtest, y_valtrain, y_valtest = train_test_split(X_train, y_train, test_size=0.2, random_state=1, stratify=y_train)\n"
   ]
  },
  {
   "cell_type": "code",
   "execution_count": 19,
   "metadata": {},
   "outputs": [
    {
     "data": {
      "text/plain": [
       "'hello i be a test article that demonstrate how the text preprocessor work it be a lovely sunny day outside with green tree and many color bird'"
      ]
     },
     "execution_count": 19,
     "metadata": {},
     "output_type": "execute_result"
    }
   ],
   "source": [
    "# Demonstrating Preprocessor\n",
    "\n",
    "doc = 'Hello!!! I am a TEST arTicle       *** ^^ that demonstrates how the text preprocessor works. It is a lovely, sunny day outside with green trees and many colored birds.'\n",
    "\n",
    "preprocessor(doc)"
   ]
  },
  {
   "cell_type": "code",
   "execution_count": 20,
   "metadata": {},
   "outputs": [],
   "source": [
    "# count vectorizer with bigrams and trigrams, top 100,000 most frequent tokens\n",
    "cv = CountVectorizer(preprocessor=preprocessor, stop_words=stopwords_list(), ngram_range=(1, 3), max_features=100000)\n",
    "cv_train_model = cv.fit(X_train)"
   ]
  },
  {
   "cell_type": "code",
   "execution_count": 21,
   "metadata": {},
   "outputs": [],
   "source": [
    "# transform data to get counts of words\n",
    "cv_X_train = cv_train_model.transform(X_train)\n",
    "features = cv.get_feature_names()\n",
    "word_count_df = pd.DataFrame(cv_X_train.toarray(), columns=features)"
   ]
  },
  {
   "cell_type": "code",
   "execution_count": 22,
   "metadata": {},
   "outputs": [
    {
     "data": {
      "text/plain": [
       "(35918, 100000)"
      ]
     },
     "execution_count": 22,
     "metadata": {},
     "output_type": "execute_result"
    }
   ],
   "source": [
    "word_count_df.shape"
   ]
  },
  {
   "cell_type": "code",
   "execution_count": 23,
   "metadata": {},
   "outputs": [],
   "source": [
    "# alternate method\n",
    "cv_X_train_df = cv_X_train.todense()\n",
    "columns = sorted(cv_train_model.vocabulary_, key=lambda k: cv_train_model.vocabulary_[k])\n",
    "cv_X_train_df = pd.DataFrame(cv_X_train_df, columns=columns);"
   ]
  },
  {
   "cell_type": "code",
   "execution_count": 24,
   "metadata": {},
   "outputs": [
    {
     "data": {
      "text/plain": [
       "(35918, 100000)"
      ]
     },
     "execution_count": 24,
     "metadata": {},
     "output_type": "execute_result"
    }
   ],
   "source": [
    "cv_X_train_df.shape"
   ]
  },
  {
   "cell_type": "code",
   "execution_count": 25,
   "metadata": {},
   "outputs": [
    {
     "data": {
      "text/plain": [
       "say           90735\n",
       "trump         44092\n",
       "state         29938\n",
       "would         25190\n",
       "reuters       23148\n",
       "president     22907\n",
       "year          17829\n",
       "republican    17656\n",
       "government    15974\n",
       "house         13781\n",
       "dtype: int64"
      ]
     },
     "execution_count": 25,
     "metadata": {},
     "output_type": "execute_result"
    }
   ],
   "source": [
    "# top 20 highest count of words for real news\n",
    "\n",
    "np.sum(cv_X_train_df[np.array(y_train)==1], axis=0).sort_values(ascending=False)[:10]"
   ]
  },
  {
   "cell_type": "code",
   "execution_count": 26,
   "metadata": {},
   "outputs": [],
   "source": [
    "# Term frequency-Inverse document frequency vectorizer with bigrams and trigrams, top 100,000 highest weighted tokens\n",
    "tfidf = TfidfVectorizer(preprocessor=preprocessor, stop_words=stopwords_list(), ngram_range=(1, 3), max_features=100000)\n",
    "tfidf_train_model = tfidf.fit(X_train)\n"
   ]
  },
  {
   "cell_type": "code",
   "execution_count": 27,
   "metadata": {},
   "outputs": [],
   "source": [
    "# # save the training model\n",
    "# with open('tfidf_train_model.pkl', 'wb') as f:\n",
    "#     pickle.dump(tfidf_train_model, f)"
   ]
  },
  {
   "cell_type": "code",
   "execution_count": 28,
   "metadata": {},
   "outputs": [
    {
     "data": {
      "text/plain": [
       "[('zurich reuters', 99999),\n",
       " ('zurich', 99998),\n",
       " ('zuma say', 99997),\n",
       " ('zuma guptas deny', 99996),\n",
       " ('zuma guptas', 99995),\n",
       " ('zuma former', 99994),\n",
       " ('zuma', 99993),\n",
       " ('zulia state', 99992),\n",
       " ('zulia', 99991),\n",
       " ('zuckerberg say', 99990),\n",
       " ('zuckerberg', 99989),\n",
       " ('zucker', 99988),\n",
       " ('zor province', 99987),\n",
       " ('zor city', 99986),\n",
       " ('zor', 99985),\n",
       " ('zoomph', 99984),\n",
       " ('zoo', 99983),\n",
       " ('zones', 99982),\n",
       " ('zone would', 99981),\n",
       " ('zone syria', 99980)]"
      ]
     },
     "execution_count": 28,
     "metadata": {},
     "output_type": "execute_result"
    }
   ],
   "source": [
    "# vocabulary\n",
    "sorted(tfidf_train_model.vocabulary_.items(), key=lambda x: x[1], reverse=True)[:20]\n"
   ]
  },
  {
   "cell_type": "code",
   "execution_count": 29,
   "metadata": {},
   "outputs": [],
   "source": [
    "# transform the data using the tfidf vectorizer\n",
    "tfidf_X_train = tfidf_train_model.transform(X_train)"
   ]
  },
  {
   "cell_type": "code",
   "execution_count": 30,
   "metadata": {},
   "outputs": [],
   "source": [
    "# tfidf dataframe\n",
    "tfidf_X_train_df = tfidf_X_train.todense()\n",
    "columns = sorted(tfidf_train_model.vocabulary_, key=lambda k: tfidf_train_model.vocabulary_[k])\n",
    "tfidf_X_train_df = pd.DataFrame(tfidf_X_train_df, columns=columns);"
   ]
  },
  {
   "cell_type": "code",
   "execution_count": 31,
   "metadata": {},
   "outputs": [
    {
     "data": {
      "text/plain": [
       "say           841.355465\n",
       "trump         541.067084\n",
       "state         381.744631\n",
       "reuters       380.831829\n",
       "president     312.431183\n",
       "would         305.316186\n",
       "republican    278.449815\n",
       "government    266.650643\n",
       "house         248.166914\n",
       "year          235.860570\n",
       "dtype: float64"
      ]
     },
     "execution_count": 31,
     "metadata": {},
     "output_type": "execute_result"
    }
   ],
   "source": [
    "# top 20 scoring words for real news\n",
    "\n",
    "np.sum(tfidf_X_train_df[np.array(y_train)==1], axis=0).sort_values(ascending=False)[:10]\n"
   ]
  },
  {
   "cell_type": "code",
   "execution_count": 32,
   "metadata": {},
   "outputs": [
    {
     "data": {
      "text/plain": [
       "trump        868.697439\n",
       "say          370.175866\n",
       "clinton      328.577763\n",
       "people       302.729280\n",
       "go           295.208577\n",
       "obama        288.840402\n",
       "president    286.673302\n",
       "get          276.370834\n",
       "hillary      270.167593\n",
       "one          265.191800\n",
       "dtype: float64"
      ]
     },
     "execution_count": 32,
     "metadata": {},
     "output_type": "execute_result"
    }
   ],
   "source": [
    "# top 20 scoring words for fake news\n",
    "\n",
    "np.sum(tfidf_X_train_df[np.array(y_train)==0], axis=0).sort_values(ascending=False)[:10]\n"
   ]
  },
  {
   "cell_type": "code",
   "execution_count": 33,
   "metadata": {},
   "outputs": [],
   "source": [
    "# # For final model\n",
    "\n",
    "# tfidf = TfidfVectorizer(preprocessor=preprocessor, stop_words=stopwords_list())\n",
    "# tfidf_model = tfidf.fit(X)\n",
    "# tfidf_X = tfidf_train_model.transform(X)\n",
    "\n",
    "# X_df = pd.DataFrame(vectorized_X.toarray())\n",
    "# X_df.shape"
   ]
  },
  {
   "cell_type": "code",
   "execution_count": null,
   "metadata": {},
   "outputs": [],
   "source": []
  },
  {
   "cell_type": "code",
   "execution_count": 34,
   "metadata": {},
   "outputs": [],
   "source": [
    "# # reload training model\n",
    "\n",
    "# with open('cv_train_model.pkl', 'rb') as f:\n",
    "#     cv_model = pickle.load(f)"
   ]
  },
  {
   "cell_type": "markdown",
   "metadata": {},
   "source": [
    "# Testing Classification Models"
   ]
  },
  {
   "cell_type": "code",
   "execution_count": 35,
   "metadata": {},
   "outputs": [
    {
     "data": {
      "text/plain": [
       "{'fit_time': 2.194135808944702,\n",
       " 'score_time': 0.014825677871704102,\n",
       " 'test_accuracy': 0.9872208400371205,\n",
       " 'test_precision': 0.9848232932908239,\n",
       " 'test_recall': 0.9884432558929458}"
      ]
     },
     "execution_count": 35,
     "metadata": {},
     "output_type": "execute_result"
    }
   ],
   "source": [
    "# Logistic Regression 5 folds\n",
    "\n",
    "log_cross = cross_validate(LogisticRegression(max_iter = 400, random_state = 42), tfidf_X_train, y_train, scoring = ['accuracy', 'precision', 'recall'], n_jobs = -1)\n",
    "log_cross.update((x, y.mean()) for x, y in log_cross.items())\n",
    "log_cross"
   ]
  },
  {
   "cell_type": "code",
   "execution_count": 36,
   "metadata": {},
   "outputs": [
    {
     "name": "stdout",
     "output_type": "stream",
     "text": [
      "0.9880839690405925\n"
     ]
    }
   ],
   "source": [
    "# Random Forest Classifier using trial and error parameters, rather than waiting for grid search\n",
    "\n",
    "rfc = RandomForestClassifier(criterion='gini', max_depth = 200, n_estimators = 50, max_features = 'auto', oob_score = True, random_state=42).fit(tfidf_X_train, y_train)\n",
    "print(rfc.oob_score_)"
   ]
  },
  {
   "cell_type": "code",
   "execution_count": 37,
   "metadata": {},
   "outputs": [],
   "source": [
    "feat_scores = pd.DataFrame({'Top 10 Important Features':rfc.feature_importances_}, index = columns)\n",
    "#feat_scores.sort_values(by = 'Fraction of Samples Affected').plot(kind='barh');"
   ]
  },
  {
   "cell_type": "code",
   "execution_count": 38,
   "metadata": {},
   "outputs": [
    {
     "data": {
      "image/png": "[encoded data removed]",
      "text/plain": [
       "<Figure size 432x288 with 1 Axes>"
      ]
     },
     "metadata": {
      "needs_background": "light"
     },
     "output_type": "display_data"
    }
   ],
   "source": [
    "feat_scores.sort_values(by = 'Top 10 Important Features', ascending=False)[:10].plot(kind='bar');"
   ]
  },
  {
   "cell_type": "markdown",
   "metadata": {},
   "source": [
    "### 'Reuters' giving off too much signal! It is a news service so lets find the distribution comparing its appearance in real and fake news."
   ]
  },
  {
   "cell_type": "code",
   "execution_count": 39,
   "metadata": {},
   "outputs": [
    {
     "data": {
      "text/plain": [
       "23478"
      ]
     },
     "execution_count": 39,
     "metadata": {},
     "output_type": "execute_result"
    }
   ],
   "source": [
    "cv_X_train_df.sum(axis=0).loc['reuters']"
   ]
  },
  {
   "cell_type": "code",
   "execution_count": 40,
   "metadata": {},
   "outputs": [
    {
     "data": {
      "text/plain": [
       "330"
      ]
     },
     "execution_count": 40,
     "metadata": {},
     "output_type": "execute_result"
    }
   ],
   "source": [
    "reuters_fake_count = np.sum(cv_X_train_df[np.array(y_train)==0], axis=0).loc['reuters']\n",
    "reuters_fake_count"
   ]
  },
  {
   "cell_type": "code",
   "execution_count": 41,
   "metadata": {},
   "outputs": [
    {
     "data": {
      "text/plain": [
       "23148"
      ]
     },
     "execution_count": 41,
     "metadata": {},
     "output_type": "execute_result"
    }
   ],
   "source": [
    "reuters_real_count = np.sum(cv_X_train_df[np.array(y_train)==1], axis=0).loc['reuters']\n",
    "reuters_real_count"
   ]
  },
  {
   "cell_type": "code",
   "execution_count": 42,
   "metadata": {},
   "outputs": [
    {
     "data": {
      "text/plain": [
       "0.9859442882698697"
      ]
     },
     "execution_count": 42,
     "metadata": {},
     "output_type": "execute_result"
    }
   ],
   "source": [
    "reuters_real_count / (reuters_real_count + reuters_fake_count)"
   ]
  },
  {
   "cell_type": "code",
   "execution_count": 43,
   "metadata": {},
   "outputs": [
    {
     "data": {
      "text/plain": [
       "0.014055711730130335"
      ]
     },
     "execution_count": 43,
     "metadata": {},
     "output_type": "execute_result"
    }
   ],
   "source": [
    "reuters_fake_count / (reuters_real_count + reuters_fake_count)"
   ]
  },
  {
   "cell_type": "markdown",
   "metadata": {},
   "source": [
    "99% of the real data has 'reuters' in it and 1% of the fake data has 'reuters' in it"
   ]
  },
  {
   "cell_type": "code",
   "execution_count": 44,
   "metadata": {},
   "outputs": [
    {
     "data": {
      "text/plain": [
       "11090"
      ]
     },
     "execution_count": 44,
     "metadata": {},
     "output_type": "execute_result"
    }
   ],
   "source": [
    "image_fake_count = np.sum(cv_X_train_df[np.array(y_train)==0], axis=0).loc['image']\n",
    "image_fake_count"
   ]
  },
  {
   "cell_type": "code",
   "execution_count": 45,
   "metadata": {},
   "outputs": [
    {
     "data": {
      "text/plain": [
       "467"
      ]
     },
     "execution_count": 45,
     "metadata": {},
     "output_type": "execute_result"
    }
   ],
   "source": [
    "image_real_count = np.sum(cv_X_train_df[np.array(y_train)==1], axis=0).loc['image']\n",
    "image_real_count"
   ]
  },
  {
   "cell_type": "code",
   "execution_count": 46,
   "metadata": {},
   "outputs": [
    {
     "data": {
      "text/plain": [
       "90735"
      ]
     },
     "execution_count": 46,
     "metadata": {},
     "output_type": "execute_result"
    }
   ],
   "source": [
    "say_real_count = np.sum(cv_X_train_df[np.array(y_train)==1], axis=0).loc['say']\n",
    "say_real_count"
   ]
  },
  {
   "cell_type": "code",
   "execution_count": 47,
   "metadata": {},
   "outputs": [
    {
     "data": {
      "text/plain": [
       "39135"
      ]
     },
     "execution_count": 47,
     "metadata": {},
     "output_type": "execute_result"
    }
   ],
   "source": [
    "say_fake_count = np.sum(cv_X_train_df[np.array(y_train)==0], axis=0).loc['say']\n",
    "say_fake_count"
   ]
  },
  {
   "cell_type": "code",
   "execution_count": 48,
   "metadata": {},
   "outputs": [
    {
     "data": {
      "text/plain": [
       "{'fit_time': 27.829764795303344,\n",
       " 'score_time': 0.7977253437042237,\n",
       " 'test_accuracy': 0.9915362599828164,\n",
       " 'test_precision': 0.9899851322645356,\n",
       " 'test_recall': 0.9922954982504752}"
      ]
     },
     "execution_count": 48,
     "metadata": {},
     "output_type": "execute_result"
    }
   ],
   "source": [
    "# random forest classifier 5 folds\n",
    "\n",
    "rfc_cross = cross_validate(RandomForestClassifier(criterion='gini', max_depth = 200, n_estimators = 50, max_features = 'auto', oob_score = True, random_state=42),\n",
    "                                                    tfidf_X_train, y_train, scoring = ['accuracy', 'precision', 'recall'],cv=5, n_jobs=-1)\n",
    "rfc_cross.update((x, y.mean()) for x, y in rfc_cross.items())\n",
    "rfc_cross"
   ]
  },
  {
   "cell_type": "code",
   "execution_count": 49,
   "metadata": {},
   "outputs": [
    {
     "data": {
      "text/plain": [
       "{'fit_time': 257.63558464050294,\n",
       " 'score_time': 0.07884726524353028,\n",
       " 'test_accuracy': 0.9954340155098945,\n",
       " 'test_precision': 0.9937220930059683,\n",
       " 'test_recall': 0.9967314436318435}"
      ]
     },
     "execution_count": 49,
     "metadata": {},
     "output_type": "execute_result"
    }
   ],
   "source": [
    "# gradient boosted Classifier 5 folds\n",
    "\n",
    "gradient_cross = cross_validate(GradientBoostingClassifier(random_state = 42), tfidf_X_train, y_train, scoring = ['accuracy', 'precision', 'recall'],cv=5, n_jobs=-1)\n",
    "gradient_cross.update((x, y.mean()) for x, y in gradient_cross.items())\n",
    "gradient_cross"
   ]
  },
  {
   "cell_type": "code",
   "execution_count": 50,
   "metadata": {},
   "outputs": [
    {
     "data": {
      "text/plain": [
       "{'fit_time': 0.11124873161315918,\n",
       " 'score_time': 0.019825029373168945,\n",
       " 'test_accuracy': 0.9622194757666813,\n",
       " 'test_precision': 0.961778480234908,\n",
       " 'test_recall': 0.9589097498641926}"
      ]
     },
     "execution_count": 50,
     "metadata": {},
     "output_type": "execute_result"
    }
   ],
   "source": [
    "# Naive Bayes Classifier 5 Folds\n",
    "\n",
    "nb_cross = cross_validate(MultinomialNB(alpha=0.1), tfidf_X_train, y_train, scoring = ['accuracy', 'precision', 'recall'],cv=5, n_jobs=-1)\n",
    "nb_cross.update((x, y.mean()) for x, y in nb_cross.items())\n",
    "nb_cross"
   ]
  },
  {
   "cell_type": "code",
   "execution_count": null,
   "metadata": {},
   "outputs": [],
   "source": []
  },
  {
   "cell_type": "markdown",
   "metadata": {},
   "source": [
    "## Removing Certain Features and Retraining the vectors"
   ]
  },
  {
   "cell_type": "code",
   "execution_count": 51,
   "metadata": {},
   "outputs": [
    {
     "data": {
      "text/html": [
       "<div>\n",
       "<style scoped>\n",
       "    .dataframe tbody tr th:only-of-type {\n",
       "        vertical-align: middle;\n",
       "    }\n",
       "\n",
       "    .dataframe tbody tr th {\n",
       "        vertical-align: top;\n",
       "    }\n",
       "\n",
       "    .dataframe thead th {\n",
       "        text-align: right;\n",
       "    }\n",
       "</style>\n",
       "<table border=\"1\" class=\"dataframe\">\n",
       "  <thead>\n",
       "    <tr style=\"text-align: right;\">\n",
       "      <th></th>\n",
       "      <th>aa</th>\n",
       "      <th>aaa</th>\n",
       "      <th>aadhaar</th>\n",
       "      <th>aaplo</th>\n",
       "      <th>aaron</th>\n",
       "      <th>aaron bernstein</th>\n",
       "      <th>aaron bernstein getty</th>\n",
       "      <th>aaron klein</th>\n",
       "      <th>aarp</th>\n",
       "      <th>ab</th>\n",
       "      <th>...</th>\n",
       "      <th>zuckerberg say</th>\n",
       "      <th>zulia</th>\n",
       "      <th>zulia state</th>\n",
       "      <th>zuma</th>\n",
       "      <th>zuma former</th>\n",
       "      <th>zuma guptas</th>\n",
       "      <th>zuma guptas deny</th>\n",
       "      <th>zuma say</th>\n",
       "      <th>zurich</th>\n",
       "      <th>zurich reuters</th>\n",
       "    </tr>\n",
       "  </thead>\n",
       "  <tbody>\n",
       "    <tr>\n",
       "      <th>0</th>\n",
       "      <td>0.0</td>\n",
       "      <td>0.0</td>\n",
       "      <td>0.0</td>\n",
       "      <td>0.0</td>\n",
       "      <td>0.0</td>\n",
       "      <td>0.0</td>\n",
       "      <td>0.0</td>\n",
       "      <td>0.0</td>\n",
       "      <td>0.0</td>\n",
       "      <td>0.0</td>\n",
       "      <td>...</td>\n",
       "      <td>0.0</td>\n",
       "      <td>0.0</td>\n",
       "      <td>0.0</td>\n",
       "      <td>0.0</td>\n",
       "      <td>0.0</td>\n",
       "      <td>0.0</td>\n",
       "      <td>0.0</td>\n",
       "      <td>0.0</td>\n",
       "      <td>0.0</td>\n",
       "      <td>0.0</td>\n",
       "    </tr>\n",
       "    <tr>\n",
       "      <th>1</th>\n",
       "      <td>0.0</td>\n",
       "      <td>0.0</td>\n",
       "      <td>0.0</td>\n",
       "      <td>0.0</td>\n",
       "      <td>0.0</td>\n",
       "      <td>0.0</td>\n",
       "      <td>0.0</td>\n",
       "      <td>0.0</td>\n",
       "      <td>0.0</td>\n",
       "      <td>0.0</td>\n",
       "      <td>...</td>\n",
       "      <td>0.0</td>\n",
       "      <td>0.0</td>\n",
       "      <td>0.0</td>\n",
       "      <td>0.0</td>\n",
       "      <td>0.0</td>\n",
       "      <td>0.0</td>\n",
       "      <td>0.0</td>\n",
       "      <td>0.0</td>\n",
       "      <td>0.0</td>\n",
       "      <td>0.0</td>\n",
       "    </tr>\n",
       "    <tr>\n",
       "      <th>2</th>\n",
       "      <td>0.0</td>\n",
       "      <td>0.0</td>\n",
       "      <td>0.0</td>\n",
       "      <td>0.0</td>\n",
       "      <td>0.0</td>\n",
       "      <td>0.0</td>\n",
       "      <td>0.0</td>\n",
       "      <td>0.0</td>\n",
       "      <td>0.0</td>\n",
       "      <td>0.0</td>\n",
       "      <td>...</td>\n",
       "      <td>0.0</td>\n",
       "      <td>0.0</td>\n",
       "      <td>0.0</td>\n",
       "      <td>0.0</td>\n",
       "      <td>0.0</td>\n",
       "      <td>0.0</td>\n",
       "      <td>0.0</td>\n",
       "      <td>0.0</td>\n",
       "      <td>0.0</td>\n",
       "      <td>0.0</td>\n",
       "    </tr>\n",
       "    <tr>\n",
       "      <th>3</th>\n",
       "      <td>0.0</td>\n",
       "      <td>0.0</td>\n",
       "      <td>0.0</td>\n",
       "      <td>0.0</td>\n",
       "      <td>0.0</td>\n",
       "      <td>0.0</td>\n",
       "      <td>0.0</td>\n",
       "      <td>0.0</td>\n",
       "      <td>0.0</td>\n",
       "      <td>0.0</td>\n",
       "      <td>...</td>\n",
       "      <td>0.0</td>\n",
       "      <td>0.0</td>\n",
       "      <td>0.0</td>\n",
       "      <td>0.0</td>\n",
       "      <td>0.0</td>\n",
       "      <td>0.0</td>\n",
       "      <td>0.0</td>\n",
       "      <td>0.0</td>\n",
       "      <td>0.0</td>\n",
       "      <td>0.0</td>\n",
       "    </tr>\n",
       "    <tr>\n",
       "      <th>4</th>\n",
       "      <td>0.0</td>\n",
       "      <td>0.0</td>\n",
       "      <td>0.0</td>\n",
       "      <td>0.0</td>\n",
       "      <td>0.0</td>\n",
       "      <td>0.0</td>\n",
       "      <td>0.0</td>\n",
       "      <td>0.0</td>\n",
       "      <td>0.0</td>\n",
       "      <td>0.0</td>\n",
       "      <td>...</td>\n",
       "      <td>0.0</td>\n",
       "      <td>0.0</td>\n",
       "      <td>0.0</td>\n",
       "      <td>0.0</td>\n",
       "      <td>0.0</td>\n",
       "      <td>0.0</td>\n",
       "      <td>0.0</td>\n",
       "      <td>0.0</td>\n",
       "      <td>0.0</td>\n",
       "      <td>0.0</td>\n",
       "    </tr>\n",
       "  </tbody>\n",
       "</table>\n",
       "<p>5 rows × 100000 columns</p>\n",
       "</div>"
      ],
      "text/plain": [
       "    aa  aaa  aadhaar  aaplo  aaron  aaron bernstein  aaron bernstein getty  \\\n",
       "0  0.0  0.0      0.0    0.0    0.0              0.0                    0.0   \n",
       "1  0.0  0.0      0.0    0.0    0.0              0.0                    0.0   \n",
       "2  0.0  0.0      0.0    0.0    0.0              0.0                    0.0   \n",
       "3  0.0  0.0      0.0    0.0    0.0              0.0                    0.0   \n",
       "4  0.0  0.0      0.0    0.0    0.0              0.0                    0.0   \n",
       "\n",
       "   aaron klein  aarp   ab  ...  zuckerberg say  zulia  zulia state  zuma  \\\n",
       "0          0.0   0.0  0.0  ...             0.0    0.0          0.0   0.0   \n",
       "1          0.0   0.0  0.0  ...             0.0    0.0          0.0   0.0   \n",
       "2          0.0   0.0  0.0  ...             0.0    0.0          0.0   0.0   \n",
       "3          0.0   0.0  0.0  ...             0.0    0.0          0.0   0.0   \n",
       "4          0.0   0.0  0.0  ...             0.0    0.0          0.0   0.0   \n",
       "\n",
       "   zuma former  zuma guptas  zuma guptas deny  zuma say  zurich  \\\n",
       "0          0.0          0.0               0.0       0.0     0.0   \n",
       "1          0.0          0.0               0.0       0.0     0.0   \n",
       "2          0.0          0.0               0.0       0.0     0.0   \n",
       "3          0.0          0.0               0.0       0.0     0.0   \n",
       "4          0.0          0.0               0.0       0.0     0.0   \n",
       "\n",
       "   zurich reuters  \n",
       "0             0.0  \n",
       "1             0.0  \n",
       "2             0.0  \n",
       "3             0.0  \n",
       "4             0.0  \n",
       "\n",
       "[5 rows x 100000 columns]"
      ]
     },
     "execution_count": 51,
     "metadata": {},
     "output_type": "execute_result"
    }
   ],
   "source": [
    "tfidf_X_train_df.head()"
   ]
  },
  {
   "cell_type": "code",
   "execution_count": 52,
   "metadata": {},
   "outputs": [
    {
     "data": {
      "text/plain": [
       "'hello i be a test article that demonstrate how the text preprocessor work it be a lovely sunny day outside with green tree and many color bird'"
      ]
     },
     "execution_count": 52,
     "metadata": {},
     "output_type": "execute_result"
    }
   ],
   "source": [
    "# Demonstrating Preprocessor2\n",
    "\n",
    "doc = 'Hello!!! I am a reuters.     reuters reuters TEST arTicle that demonstrates how the text preprocessor works. It is a lovely, sunny day outside with green trees and many colored birds.'\n",
    "\n",
    "preprocessor2(doc)"
   ]
  },
  {
   "cell_type": "code",
   "execution_count": 53,
   "metadata": {},
   "outputs": [],
   "source": [
    "# Term frequency-Inverse document frequency vectorizer with bigrams and trigrams, top 100,000 highest weighted tokens\n",
    "tfidf2 = TfidfVectorizer(preprocessor=preprocessor2, stop_words=stopwords_list(), ngram_range=(1, 3), max_features=100000)\n",
    "tfidf_train_model2 = tfidf2.fit(X_train)"
   ]
  },
  {
   "cell_type": "code",
   "execution_count": 55,
   "metadata": {},
   "outputs": [],
   "source": [
    "# save the training model\n",
    "with open('../tfidf_train_model.pkl', 'wb') as f:\n",
    "    pickle.dump(tfidf_train_model, f)"
   ]
  },
  {
   "cell_type": "code",
   "execution_count": null,
   "metadata": {},
   "outputs": [],
   "source": []
  },
  {
   "cell_type": "code",
   "execution_count": null,
   "metadata": {},
   "outputs": [],
   "source": []
  },
  {
   "cell_type": "code",
   "execution_count": null,
   "metadata": {},
   "outputs": [],
   "source": []
  },
  {
   "cell_type": "code",
   "execution_count": null,
   "metadata": {},
   "outputs": [],
   "source": []
  },
  {
   "cell_type": "code",
   "execution_count": null,
   "metadata": {},
   "outputs": [],
   "source": []
  },
  {
   "cell_type": "code",
   "execution_count": null,
   "metadata": {},
   "outputs": [],
   "source": []
  }
 ],
 "metadata": {
  "kernelspec": {
   "display_name": "Python 3",
   "language": "python",
   "name": "python3"
  },
  "language_info": {
   "codemirror_mode": {
    "name": "ipython",
    "version": 3
   },
   "file_extension": ".py",
   "mimetype": "text/x-python",
   "name": "python",
   "nbconvert_exporter": "python",
   "pygments_lexer": "ipython3",
   "version": "3.7.7"
  }
 },
 "nbformat": 4,
 "nbformat_minor": 4
}

{
 "cells": [
  {
   "cell_type": "code",
   "execution_count": 2,
   "metadata": {},
   "outputs": [],
   "source": [
    "import requests\n",
    "from bs4 import BeautifulSoup\n",
    "import numpy as np\n",
    "import pandas as pd"
   ]
  },
  {
   "cell_type": "code",
   "execution_count": null,
   "metadata": {},
   "outputs": [],
   "source": [
    "result = requests.get()"
   ]
  },
  {
   "cell_type": "code",
   "execution_count": null,
   "metadata": {},
   "outputs": [],
   "source": []
  },
  {
   "cell_type": "code",
   "execution_count": 3,
   "metadata": {},
   "outputs": [],
   "source": [
    "# New York Times API\n",
    "\n",
    "# api-endpoint \n",
    "URL = \"https://api.nytimes.com/svc/search/v2/articlesearch.json?q=election&fq=&api-key=TSuNtrxP1jikvx45aZ7OjLI9AgIWEwwg\"\n",
    "  \n",
    "# location given here \n",
    "  \n",
    "# defining a params dict for the parameters to be sent to the API \n",
    "PARAMS = {} \n",
    "  \n",
    "# sending get request and saving the response as response object \n",
    "r = requests.get(url = URL, params = PARAMS) \n",
    "  \n",
    "# extracting data in json format \n",
    "data = r.json() \n",
    "\n"
   ]
  },
  {
   "cell_type": "code",
   "execution_count": 18,
   "metadata": {},
   "outputs": [
    {
     "name": "stdout",
     "output_type": "stream",
     "text": [
      "https://www.nytimes.com/2020/06/02/us/politics/michael-flynn-kislyak-calls.html\n",
      "https://www.nytimes.com/2020/05/28/us/politics/nsa-russian-hack.html\n",
      "https://www.nytimes.com/2020/06/01/us/politics/emmet-sullivan-michael-flynn-appeals-court.html\n",
      "https://www.nytimes.com/2020/06/02/us/politics/bijan-kian-michael-flynn.html\n",
      "https://www.nytimes.com/2020/06/03/us/politics/rod-rosenstein.html\n",
      "https://www.nytimes.com/2020/05/29/us/politics/flynn-russian-ambassador-transcripts.html\n",
      "https://www.nytimes.com/2020/05/28/us/politics/mueller-walid-phares.html\n",
      "https://www.nytimes.com/2020/05/27/us/politics/senate-hearing-russia-justice-department-rosenstein.html\n",
      "https://www.nytimes.com/2020/05/26/us/politics/fisa-bill-amendment.html\n",
      "https://www.nytimes.com/2020/05/22/us/politics/michael-flynn-appeals-court.html\n"
     ]
    }
   ],
   "source": [
    "for entry in data[\"response\"][\"docs\"]:\n",
    "    print(entry[\"web_url\"])\n",
    "    \n",
    "    \n",
    "# print(data)"
   ]
  },
  {
   "cell_type": "code",
   "execution_count": null,
   "metadata": {},
   "outputs": [],
   "source": []
  },
  {
   "cell_type": "code",
   "execution_count": null,
   "metadata": {},
   "outputs": [],
   "source": []
  }
 ],
 "metadata": {
  "kernelspec": {
   "display_name": "Python 3",
   "language": "python",
   "name": "python3"
  },
  "language_info": {
   "codemirror_mode": {
    "name": "ipython",
    "version": 3
   },
   "file_extension": ".py",
   "mimetype": "text/x-python",
   "name": "python",
   "nbconvert_exporter": "python",
   "pygments_lexer": "ipython3",
   "version": "3.7.7"
  }
 },
 "nbformat": 4,
 "nbformat_minor": 4
}

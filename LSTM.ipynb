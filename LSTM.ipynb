{
 "cells": [
  {
   "cell_type": "code",
   "execution_count": 3,
   "metadata": {},
   "outputs": [],
   "source": [
    "import pandas as pd\n",
    "import numpy as np\n",
    "import matplotlib.pyplot as plt\n",
    "%matplotlib inline"
   ]
  },
  {
   "cell_type": "code",
   "execution_count": 4,
   "metadata": {},
   "outputs": [],
   "source": [
    "from src.helpers import *"
   ]
  },
  {
   "cell_type": "code",
   "execution_count": 5,
   "metadata": {},
   "outputs": [],
   "source": [
    "import tensorflow as tf\n",
    "from tensorflow.keras.preprocessing.text import Tokenizer\n",
    "from tensorflow.keras.preprocessing.sequence import pad_sequences\n",
    "from tensorflow.keras.utils import to_categorical\n",
    "from tensorflow.keras.callbacks import Callback\n",
    "from tensorflow.keras.layers import Dense, Input, GlobalMaxPooling1D, LSTM\n",
    "from tensorflow.keras.layers import Conv1D, MaxPooling1D, Embedding, Dropout, Activation, Flatten\n",
    "\n",
    "from sklearn.model_selection import train_test_split\n",
    "from sklearn.metrics import classification_report,confusion_matrix,accuracy_score\n",
    "\n",
    "import string\n",
    "\n",
    "from nltk.corpus import stopwords\n",
    "STOPWORDS = set(stopwords.words('english'))\n",
    "from nltk.tokenize import word_tokenize\n",
    "import nltk \n",
    "from nltk.tokenize import sent_tokenize, word_tokenize\n",
    "from nltk.stem import WordNetLemmatizer\n",
    "wordnet_lemmatizer = WordNetLemmatizer()"
   ]
  },
  {
   "cell_type": "code",
   "execution_count": 6,
   "metadata": {},
   "outputs": [],
   "source": [
    "df_all = pd.read_csv('data/all_data.csv')\n",
    "df_all = df_all[['text', 'label']]"
   ]
  },
  {
   "cell_type": "code",
   "execution_count": 7,
   "metadata": {},
   "outputs": [],
   "source": [
    "# Text cleaning using imported functions\n",
    "def clean(text):\n",
    "    text = preprocessor(text)\n",
    "    stop_words = stopwords_list()\n",
    "    # Remove stopwords\n",
    "    text = ' '.join([word for word in text.split() if word not in stop_words])\n",
    "    return text"
   ]
  },
  {
   "cell_type": "code",
   "execution_count": 8,
   "metadata": {},
   "outputs": [],
   "source": [
    "df_all_clean = df_all.copy()\n",
    "df_all_clean['text'] = df_all_clean['text'].apply(lambda x: clean(x))"
   ]
  },
  {
   "cell_type": "code",
   "execution_count": 18,
   "metadata": {},
   "outputs": [],
   "source": [
    "df_all_clean.to_csv('../df_all_clean.csv')"
   ]
  },
  {
   "cell_type": "code",
   "execution_count": 9,
   "metadata": {},
   "outputs": [],
   "source": [
    "# splitting the data\n",
    "\n",
    "#split data into target and features, stratify to maintain class balance\n",
    "y = df_all_clean['label']\n",
    "X = df_all_clean['text']"
   ]
  },
  {
   "cell_type": "code",
   "execution_count": 10,
   "metadata": {},
   "outputs": [],
   "source": [
    "# 20000 words used like tfidf from before default\n",
    "# padding required for LSTM to work, length being 40 max words default\n",
    "\n",
    "def preprocessing(X, y, num_words=20000, max_len=40):\n",
    "    X_train, X_test, y_train, y_test = train_test_split(X, y, test_size=0.2, random_state=42, stratify=y)\n",
    "    tokenizer = Tokenizer(num_words=num_words, oov_token='<OOV>')\n",
    "    tokenizer.fit_on_texts(X_train)\n",
    "    train_sequences = tokenizer.texts_to_sequences(X_train)\n",
    "    padded_train = pad_sequences(train_sequences, maxlen=max_len,padding='post', truncating='post')\n",
    "    test_sequences = tokenizer.texts_to_sequences(X_test)\n",
    "    padded_test = pad_sequences(test_sequences, maxlen=max_len,\n",
    "                               padding='post',\n",
    "                               truncating='post')\n",
    "    return padded_train, padded_test, y_train, y_test"
   ]
  },
  {
   "cell_type": "code",
   "execution_count": 11,
   "metadata": {},
   "outputs": [],
   "source": [
    "X_train, X_test, y_train, y_test = preprocessing(X, y)"
   ]
  },
  {
   "cell_type": "code",
   "execution_count": null,
   "metadata": {},
   "outputs": [],
   "source": []
  },
  {
   "cell_type": "code",
   "execution_count": 16,
   "metadata": {},
   "outputs": [],
   "source": [
    "model1 = tf.keras.Sequential()\n",
    "\n",
    "#Non-trainable embeddidng layer\n",
    "model1.add(tf.keras.layers.Embedding(20000, output_dim=300))\n",
    "    \n",
    "model1.add(tf.keras.layers.LSTM(units=128, return_sequences = True))\n",
    "model1.add(tf.keras.layers.Dropout(0.2))\n",
    "model1.add(tf.keras.layers.LSTM(units=64))\n",
    "model1.add(tf.keras.layers.Dropout(0.1))\n",
    "model1.add(tf.keras.layers.Dense(units = 32 , activation = 'relu'))\n",
    "model1.add(tf.keras.layers.Dense(1, activation='sigmoid'))\n",
    "model1.compile(loss='binary_crossentropy', optimizer='adam', metrics=['accuracy', 'Precision'])"
   ]
  },
  {
   "cell_type": "code",
   "execution_count": 17,
   "metadata": {},
   "outputs": [
    {
     "name": "stdout",
     "output_type": "stream",
     "text": [
      "Train on 44816 samples, validate on 11204 samples\n",
      "Epoch 1/10\n",
      "44816/44816 [==============================] - 26s 588us/sample - loss: 0.2278 - accuracy: 0.9159 - Precision: 0.9709 - val_loss: 0.1806 - val_accuracy: 0.9331 - val_Precision: 0.9749\n",
      "Epoch 2/10\n",
      "44816/44816 [==============================] - 20s 445us/sample - loss: 0.1416 - accuracy: 0.9407 - Precision: 0.9885 - val_loss: 0.1563 - val_accuracy: 0.9343 - val_Precision: 0.9894\n",
      "Epoch 3/10\n",
      "44816/44816 [==============================] - 20s 449us/sample - loss: 0.1001 - accuracy: 0.9493 - Precision: 0.9554 - val_loss: 0.1601 - val_accuracy: 0.9342 - val_Precision: 0.9292\n",
      "Epoch 4/10\n",
      "44816/44816 [==============================] - 20s 443us/sample - loss: 0.0788 - accuracy: 0.9618 - Precision: 0.9500 - val_loss: 0.1850 - val_accuracy: 0.9347 - val_Precision: 0.9257\n",
      "Epoch 5/10\n",
      "44816/44816 [==============================] - 21s 470us/sample - loss: 0.0683 - accuracy: 0.9698 - Precision: 0.9554 - val_loss: 0.2010 - val_accuracy: 0.9348 - val_Precision: 0.9342\n",
      "Epoch 6/10\n",
      "44816/44816 [==============================] - 20s 444us/sample - loss: 0.0587 - accuracy: 0.9751 - Precision: 0.9627 - val_loss: 0.2477 - val_accuracy: 0.9290 - val_Precision: 0.9311\n",
      "Epoch 7/10\n",
      "44816/44816 [==============================] - 21s 459us/sample - loss: 0.0469 - accuracy: 0.9814 - Precision: 0.9713 - val_loss: 0.2424 - val_accuracy: 0.9317 - val_Precision: 0.9439\n",
      "Epoch 8/10\n",
      "44816/44816 [==============================] - 20s 444us/sample - loss: 0.0419 - accuracy: 0.9842 - Precision: 0.9753 - val_loss: 0.2252 - val_accuracy: 0.9281 - val_Precision: 0.9234\n",
      "Epoch 9/10\n",
      "44816/44816 [==============================] - 20s 447us/sample - loss: 0.0326 - accuracy: 0.9882 - Precision: 0.9820 - val_loss: 0.2610 - val_accuracy: 0.9250 - val_Precision: 0.9051\n",
      "Epoch 10/10\n",
      "44816/44816 [==============================] - 21s 469us/sample - loss: 0.0267 - accuracy: 0.9900 - Precision: 0.9849 - val_loss: 0.2324 - val_accuracy: 0.9295 - val_Precision: 0.9269\n"
     ]
    },
    {
     "data": {
      "text/plain": [
       "<tensorflow.python.keras.callbacks.History at 0x7faffc048c50>"
      ]
     },
     "execution_count": 17,
     "metadata": {},
     "output_type": "execute_result"
    }
   ],
   "source": [
    "model1.fit(X_train, y_train, batch_size=64, epochs=10, verbose=1, validation_split = 0.2)\n"
   ]
  },
  {
   "cell_type": "code",
   "execution_count": 14,
   "metadata": {},
   "outputs": [
    {
     "name": "stdout",
     "output_type": "stream",
     "text": [
      "Model: \"sequential\"\n",
      "_________________________________________________________________\n",
      "Layer (type)                 Output Shape              Param #   \n",
      "=================================================================\n",
      "embedding (Embedding)        (None, None, 300)         6000000   \n",
      "_________________________________________________________________\n",
      "lstm (LSTM)                  (None, None, 128)         219648    \n",
      "_________________________________________________________________\n",
      "dropout (Dropout)            (None, None, 128)         0         \n",
      "_________________________________________________________________\n",
      "lstm_1 (LSTM)                (None, 64)                49408     \n",
      "_________________________________________________________________\n",
      "dropout_1 (Dropout)          (None, 64)                0         \n",
      "_________________________________________________________________\n",
      "dense (Dense)                (None, 32)                2080      \n",
      "_________________________________________________________________\n",
      "dense_1 (Dense)              (None, 1)                 33        \n",
      "=================================================================\n",
      "Total params: 6,271,169\n",
      "Trainable params: 6,271,169\n",
      "Non-trainable params: 0\n",
      "_________________________________________________________________\n"
     ]
    }
   ],
   "source": [
    "model1.summary()"
   ]
  },
  {
   "cell_type": "code",
   "execution_count": null,
   "metadata": {},
   "outputs": [],
   "source": [
    "y_hat1 = model1.predict(X_test)"
   ]
  },
  {
   "cell_type": "code",
   "execution_count": 21,
   "metadata": {},
   "outputs": [],
   "source": [
    "y_hat1_classes = model1.predict_classes(X_test)\n",
    "cf_matrix = confusion_matrix(y_test,y_hat1_classes)"
   ]
  },
  {
   "cell_type": "code",
   "execution_count": 22,
   "metadata": {},
   "outputs": [
    {
     "data": {
      "text/plain": [
       "array([[6918,  528],\n",
       "       [ 493, 6067]])"
      ]
     },
     "execution_count": 22,
     "metadata": {},
     "output_type": "execute_result"
    }
   ],
   "source": [
    "cf_matrix"
   ]
  },
  {
   "cell_type": "code",
   "execution_count": 24,
   "metadata": {},
   "outputs": [],
   "source": [
    "model2 = tf.keras.Sequential()\n",
    "\n",
    "model2.add(tf.keras.layers.Embedding(20000, 300))\n",
    "model2.add(tf.keras.layers.Bidirectional(tf.keras.layers.LSTM(300)))\n",
    "model2.add(tf.keras.layers.Dense(300, activation='relu'))\n",
    "model2.add(tf.keras.layers.Dense(1, activation='sigmoid'))\n",
    "model2.compile(loss='binary_crossentropy', optimizer='adam', metrics=['accuracy', 'Precision'])"
   ]
  },
  {
   "cell_type": "code",
   "execution_count": 25,
   "metadata": {},
   "outputs": [
    {
     "name": "stdout",
     "output_type": "stream",
     "text": [
      "Train on 44816 samples, validate on 11204 samples\n",
      "Epoch 1/10\n",
      "44816/44816 [==============================] - 30s 676us/sample - loss: 0.1785 - accuracy: 0.9240 - Precision: 0.9570 - val_loss: 0.1332 - val_accuracy: 0.9384 - val_Precision: 0.9298\n",
      "Epoch 2/10\n",
      "44816/44816 [==============================] - 27s 596us/sample - loss: 0.0893 - accuracy: 0.9577 - Precision: 0.9543 - val_loss: 0.1437 - val_accuracy: 0.9383 - val_Precision: 0.9231\n",
      "Epoch 3/10\n",
      "44816/44816 [==============================] - 27s 596us/sample - loss: 0.0668 - accuracy: 0.9689 - Precision: 0.9608 - val_loss: 0.1620 - val_accuracy: 0.9359 - val_Precision: 0.9251\n",
      "Epoch 4/10\n",
      "44816/44816 [==============================] - 27s 597us/sample - loss: 0.0477 - accuracy: 0.9781 - Precision: 0.9738 - val_loss: 0.1992 - val_accuracy: 0.9277 - val_Precision: 0.9134\n",
      "Epoch 5/10\n",
      "44816/44816 [==============================] - 27s 599us/sample - loss: 0.0352 - accuracy: 0.9848 - Precision: 0.9816 - val_loss: 0.2559 - val_accuracy: 0.9330 - val_Precision: 0.9191\n",
      "Epoch 6/10\n",
      "44816/44816 [==============================] - 27s 598us/sample - loss: 0.0233 - accuracy: 0.9907 - Precision: 0.9893 - val_loss: 0.2907 - val_accuracy: 0.9333 - val_Precision: 0.9299\n",
      "Epoch 7/10\n",
      "44816/44816 [==============================] - 27s 597us/sample - loss: 0.0157 - accuracy: 0.9944 - Precision: 0.9943 - val_loss: 0.3670 - val_accuracy: 0.9334 - val_Precision: 0.9389\n",
      "Epoch 8/10\n",
      "44816/44816 [==============================] - 27s 595us/sample - loss: 0.0113 - accuracy: 0.9960 - Precision: 0.9961 - val_loss: 0.3535 - val_accuracy: 0.9336 - val_Precision: 0.9356\n",
      "Epoch 9/10\n",
      "44816/44816 [==============================] - 27s 598us/sample - loss: 0.0089 - accuracy: 0.9970 - Precision: 0.9969 - val_loss: 0.3602 - val_accuracy: 0.9310 - val_Precision: 0.9302\n",
      "Epoch 10/10\n",
      "44816/44816 [==============================] - 27s 596us/sample - loss: 0.0058 - accuracy: 0.9978 - Precision: 0.9977 - val_loss: 0.4079 - val_accuracy: 0.9358 - val_Precision: 0.9384\n"
     ]
    },
    {
     "data": {
      "text/plain": [
       "<tensorflow.python.keras.callbacks.History at 0x7faf6058fc50>"
      ]
     },
     "execution_count": 25,
     "metadata": {},
     "output_type": "execute_result"
    }
   ],
   "source": [
    "model2.fit(X_train, y_train, batch_size=64, epochs=10, verbose=1, validation_split = 0.2)"
   ]
  },
  {
   "cell_type": "code",
   "execution_count": 26,
   "metadata": {},
   "outputs": [
    {
     "name": "stdout",
     "output_type": "stream",
     "text": [
      "Model: \"sequential_3\"\n",
      "_________________________________________________________________\n",
      "Layer (type)                 Output Shape              Param #   \n",
      "=================================================================\n",
      "embedding_3 (Embedding)      (None, None, 300)         6000000   \n",
      "_________________________________________________________________\n",
      "bidirectional_1 (Bidirection (None, 600)               1442400   \n",
      "_________________________________________________________________\n",
      "dense_6 (Dense)              (None, 300)               180300    \n",
      "_________________________________________________________________\n",
      "dense_7 (Dense)              (None, 1)                 301       \n",
      "=================================================================\n",
      "Total params: 7,623,001\n",
      "Trainable params: 7,623,001\n",
      "Non-trainable params: 0\n",
      "_________________________________________________________________\n"
     ]
    }
   ],
   "source": [
    "model2.summary()"
   ]
  },
  {
   "cell_type": "code",
   "execution_count": 27,
   "metadata": {},
   "outputs": [],
   "source": [
    "y_pred = model2.predict(X_test)"
   ]
  },
  {
   "cell_type": "code",
   "execution_count": 29,
   "metadata": {},
   "outputs": [],
   "source": [
    "y_pred_classes = model2.predict_classes(X_test)"
   ]
  },
  {
   "cell_type": "code",
   "execution_count": 30,
   "metadata": {},
   "outputs": [
    {
     "data": {
      "text/plain": [
       "array([[0],\n",
       "       [0],\n",
       "       [0],\n",
       "       ...,\n",
       "       [1],\n",
       "       [1],\n",
       "       [1]], dtype=int32)"
      ]
     },
     "execution_count": 30,
     "metadata": {},
     "output_type": "execute_result"
    }
   ],
   "source": [
    "y_pred_classes"
   ]
  },
  {
   "cell_type": "code",
   "execution_count": null,
   "metadata": {},
   "outputs": [],
   "source": []
  }
 ],
 "metadata": {
  "kernelspec": {
   "display_name": "Environment (conda_tensorflow2_p36)",
   "language": "python",
   "name": "conda_tensorflow2_p36"
  },
  "language_info": {
   "codemirror_mode": {
    "name": "ipython",
    "version": 3
   },
   "file_extension": ".py",
   "mimetype": "text/x-python",
   "name": "python",
   "nbconvert_exporter": "python",
   "pygments_lexer": "ipython3",
   "version": "3.6.10"
  }
 },
 "nbformat": 4,
 "nbformat_minor": 4
}

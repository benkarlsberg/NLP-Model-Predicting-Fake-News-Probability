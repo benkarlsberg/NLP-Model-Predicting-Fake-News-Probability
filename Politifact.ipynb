{
 "cells": [
  {
   "cell_type": "code",
   "execution_count": 72,
   "metadata": {},
   "outputs": [
    {
     "name": "stdout",
     "output_type": "stream",
     "text": [
      "The autoreload extension is already loaded. To reload it, use:\n",
      "  %reload_ext autoreload\n"
     ]
    }
   ],
   "source": [
    "import pandas as pd\n",
    "import numpy as np\n",
    "import json\n",
    "from pandas.io.json import json_normalize\n",
    "import glob\n",
    "from src.helpers import *\n",
    "%load_ext autoreload\n",
    "%autoreload 2"
   ]
  },
  {
   "cell_type": "code",
   "execution_count": 2,
   "metadata": {},
   "outputs": [],
   "source": [
    "# first json file\n",
    "\n",
    "with open(\"../Fake_news_data/Politifact_data/politiJson1.json\", 'r', encoding='latin-1') as f:\n",
    "    json0 = json.load(f)\n",
    "    "
   ]
  },
  {
   "cell_type": "code",
   "execution_count": 9,
   "metadata": {},
   "outputs": [
    {
     "data": {
      "text/plain": [
       "dict_keys(['meta', 'objects'])"
      ]
     },
     "execution_count": 9,
     "metadata": {},
     "output_type": "execute_result"
    }
   ],
   "source": [
    "json0.keys()"
   ]
  },
  {
   "cell_type": "code",
   "execution_count": 3,
   "metadata": {},
   "outputs": [
    {
     "name": "stderr",
     "output_type": "stream",
     "text": [
      "/Users/benkarlsberg/opt/anaconda3/envs/datasci/lib/python3.7/site-packages/ipykernel_launcher.py:1: FutureWarning: pandas.io.json.json_normalize is deprecated, use pandas.json_normalize instead\n",
      "  \"\"\"Entry point for launching an IPython kernel.\n"
     ]
    }
   ],
   "source": [
    "df0 = json_normalize(json0['objects'])"
   ]
  },
  {
   "cell_type": "code",
   "execution_count": 6,
   "metadata": {},
   "outputs": [
    {
     "data": {
      "text/plain": [
       "(100, 67)"
      ]
     },
     "execution_count": 6,
     "metadata": {},
     "output_type": "execute_result"
    }
   ],
   "source": [
    "df0.shape"
   ]
  },
  {
   "cell_type": "code",
   "execution_count": 4,
   "metadata": {},
   "outputs": [
    {
     "data": {
      "text/html": [
       "<div>\n",
       "<style scoped>\n",
       "    .dataframe tbody tr th:only-of-type {\n",
       "        vertical-align: middle;\n",
       "    }\n",
       "\n",
       "    .dataframe tbody tr th {\n",
       "        vertical-align: top;\n",
       "    }\n",
       "\n",
       "    .dataframe thead th {\n",
       "        text-align: right;\n",
       "    }\n",
       "</style>\n",
       "<table border=\"1\" class=\"dataframe\">\n",
       "  <thead>\n",
       "    <tr style=\"text-align: right;\">\n",
       "      <th></th>\n",
       "      <th>art</th>\n",
       "      <th>author</th>\n",
       "      <th>canonical_url</th>\n",
       "      <th>editor</th>\n",
       "      <th>facebook_headline</th>\n",
       "      <th>id</th>\n",
       "      <th>in_future</th>\n",
       "      <th>is_pundit</th>\n",
       "      <th>make_public</th>\n",
       "      <th>preview</th>\n",
       "      <th>...</th>\n",
       "      <th>speaker.primary_edition.resource_uri</th>\n",
       "      <th>speaker.promise_meter_cutout</th>\n",
       "      <th>speaker.resource_uri</th>\n",
       "      <th>speaker.total_count</th>\n",
       "      <th>speaker.true_count</th>\n",
       "      <th>speaker.website</th>\n",
       "      <th>statement_type.id</th>\n",
       "      <th>statement_type.resource_uri</th>\n",
       "      <th>statement_type.statement_type</th>\n",
       "      <th>statement_type.type_description</th>\n",
       "    </tr>\n",
       "  </thead>\n",
       "  <tbody>\n",
       "    <tr>\n",
       "      <th>0</th>\n",
       "      <td>[{'brightcove': '', 'caption': 'A motorcyclist...</td>\n",
       "      <td>[{'email_address': 'immigration@politifact.com...</td>\n",
       "      <td>/truth-o-meter/statements/2017/may/31/john-kel...</td>\n",
       "      <td>[{'email_address': 'holan@politifact.com', 'fi...</td>\n",
       "      <td>DHS: many countries in travel ban don't have U...</td>\n",
       "      <td>14167</td>\n",
       "      <td>False</td>\n",
       "      <td>False</td>\n",
       "      <td>True</td>\n",
       "      <td>True</td>\n",
       "      <td>...</td>\n",
       "      <td>/api/v/2/edition/1/</td>\n",
       "      <td>None</td>\n",
       "      <td>/api/v/2/person/3953/</td>\n",
       "      <td>2</td>\n",
       "      <td>1</td>\n",
       "      <td>https://www.whitehouse.gov/</td>\n",
       "      <td>2</td>\n",
       "      <td>/api/v/2/statementtype/2/</td>\n",
       "      <td>Claim</td>\n",
       "      <td>A statement, purported as fact.</td>\n",
       "    </tr>\n",
       "    <tr>\n",
       "      <th>1</th>\n",
       "      <td>[{'brightcove': '', 'caption': 'How valuable w...</td>\n",
       "      <td>[{'email_address': 'ljacobson@politifact.com',...</td>\n",
       "      <td>/truth-o-meter/statements/2017/may/26/donald-t...</td>\n",
       "      <td>[{'email_address': 'asharockman@politifact.com...</td>\n",
       "      <td>Did Donald Trump's trip create or save 'millio...</td>\n",
       "      <td>14159</td>\n",
       "      <td>False</td>\n",
       "      <td>False</td>\n",
       "      <td>True</td>\n",
       "      <td>True</td>\n",
       "      <td>...</td>\n",
       "      <td>/api/v/2/edition/1/</td>\n",
       "      <td>None</td>\n",
       "      <td>/api/v/2/person/1019/</td>\n",
       "      <td>501</td>\n",
       "      <td>21</td>\n",
       "      <td>https://www.donaldjtrump.com/</td>\n",
       "      <td>2</td>\n",
       "      <td>/api/v/2/statementtype/2/</td>\n",
       "      <td>Claim</td>\n",
       "      <td>A statement, purported as fact.</td>\n",
       "    </tr>\n",
       "    <tr>\n",
       "      <th>2</th>\n",
       "      <td>[{'brightcove': '', 'caption': 'We took a clos...</td>\n",
       "      <td>[{'email_address': 'ljacobson@politifact.com',...</td>\n",
       "      <td>/truth-o-meter/statements/2017/may/25/james-la...</td>\n",
       "      <td>[{'email_address': 'ksanders@politifact.com', ...</td>\n",
       "      <td>Did Obamacare premiums double in most states t...</td>\n",
       "      <td>14152</td>\n",
       "      <td>False</td>\n",
       "      <td>False</td>\n",
       "      <td>True</td>\n",
       "      <td>True</td>\n",
       "      <td>...</td>\n",
       "      <td>/api/v/2/edition/1/</td>\n",
       "      <td>None</td>\n",
       "      <td>/api/v/2/person/3950/</td>\n",
       "      <td>3</td>\n",
       "      <td>0</td>\n",
       "      <td>https://www.lankford.senate.gov/</td>\n",
       "      <td>2</td>\n",
       "      <td>/api/v/2/statementtype/2/</td>\n",
       "      <td>Claim</td>\n",
       "      <td>A statement, purported as fact.</td>\n",
       "    </tr>\n",
       "    <tr>\n",
       "      <th>3</th>\n",
       "      <td>[{'brightcove': '', 'caption': 'The Canadian C...</td>\n",
       "      <td>[{'email_address': 'smithar@presspartners.org'...</td>\n",
       "      <td>/truth-o-meter/statements/2017/may/24/donald-t...</td>\n",
       "      <td>[{'email_address': 'jgreenberg@politifact.com'...</td>\n",
       "      <td>Trump goes a bit overboard with icebreaker claim</td>\n",
       "      <td>14147</td>\n",
       "      <td>False</td>\n",
       "      <td>False</td>\n",
       "      <td>True</td>\n",
       "      <td>True</td>\n",
       "      <td>...</td>\n",
       "      <td>/api/v/2/edition/1/</td>\n",
       "      <td>None</td>\n",
       "      <td>/api/v/2/person/1019/</td>\n",
       "      <td>501</td>\n",
       "      <td>21</td>\n",
       "      <td>https://www.donaldjtrump.com/</td>\n",
       "      <td>2</td>\n",
       "      <td>/api/v/2/statementtype/2/</td>\n",
       "      <td>Claim</td>\n",
       "      <td>A statement, purported as fact.</td>\n",
       "    </tr>\n",
       "    <tr>\n",
       "      <th>4</th>\n",
       "      <td>[{'brightcove': '', 'caption': 'Rep. Waters, D...</td>\n",
       "      <td>[{'email_address': 'jgreenberg@politifact.com'...</td>\n",
       "      <td>/truth-o-meter/statements/2017/may/19/maxine-w...</td>\n",
       "      <td>[{'email_address': 'asharockman@politifact.com...</td>\n",
       "      <td>Checking Dem claim Manafort visited Moscow dur...</td>\n",
       "      <td>14134</td>\n",
       "      <td>False</td>\n",
       "      <td>False</td>\n",
       "      <td>True</td>\n",
       "      <td>True</td>\n",
       "      <td>...</td>\n",
       "      <td>/api/v/2/edition/49/</td>\n",
       "      <td>None</td>\n",
       "      <td>/api/v/2/person/3905/</td>\n",
       "      <td>2</td>\n",
       "      <td>0</td>\n",
       "      <td>https://waters.house.gov/</td>\n",
       "      <td>2</td>\n",
       "      <td>/api/v/2/statementtype/2/</td>\n",
       "      <td>Claim</td>\n",
       "      <td>A statement, purported as fact.</td>\n",
       "    </tr>\n",
       "  </tbody>\n",
       "</table>\n",
       "<p>5 rows × 67 columns</p>\n",
       "</div>"
      ],
      "text/plain": [
       "                                                 art  \\\n",
       "0  [{'brightcove': '', 'caption': 'A motorcyclist...   \n",
       "1  [{'brightcove': '', 'caption': 'How valuable w...   \n",
       "2  [{'brightcove': '', 'caption': 'We took a clos...   \n",
       "3  [{'brightcove': '', 'caption': 'The Canadian C...   \n",
       "4  [{'brightcove': '', 'caption': 'Rep. Waters, D...   \n",
       "\n",
       "                                              author  \\\n",
       "0  [{'email_address': 'immigration@politifact.com...   \n",
       "1  [{'email_address': 'ljacobson@politifact.com',...   \n",
       "2  [{'email_address': 'ljacobson@politifact.com',...   \n",
       "3  [{'email_address': 'smithar@presspartners.org'...   \n",
       "4  [{'email_address': 'jgreenberg@politifact.com'...   \n",
       "\n",
       "                                       canonical_url  \\\n",
       "0  /truth-o-meter/statements/2017/may/31/john-kel...   \n",
       "1  /truth-o-meter/statements/2017/may/26/donald-t...   \n",
       "2  /truth-o-meter/statements/2017/may/25/james-la...   \n",
       "3  /truth-o-meter/statements/2017/may/24/donald-t...   \n",
       "4  /truth-o-meter/statements/2017/may/19/maxine-w...   \n",
       "\n",
       "                                              editor  \\\n",
       "0  [{'email_address': 'holan@politifact.com', 'fi...   \n",
       "1  [{'email_address': 'asharockman@politifact.com...   \n",
       "2  [{'email_address': 'ksanders@politifact.com', ...   \n",
       "3  [{'email_address': 'jgreenberg@politifact.com'...   \n",
       "4  [{'email_address': 'asharockman@politifact.com...   \n",
       "\n",
       "                                   facebook_headline     id  in_future  \\\n",
       "0  DHS: many countries in travel ban don't have U...  14167      False   \n",
       "1  Did Donald Trump's trip create or save 'millio...  14159      False   \n",
       "2  Did Obamacare premiums double in most states t...  14152      False   \n",
       "3   Trump goes a bit overboard with icebreaker claim  14147      False   \n",
       "4  Checking Dem claim Manafort visited Moscow dur...  14134      False   \n",
       "\n",
       "   is_pundit  make_public  preview  ... speaker.primary_edition.resource_uri  \\\n",
       "0      False         True     True  ...                  /api/v/2/edition/1/   \n",
       "1      False         True     True  ...                  /api/v/2/edition/1/   \n",
       "2      False         True     True  ...                  /api/v/2/edition/1/   \n",
       "3      False         True     True  ...                  /api/v/2/edition/1/   \n",
       "4      False         True     True  ...                 /api/v/2/edition/49/   \n",
       "\n",
       "  speaker.promise_meter_cutout   speaker.resource_uri speaker.total_count  \\\n",
       "0                         None  /api/v/2/person/3953/                   2   \n",
       "1                         None  /api/v/2/person/1019/                 501   \n",
       "2                         None  /api/v/2/person/3950/                   3   \n",
       "3                         None  /api/v/2/person/1019/                 501   \n",
       "4                         None  /api/v/2/person/3905/                   2   \n",
       "\n",
       "  speaker.true_count                   speaker.website statement_type.id  \\\n",
       "0                  1       https://www.whitehouse.gov/                 2   \n",
       "1                 21     https://www.donaldjtrump.com/                 2   \n",
       "2                  0  https://www.lankford.senate.gov/                 2   \n",
       "3                 21     https://www.donaldjtrump.com/                 2   \n",
       "4                  0         https://waters.house.gov/                 2   \n",
       "\n",
       "  statement_type.resource_uri statement_type.statement_type  \\\n",
       "0   /api/v/2/statementtype/2/                         Claim   \n",
       "1   /api/v/2/statementtype/2/                         Claim   \n",
       "2   /api/v/2/statementtype/2/                         Claim   \n",
       "3   /api/v/2/statementtype/2/                         Claim   \n",
       "4   /api/v/2/statementtype/2/                         Claim   \n",
       "\n",
       "   statement_type.type_description  \n",
       "0  A statement, purported as fact.  \n",
       "1  A statement, purported as fact.  \n",
       "2  A statement, purported as fact.  \n",
       "3  A statement, purported as fact.  \n",
       "4  A statement, purported as fact.  \n",
       "\n",
       "[5 rows x 67 columns]"
      ]
     },
     "execution_count": 4,
     "metadata": {},
     "output_type": "execute_result"
    }
   ],
   "source": [
    "df0.head()"
   ]
  },
  {
   "cell_type": "code",
   "execution_count": 5,
   "metadata": {},
   "outputs": [
    {
     "data": {
      "text/plain": [
       "Index(['art', 'author', 'canonical_url', 'editor', 'facebook_headline', 'id',\n",
       "       'in_future', 'is_pundit', 'make_public', 'preview', 'researcher',\n",
       "       'resource_uri', 'ruling_comments', 'ruling_comments_date',\n",
       "       'ruling_date', 'ruling_headline', 'ruling_headline_slug',\n",
       "       'ruling_link_text', 'ruling_state', 'source_documents', 'sources',\n",
       "       'statement', 'statement_context', 'statement_date', 'subject', 'target',\n",
       "       'twitter_headline', 'edition.edition', 'edition.edition_slug',\n",
       "       'edition.id', 'edition.meter_name', 'edition.resource_uri', 'ruling.id',\n",
       "       'ruling.resource_uri', 'ruling.ruling', 'ruling.ruling_graphic',\n",
       "       'ruling.ruling_slug', 'speaker.barely_true_count',\n",
       "       'speaker.current_job', 'speaker.false_count', 'speaker.first_name',\n",
       "       'speaker.half_true_count', 'speaker.home_state', 'speaker.id',\n",
       "       'speaker.last_name', 'speaker.mostly_true_count', 'speaker.name_slug',\n",
       "       'speaker.pants_count', 'speaker.party.id', 'speaker.party.party',\n",
       "       'speaker.party.party_slug', 'speaker.party.resource_uri',\n",
       "       'speaker.photo', 'speaker.primary_edition.edition',\n",
       "       'speaker.primary_edition.edition_slug', 'speaker.primary_edition.id',\n",
       "       'speaker.primary_edition.meter_name',\n",
       "       'speaker.primary_edition.resource_uri', 'speaker.promise_meter_cutout',\n",
       "       'speaker.resource_uri', 'speaker.total_count', 'speaker.true_count',\n",
       "       'speaker.website', 'statement_type.id', 'statement_type.resource_uri',\n",
       "       'statement_type.statement_type', 'statement_type.type_description'],\n",
       "      dtype='object')"
      ]
     },
     "execution_count": 5,
     "metadata": {},
     "output_type": "execute_result"
    }
   ],
   "source": [
    "df0.columns"
   ]
  },
  {
   "cell_type": "code",
   "execution_count": 10,
   "metadata": {},
   "outputs": [
    {
     "data": {
      "text/plain": [
       "\"DHS: many countries in travel ban don't have U.S. embassies\""
      ]
     },
     "execution_count": 10,
     "metadata": {},
     "output_type": "execute_result"
    }
   ],
   "source": [
    "# this is the statement that was made on facebook\n",
    "df0.facebook_headline[0]"
   ]
  },
  {
   "cell_type": "code",
   "execution_count": 29,
   "metadata": {},
   "outputs": [
    {
     "data": {
      "text/plain": [
       "\"DHS Secretary John Kelly claims Many of the countries in Trump's travel ban don't even have a U.S. embassy\""
      ]
     },
     "execution_count": 29,
     "metadata": {},
     "output_type": "execute_result"
    }
   ],
   "source": [
    "# headline on twitter\n",
    "df0.twitter_headline[0]"
   ]
  },
  {
   "cell_type": "code",
   "execution_count": 13,
   "metadata": {},
   "outputs": [
    {
     "data": {
      "text/plain": [
       "'a Fox News interview'"
      ]
     },
     "execution_count": 13,
     "metadata": {},
     "output_type": "execute_result"
    }
   ],
   "source": [
    "# source of statement\n",
    "df0.statement_context[0]"
   ]
  },
  {
   "cell_type": "code",
   "execution_count": 15,
   "metadata": {},
   "outputs": [
    {
     "data": {
      "text/plain": [
       "'<p>&quot;Many of the countries in question (in Trump&rsquo;s travel ban) don&#39;t even have a U.S. embassy there to help us vet.&quot;</p>\\r\\n'"
      ]
     },
     "execution_count": 15,
     "metadata": {},
     "output_type": "execute_result"
    }
   ],
   "source": [
    "df0.statement[0]"
   ]
  },
  {
   "cell_type": "code",
   "execution_count": 22,
   "metadata": {},
   "outputs": [
    {
     "data": {
      "text/plain": [
       "'quotmany of the country in question in trumprsquos travel ban even have a u embassy there to help u vetquot'"
      ]
     },
     "execution_count": 22,
     "metadata": {},
     "output_type": "execute_result"
    }
   ],
   "source": [
    "preprocessor(df0.statement[0])"
   ]
  },
  {
   "cell_type": "code",
   "execution_count": 28,
   "metadata": {},
   "outputs": [
    {
     "data": {
      "text/plain": [
       "'Immigration'"
      ]
     },
     "execution_count": 28,
     "metadata": {},
     "output_type": "execute_result"
    }
   ],
   "source": [
    "# topic of the statement (in a list with index 1 and key = 'subject')\n",
    "\n",
    "df0.subject[0][1]['subject']"
   ]
  },
  {
   "cell_type": "code",
   "execution_count": 30,
   "metadata": {},
   "outputs": [
    {
     "data": {
      "text/plain": [
       "'True'"
      ]
     },
     "execution_count": 30,
     "metadata": {},
     "output_type": "execute_result"
    }
   ],
   "source": [
    "# label that reviewer gave\n",
    "df0['ruling.ruling'][0]"
   ]
  },
  {
   "cell_type": "code",
   "execution_count": 32,
   "metadata": {},
   "outputs": [
    {
     "data": {
      "text/plain": [
       "0.5"
      ]
     },
     "execution_count": 32,
     "metadata": {},
     "output_type": "execute_result"
    }
   ],
   "source": [
    "# speaker ratio of truth statements (not necessary)\n",
    "df0['speaker.true_count'][0]/df0['speaker.total_count'][0]"
   ]
  },
  {
   "cell_type": "code",
   "execution_count": 8,
   "metadata": {},
   "outputs": [
    {
     "data": {
      "text/plain": [
       "'<p>Homeland Security Secretary John Kelly said judges who have ruled against President Donald Trump&rsquo;s executive order suspending immigration of nationals from some Muslim-majority nations are &quot;dead wrong&quot; to call the directive a &quot;Muslim ban.&quot;</p>\\r\\n\\r\\n<p>The issue is that there is &quot;very little ability&quot; to verify and vet the people coming from the countries listed in Trump&rsquo;s directive, Kelly said, adding that most of the countries have no passports, no police and no intelligence on its people.</p>\\r\\n\\r\\n<p>&quot;Many of the countries in question don&#39;t even have a U.S. embassy there to help us vet,&quot; <a href=\"http://www.foxnews.com/transcript/2017/05/28/sec-john-kelly-on-manchester-investigation-keeping-america-safe.html\">Kelly told Fox News&rsquo; Chris Wallace</a> on May 28.</p>\\r\\n\\r\\n<p>Trump&rsquo;s revised, March 6 order &mdash; currently <a href=\"http://www.politifact.com/truth-o-meter/promises/trumpometer/promise/1402/suspend-immigration-terror-prone-places/\">blocked by courts</a> &mdash; aimed to temporarily suspend entry of nationals from Iran, Libya, Syria, Somalia, Sudan and Yemen.&nbsp;</p>\\r\\n\\r\\n<p>Is it true that there is no U.S. embassy in many of those countries? Information from the State Department shows there isn&rsquo;t an embassy in at least four of those six. &nbsp;</p>\\r\\n\\r\\n<div class=\"pf_subheadline\">Limited U.S. diplomatic presence</div>\\r\\n\\r\\n<p>David Lapan, spokesman for the Department of Homeland Security, referred us to information posted on the State Department&rsquo;s website regarding countries with <a href=\"https://travel.state.gov/content/visas/en/general/countries-with-limited-or-no-u-s--visa-services.html\">limited or no U.S. visa services</a>. U.S. embassies and consulates sometimes limit or suspend their visa services for reasons that include natural disasters, civil unrest, war and security concerns, the State Department said.</p>\\r\\n\\r\\n<div class=\"pf_subheadline\">Iran&nbsp;</div>\\r\\n\\r\\n<p>The State Department website <a href=\"https://travel.state.gov/content/visas/en/general/countries-with-limited-or-no-u-s--visa-services.html\">said</a> the United States does not have diplomatic relationships with Iran, therefore no U.S. embassy or consulate in that country. Other countries listed as having no diplomatic relationship were Bhutan and North Korea.&nbsp;</p>\\r\\n\\r\\n<div class=\"pf_subheadline\">Libya</div>\\r\\n\\r\\n<p>The State Department&rsquo;s website <a href=\"https://libya.usembassy.gov/contact.html\">said</a> that on July 26, 2014, the U.S. embassy in Tripoli, Libya, &quot;went on ordered departure and staff temporarily departed due to the ongoing fighting around our embassy and the serious risks faced by our diplomatic personnel.&quot;</p>\\r\\n\\r\\n<p>The ambassador to Libya and a core group of personnel work from the U.S. embassy in Tunis, Tunisia.</p>\\r\\n\\r\\n<p>Since visa services are unavailable in Libya, the State Department designated the U.S. Consulate General in Casablanca,&nbsp;Morocco, &quot;as the processing post&quot; for visa applications from Libyan immigrants.</p>\\r\\n\\r\\n<div class=\"pf_subheadline\">Syria</div>\\r\\n\\r\\n<p>The U.S. embassy in Damascus, Syria, <a href=\"https://sy.usembassy.gov/embassy/damascus/\">suspended its operations in February 2012</a>. U.S. citizens in need of emergency assistance are to contact the embassy of the Czech Republic in Damascus, which acts as a protecting power for U.S. citizens.&nbsp;</p>\\r\\n\\r\\n<p>U.S. passports or visas are <a href=\"https://sy.usembassy.gov/embassy/damascus/\">not issued in Syria</a>.</p>\\r\\n\\r\\n<div class=\"pf_subheadline\">Somalia</div>\\r\\n\\r\\n<p>The United States <a href=\"https://so.usmission.gov/u-s-citizen-services/\">does not have an embassy</a> or diplomatic presence in Somalia. It has a mission to Somalia that operates out of Nairobi, Kenya.&nbsp;</p>\\r\\n\\r\\n<div class=\"pf_subheadline\">Embassies in Sudan, Yemen, Iraq</div>\\r\\n\\r\\n<p>The United States does <a href=\"https://sd.usembassy.gov/u-s-citizen-services/\">have an embassy</a> in Khartoum, Sudan.</p>\\r\\n\\r\\n<p>It also <a href=\"https://yemen.usembassy.gov/service.html\">has an embassy in Sana&rsquo;a, Yemen</a>, but out of political and security concerns has reduced its staffing to &quot;minimal levels.&quot; The embassy has also suspended its consular services, the State Department said. The U.S. embassy in Cairo, Egypt processes visas for Yemeni citizens.&nbsp;</p>\\r\\n\\r\\n<p>Trump&rsquo;s first executive order included Iraq, but the country was left out in the revised order. The United States <a href=\"https://iq.usembassy.gov/category/ambassador/\">does have an embassy in Iraq&rsquo;s capital</a>, Baghdad.</p>\\r\\n\\r\\n<p>Having an embassy helps in the vetting process because that&#39;s where the State Department can do most of its questioning, said Bill Hing, an immigration expert and law professor at the University of San Francisco School of Law.</p>\\r\\n\\r\\n<p>Though refugees from areas of conflict are also often vetted at U.S. embassies in other countries, Hing said.</p>\\r\\n\\r\\n<div class=\"pf_subheadline\">Our ruling&nbsp;</div>\\r\\n\\r\\n<p>Kelly said, &quot;Many of the countries in question (in Trump&rsquo;s travel ban) don&#39;t even have a U.S. embassy there to help us vet.&quot;&nbsp;</p>\\r\\n\\r\\n<p>Trump&rsquo;s revised executive order aimed to temporarily suspend entry of nationals from Iran, Libya, Syria, Somalia, Sudan and Yemen. The United States does not have an embassy in at least four of those six countries.</p>\\r\\n\\r\\n<p>We rate Kelly&rsquo;s statement True.</p>\\r\\n\\r\\n<div class=\\'artembed\\'>See Figure 1 on PolitiFact.com</div>\\r\\n'"
      ]
     },
     "execution_count": 8,
     "metadata": {},
     "output_type": "execute_result"
    }
   ],
   "source": [
    "# this is the reviewer's analysis to determine true or false\n",
    "\n",
    "df0.ruling_comments[0]"
   ]
  },
  {
   "cell_type": "code",
   "execution_count": null,
   "metadata": {},
   "outputs": [],
   "source": []
  },
  {
   "cell_type": "code",
   "execution_count": null,
   "metadata": {},
   "outputs": [],
   "source": []
  },
  {
   "cell_type": "code",
   "execution_count": 35,
   "metadata": {},
   "outputs": [],
   "source": [
    "df = df0[['facebook_headline', 'twitter_headline', 'statement_context', 'ruling.ruling']]"
   ]
  },
  {
   "cell_type": "code",
   "execution_count": 53,
   "metadata": {},
   "outputs": [
    {
     "data": {
      "text/html": [
       "<div>\n",
       "<style scoped>\n",
       "    .dataframe tbody tr th:only-of-type {\n",
       "        vertical-align: middle;\n",
       "    }\n",
       "\n",
       "    .dataframe tbody tr th {\n",
       "        vertical-align: top;\n",
       "    }\n",
       "\n",
       "    .dataframe thead th {\n",
       "        text-align: right;\n",
       "    }\n",
       "</style>\n",
       "<table border=\"1\" class=\"dataframe\">\n",
       "  <thead>\n",
       "    <tr style=\"text-align: right;\">\n",
       "      <th></th>\n",
       "      <th>facebook_headline</th>\n",
       "      <th>twitter_headline</th>\n",
       "      <th>statement_context</th>\n",
       "      <th>ruling.ruling</th>\n",
       "    </tr>\n",
       "  </thead>\n",
       "  <tbody>\n",
       "    <tr>\n",
       "      <th>0</th>\n",
       "      <td>DHS: many countries in travel ban don't have U...</td>\n",
       "      <td>DHS Secretary John Kelly claims Many of the co...</td>\n",
       "      <td>a Fox News interview</td>\n",
       "      <td>True</td>\n",
       "    </tr>\n",
       "    <tr>\n",
       "      <th>1</th>\n",
       "      <td>Did Donald Trump's trip create or save 'millio...</td>\n",
       "      <td>Did Donald Trump's trip create or save 'millio...</td>\n",
       "      <td>a tweet</td>\n",
       "      <td>False</td>\n",
       "    </tr>\n",
       "    <tr>\n",
       "      <th>2</th>\n",
       "      <td>Did Obamacare premiums double in most states t...</td>\n",
       "      <td>Did Obamacare premiums double in most states t...</td>\n",
       "      <td>a Facebook post</td>\n",
       "      <td>False</td>\n",
       "    </tr>\n",
       "    <tr>\n",
       "      <th>3</th>\n",
       "      <td>Trump goes a bit overboard with icebreaker claim</td>\n",
       "      <td>Trump goes a bit overboard with icebreaker claim</td>\n",
       "      <td>a U.S. Coast Guard commencement speech</td>\n",
       "      <td>Half-True</td>\n",
       "    </tr>\n",
       "    <tr>\n",
       "      <th>4</th>\n",
       "      <td>Checking Dem claim Manafort visited Moscow dur...</td>\n",
       "      <td>Mostly False: Democrat says Paul Manafort visi...</td>\n",
       "      <td>an interview on MSNBC's \"Morning Joe\"</td>\n",
       "      <td>Mostly False</td>\n",
       "    </tr>\n",
       "  </tbody>\n",
       "</table>\n",
       "</div>"
      ],
      "text/plain": [
       "                                   facebook_headline  \\\n",
       "0  DHS: many countries in travel ban don't have U...   \n",
       "1  Did Donald Trump's trip create or save 'millio...   \n",
       "2  Did Obamacare premiums double in most states t...   \n",
       "3   Trump goes a bit overboard with icebreaker claim   \n",
       "4  Checking Dem claim Manafort visited Moscow dur...   \n",
       "\n",
       "                                    twitter_headline  \\\n",
       "0  DHS Secretary John Kelly claims Many of the co...   \n",
       "1  Did Donald Trump's trip create or save 'millio...   \n",
       "2  Did Obamacare premiums double in most states t...   \n",
       "3   Trump goes a bit overboard with icebreaker claim   \n",
       "4  Mostly False: Democrat says Paul Manafort visi...   \n",
       "\n",
       "                         statement_context ruling.ruling  \n",
       "0                     a Fox News interview          True  \n",
       "1                                  a tweet         False  \n",
       "2                          a Facebook post         False  \n",
       "3  a U.S. Coast Guard commencement speech      Half-True  \n",
       "4    an interview on MSNBC's \"Morning Joe\"  Mostly False  "
      ]
     },
     "execution_count": 53,
     "metadata": {},
     "output_type": "execute_result"
    }
   ],
   "source": [
    "df.head()"
   ]
  },
  {
   "cell_type": "code",
   "execution_count": 54,
   "metadata": {},
   "outputs": [
    {
     "data": {
      "text/plain": [
       "facebook_headline    0\n",
       "twitter_headline     0\n",
       "statement_context    0\n",
       "ruling.ruling        0\n",
       "dtype: int64"
      ]
     },
     "execution_count": 54,
     "metadata": {},
     "output_type": "execute_result"
    }
   ],
   "source": [
    "df.isna().sum()"
   ]
  },
  {
   "cell_type": "code",
   "execution_count": 56,
   "metadata": {},
   "outputs": [
    {
     "data": {
      "text/plain": [
       "False             25\n",
       "Half-True         23\n",
       "Mostly True       20\n",
       "Mostly False      16\n",
       "True               9\n",
       "Pants on Fire!     5\n",
       "Full Flop          2\n",
       "Name: ruling.ruling, dtype: int64"
      ]
     },
     "execution_count": 56,
     "metadata": {},
     "output_type": "execute_result"
    }
   ],
   "source": [
    "df['ruling.ruling'].value_counts()"
   ]
  },
  {
   "cell_type": "code",
   "execution_count": 51,
   "metadata": {},
   "outputs": [
    {
     "data": {
      "text/plain": [
       "'Immigration'"
      ]
     },
     "execution_count": 51,
     "metadata": {},
     "output_type": "execute_result"
    }
   ],
   "source": [
    "df0.subject[0][1]['subject']"
   ]
  },
  {
   "cell_type": "code",
   "execution_count": 52,
   "metadata": {},
   "outputs": [
    {
     "data": {
      "text/plain": [
       "'Homeland Security'"
      ]
     },
     "execution_count": 52,
     "metadata": {},
     "output_type": "execute_result"
    }
   ],
   "source": [
    "df0.subject[0][0]['subject']"
   ]
  },
  {
   "cell_type": "code",
   "execution_count": 68,
   "metadata": {},
   "outputs": [
    {
     "name": "stderr",
     "output_type": "stream",
     "text": [
      "/Users/benkarlsberg/opt/anaconda3/envs/datasci/lib/python3.7/site-packages/ipykernel_launcher.py:1: SettingWithCopyWarning: \n",
      "A value is trying to be set on a copy of a slice from a DataFrame.\n",
      "Try using .loc[row_indexer,col_indexer] = value instead\n",
      "\n",
      "See the caveats in the documentation: https://pandas.pydata.org/pandas-docs/stable/user_guide/indexing.html#returning-a-view-versus-a-copy\n",
      "  \"\"\"Entry point for launching an IPython kernel.\n"
     ]
    }
   ],
   "source": [
    "df['subject'] = df0.subject.apply(lambda x: x[0]['subject'])"
   ]
  },
  {
   "cell_type": "code",
   "execution_count": 63,
   "metadata": {},
   "outputs": [
    {
     "data": {
      "text/plain": [
       "Health Care                16\n",
       "Homeland Security          11\n",
       "Economy                     8\n",
       "Elections                   7\n",
       "Crime                       7\n",
       "Foreign Policy              7\n",
       "History                     3\n",
       "China                       3\n",
       "Congress                    3\n",
       "Candidate Biography         3\n",
       "Corrections and Updates     3\n",
       "Immigration                 2\n",
       "Climate Change              2\n",
       "Congressional Rules         2\n",
       "Federal Budget              2\n",
       "Legal Issues                2\n",
       "Taxes                       1\n",
       "Environment                 1\n",
       "Wealth                      1\n",
       "Ethics                      1\n",
       "Public Health               1\n",
       "Terrorism                   1\n",
       "Government regulation       1\n",
       "Job Accomplishments         1\n",
       "Supreme Court               1\n",
       "Campaign Finance            1\n",
       "Education                   1\n",
       "Bipartisanship              1\n",
       "Debt                        1\n",
       "Abortion                    1\n",
       "Children                    1\n",
       "Trade                       1\n",
       "Military                    1\n",
       "Income                      1\n",
       "Animals                     1\n",
       "Name: subject, dtype: int64"
      ]
     },
     "execution_count": 63,
     "metadata": {},
     "output_type": "execute_result"
    }
   ],
   "source": [
    "subjects.value_counts()"
   ]
  },
  {
   "cell_type": "code",
   "execution_count": null,
   "metadata": {},
   "outputs": [],
   "source": []
  },
  {
   "cell_type": "code",
   "execution_count": null,
   "metadata": {},
   "outputs": [],
   "source": []
  },
  {
   "cell_type": "code",
   "execution_count": 66,
   "metadata": {},
   "outputs": [],
   "source": [
    "# all json files\n",
    "jsons = []\n",
    "for i in range(127):\n",
    "    with open(\"../Fake_news_data/Politifact_data/politiJson{}.json\".format(i), 'r', encoding='latin-1') as f:\n",
    "        try:\n",
    "            jsons.append(json.load(f))\n",
    "        except:\n",
    "            continue"
   ]
  },
  {
   "cell_type": "code",
   "execution_count": 67,
   "metadata": {},
   "outputs": [
    {
     "data": {
      "text/plain": [
       "111"
      ]
     },
     "execution_count": 67,
     "metadata": {},
     "output_type": "execute_result"
    }
   ],
   "source": [
    "len(jsons)"
   ]
  },
  {
   "cell_type": "code",
   "execution_count": 69,
   "metadata": {},
   "outputs": [
    {
     "name": "stderr",
     "output_type": "stream",
     "text": [
      "/Users/benkarlsberg/opt/anaconda3/envs/datasci/lib/python3.7/site-packages/ipykernel_launcher.py:4: FutureWarning: pandas.io.json.json_normalize is deprecated, use pandas.json_normalize instead\n",
      "  after removing the cwd from sys.path.\n"
     ]
    }
   ],
   "source": [
    "df_list = []\n",
    "\n",
    "for json in jsons:\n",
    "    json_df = json_normalize(json['objects'])\n",
    "    df_list.append(json_df)\n",
    "\n",
    "df_all = pd.concat(df_list)"
   ]
  },
  {
   "cell_type": "code",
   "execution_count": 70,
   "metadata": {},
   "outputs": [
    {
     "data": {
      "text/plain": [
       "(10605, 67)"
      ]
     },
     "execution_count": 70,
     "metadata": {},
     "output_type": "execute_result"
    }
   ],
   "source": [
    "df_all.shape"
   ]
  },
  {
   "cell_type": "code",
   "execution_count": 113,
   "metadata": {},
   "outputs": [],
   "source": [
    "df_select = df_all[['facebook_headline', 'twitter_headline', 'statement_context', 'ruling.ruling']]\n"
   ]
  },
  {
   "cell_type": "code",
   "execution_count": 74,
   "metadata": {},
   "outputs": [
    {
     "data": {
      "text/html": [
       "<div>\n",
       "<style scoped>\n",
       "    .dataframe tbody tr th:only-of-type {\n",
       "        vertical-align: middle;\n",
       "    }\n",
       "\n",
       "    .dataframe tbody tr th {\n",
       "        vertical-align: top;\n",
       "    }\n",
       "\n",
       "    .dataframe thead th {\n",
       "        text-align: right;\n",
       "    }\n",
       "</style>\n",
       "<table border=\"1\" class=\"dataframe\">\n",
       "  <thead>\n",
       "    <tr style=\"text-align: right;\">\n",
       "      <th></th>\n",
       "      <th>facebook_headline</th>\n",
       "      <th>twitter_headline</th>\n",
       "      <th>statement_context</th>\n",
       "      <th>ruling.ruling</th>\n",
       "    </tr>\n",
       "  </thead>\n",
       "  <tbody>\n",
       "    <tr>\n",
       "      <th>0</th>\n",
       "      <td>Sen. Tom Cotton misleads in claim about Dream ...</td>\n",
       "      <td>Sen. Tom Cotton claims Dream Act will be bigge...</td>\n",
       "      <td>an NBC interview</td>\n",
       "      <td>Mostly False</td>\n",
       "    </tr>\n",
       "    <tr>\n",
       "      <th>1</th>\n",
       "      <td>12 hurricanes coming toward U.S.? Fake post is...</td>\n",
       "      <td>12 hurricanes coming toward U.S.? Fake post is...</td>\n",
       "      <td>a post on the Internet</td>\n",
       "      <td>Pants on Fire!</td>\n",
       "    </tr>\n",
       "    <tr>\n",
       "      <th>2</th>\n",
       "      <td>Trump's Mostly False claim that NFL ratings ar...</td>\n",
       "      <td>Trump's Mostly False claim that NFL ratings ar...</td>\n",
       "      <td>a tweet</td>\n",
       "      <td>Mostly False</td>\n",
       "    </tr>\n",
       "    <tr>\n",
       "      <th>3</th>\n",
       "      <td>In debate, Roy Moore claims DACA a 'mere memo,...</td>\n",
       "      <td>In debate, Roy Moore claims DACA was a 'mere m...</td>\n",
       "      <td>a debate</td>\n",
       "      <td>Half-True</td>\n",
       "    </tr>\n",
       "    <tr>\n",
       "      <th>4</th>\n",
       "      <td>Alabama ranks high in charitable giving, but n...</td>\n",
       "      <td>Alabama ranks high in charitable giving, but n...</td>\n",
       "      <td>a debate</td>\n",
       "      <td>Half-True</td>\n",
       "    </tr>\n",
       "  </tbody>\n",
       "</table>\n",
       "</div>"
      ],
      "text/plain": [
       "                                   facebook_headline  \\\n",
       "0  Sen. Tom Cotton misleads in claim about Dream ...   \n",
       "1  12 hurricanes coming toward U.S.? Fake post is...   \n",
       "2  Trump's Mostly False claim that NFL ratings ar...   \n",
       "3  In debate, Roy Moore claims DACA a 'mere memo,...   \n",
       "4  Alabama ranks high in charitable giving, but n...   \n",
       "\n",
       "                                    twitter_headline       statement_context  \\\n",
       "0  Sen. Tom Cotton claims Dream Act will be bigge...        an NBC interview   \n",
       "1  12 hurricanes coming toward U.S.? Fake post is...  a post on the Internet   \n",
       "2  Trump's Mostly False claim that NFL ratings ar...                 a tweet   \n",
       "3  In debate, Roy Moore claims DACA was a 'mere m...                a debate   \n",
       "4  Alabama ranks high in charitable giving, but n...                a debate   \n",
       "\n",
       "    ruling.ruling  \n",
       "0    Mostly False  \n",
       "1  Pants on Fire!  \n",
       "2    Mostly False  \n",
       "3       Half-True  \n",
       "4       Half-True  "
      ]
     },
     "execution_count": 74,
     "metadata": {},
     "output_type": "execute_result"
    }
   ],
   "source": [
    "df_select.head()"
   ]
  },
  {
   "cell_type": "code",
   "execution_count": 115,
   "metadata": {},
   "outputs": [
    {
     "data": {
      "text/plain": [
       "Half-True         2090\n",
       "False             1989\n",
       "Mostly True       1978\n",
       "Mostly False      1739\n",
       "True              1602\n",
       "Pants on Fire!    1017\n",
       "Full Flop          114\n",
       "Half Flip           55\n",
       "No Flip             21\n",
       "Name: ruling.ruling, dtype: int64"
      ]
     },
     "execution_count": 115,
     "metadata": {},
     "output_type": "execute_result"
    }
   ],
   "source": [
    "df_select['ruling.ruling'].value_counts()"
   ]
  },
  {
   "cell_type": "code",
   "execution_count": 114,
   "metadata": {},
   "outputs": [
    {
     "data": {
      "text/plain": [
       "facebook_headline    9355\n",
       "twitter_headline     1600\n",
       "statement_context       0\n",
       "ruling.ruling           0\n",
       "dtype: int64"
      ]
     },
     "execution_count": 114,
     "metadata": {},
     "output_type": "execute_result"
    }
   ],
   "source": [
    "df_select.isna().sum()"
   ]
  },
  {
   "cell_type": "code",
   "execution_count": 116,
   "metadata": {},
   "outputs": [
    {
     "data": {
      "text/plain": [
       "facebook_headline    1600\n",
       "twitter_headline     1600\n",
       "statement_context       0\n",
       "ruling.ruling           0\n",
       "dtype: int64"
      ]
     },
     "execution_count": 116,
     "metadata": {},
     "output_type": "execute_result"
    }
   ],
   "source": [
    "# 1600 values where twitter and fb dont have values\n",
    "\n",
    "df_select[df_select.twitter_headline.isna()].isna().sum()"
   ]
  },
  {
   "cell_type": "code",
   "execution_count": 86,
   "metadata": {},
   "outputs": [
    {
     "data": {
      "text/html": [
       "<div>\n",
       "<style scoped>\n",
       "    .dataframe tbody tr th:only-of-type {\n",
       "        vertical-align: middle;\n",
       "    }\n",
       "\n",
       "    .dataframe tbody tr th {\n",
       "        vertical-align: top;\n",
       "    }\n",
       "\n",
       "    .dataframe thead th {\n",
       "        text-align: right;\n",
       "    }\n",
       "</style>\n",
       "<table border=\"1\" class=\"dataframe\">\n",
       "  <thead>\n",
       "    <tr style=\"text-align: right;\">\n",
       "      <th></th>\n",
       "      <th>facebook_headline</th>\n",
       "      <th>twitter_headline</th>\n",
       "      <th>statement_context</th>\n",
       "      <th>ruling.ruling</th>\n",
       "      <th>headline</th>\n",
       "    </tr>\n",
       "  </thead>\n",
       "  <tbody>\n",
       "    <tr>\n",
       "      <th>0</th>\n",
       "      <td>Sen. Tom Cotton misleads in claim about Dream ...</td>\n",
       "      <td>Sen. Tom Cotton claims Dream Act will be bigge...</td>\n",
       "      <td>an NBC interview</td>\n",
       "      <td>Mostly False</td>\n",
       "      <td>Sen. Tom Cotton claims Dream Act will be bigge...</td>\n",
       "    </tr>\n",
       "    <tr>\n",
       "      <th>1</th>\n",
       "      <td>12 hurricanes coming toward U.S.? Fake post is...</td>\n",
       "      <td>12 hurricanes coming toward U.S.? Fake post is...</td>\n",
       "      <td>a post on the Internet</td>\n",
       "      <td>Pants on Fire!</td>\n",
       "      <td>12 hurricanes coming toward U.S.? Fake post is...</td>\n",
       "    </tr>\n",
       "    <tr>\n",
       "      <th>2</th>\n",
       "      <td>Trump's Mostly False claim that NFL ratings ar...</td>\n",
       "      <td>Trump's Mostly False claim that NFL ratings ar...</td>\n",
       "      <td>a tweet</td>\n",
       "      <td>Mostly False</td>\n",
       "      <td>Trump's Mostly False claim that NFL ratings ar...</td>\n",
       "    </tr>\n",
       "    <tr>\n",
       "      <th>3</th>\n",
       "      <td>In debate, Roy Moore claims DACA a 'mere memo,...</td>\n",
       "      <td>In debate, Roy Moore claims DACA was a 'mere m...</td>\n",
       "      <td>a debate</td>\n",
       "      <td>Half-True</td>\n",
       "      <td>In debate, Roy Moore claims DACA was a 'mere m...</td>\n",
       "    </tr>\n",
       "    <tr>\n",
       "      <th>4</th>\n",
       "      <td>Alabama ranks high in charitable giving, but n...</td>\n",
       "      <td>Alabama ranks high in charitable giving, but n...</td>\n",
       "      <td>a debate</td>\n",
       "      <td>Half-True</td>\n",
       "      <td>Alabama ranks high in charitable giving, but n...</td>\n",
       "    </tr>\n",
       "  </tbody>\n",
       "</table>\n",
       "</div>"
      ],
      "text/plain": [
       "                                   facebook_headline  \\\n",
       "0  Sen. Tom Cotton misleads in claim about Dream ...   \n",
       "1  12 hurricanes coming toward U.S.? Fake post is...   \n",
       "2  Trump's Mostly False claim that NFL ratings ar...   \n",
       "3  In debate, Roy Moore claims DACA a 'mere memo,...   \n",
       "4  Alabama ranks high in charitable giving, but n...   \n",
       "\n",
       "                                    twitter_headline       statement_context  \\\n",
       "0  Sen. Tom Cotton claims Dream Act will be bigge...        an NBC interview   \n",
       "1  12 hurricanes coming toward U.S.? Fake post is...  a post on the Internet   \n",
       "2  Trump's Mostly False claim that NFL ratings ar...                 a tweet   \n",
       "3  In debate, Roy Moore claims DACA was a 'mere m...                a debate   \n",
       "4  Alabama ranks high in charitable giving, but n...                a debate   \n",
       "\n",
       "    ruling.ruling                                           headline  \n",
       "0    Mostly False  Sen. Tom Cotton claims Dream Act will be bigge...  \n",
       "1  Pants on Fire!  12 hurricanes coming toward U.S.? Fake post is...  \n",
       "2    Mostly False  Trump's Mostly False claim that NFL ratings ar...  \n",
       "3       Half-True  In debate, Roy Moore claims DACA was a 'mere m...  \n",
       "4       Half-True  Alabama ranks high in charitable giving, but n...  "
      ]
     },
     "execution_count": 86,
     "metadata": {},
     "output_type": "execute_result"
    }
   ],
   "source": [
    "df_select.head()"
   ]
  },
  {
   "cell_type": "code",
   "execution_count": 117,
   "metadata": {},
   "outputs": [
    {
     "name": "stderr",
     "output_type": "stream",
     "text": [
      "/Users/benkarlsberg/opt/anaconda3/envs/datasci/lib/python3.7/site-packages/ipykernel_launcher.py:3: SettingWithCopyWarning: \n",
      "A value is trying to be set on a copy of a slice from a DataFrame\n",
      "\n",
      "See the caveats in the documentation: https://pandas.pydata.org/pandas-docs/stable/user_guide/indexing.html#returning-a-view-versus-a-copy\n",
      "  This is separate from the ipykernel package so we can avoid doing imports until\n"
     ]
    }
   ],
   "source": [
    "# drop rows without headlines\n",
    "\n",
    "df_select.dropna(subset = ['twitter_headline'], inplace = True)"
   ]
  },
  {
   "cell_type": "code",
   "execution_count": 118,
   "metadata": {},
   "outputs": [],
   "source": [
    "df_select = df_select[['twitter_headline', 'ruling.ruling']]"
   ]
  },
  {
   "cell_type": "code",
   "execution_count": 119,
   "metadata": {},
   "outputs": [],
   "source": [
    "# drop ambiguous columns\n",
    "\n",
    "df_select = df_select[df_select['ruling.ruling'] != 'Half-True']\n",
    "df_select = df_select[df_select['ruling.ruling'] != 'Full Flop']\n",
    "df_select = df_select[df_select['ruling.ruling'] != 'Half Flip']\n",
    "df_select = df_select[df_select['ruling.ruling'] != 'No Flip']"
   ]
  },
  {
   "cell_type": "code",
   "execution_count": 120,
   "metadata": {},
   "outputs": [
    {
     "data": {
      "text/html": [
       "<div>\n",
       "<style scoped>\n",
       "    .dataframe tbody tr th:only-of-type {\n",
       "        vertical-align: middle;\n",
       "    }\n",
       "\n",
       "    .dataframe tbody tr th {\n",
       "        vertical-align: top;\n",
       "    }\n",
       "\n",
       "    .dataframe thead th {\n",
       "        text-align: right;\n",
       "    }\n",
       "</style>\n",
       "<table border=\"1\" class=\"dataframe\">\n",
       "  <thead>\n",
       "    <tr style=\"text-align: right;\">\n",
       "      <th></th>\n",
       "      <th>twitter_headline</th>\n",
       "      <th>ruling.ruling</th>\n",
       "    </tr>\n",
       "  </thead>\n",
       "  <tbody>\n",
       "    <tr>\n",
       "      <th>0</th>\n",
       "      <td>Sen. Tom Cotton claims Dream Act will be bigge...</td>\n",
       "      <td>Mostly False</td>\n",
       "    </tr>\n",
       "    <tr>\n",
       "      <th>1</th>\n",
       "      <td>12 hurricanes coming toward U.S.? Fake post is...</td>\n",
       "      <td>Pants on Fire!</td>\n",
       "    </tr>\n",
       "    <tr>\n",
       "      <th>2</th>\n",
       "      <td>Trump's Mostly False claim that NFL ratings ar...</td>\n",
       "      <td>Mostly False</td>\n",
       "    </tr>\n",
       "    <tr>\n",
       "      <th>5</th>\n",
       "      <td>Did Moore seek pay raises for politicians as c...</td>\n",
       "      <td>False</td>\n",
       "    </tr>\n",
       "    <tr>\n",
       "      <th>6</th>\n",
       "      <td>Trump misleads on pre-existing protections in ...</td>\n",
       "      <td>Mostly False</td>\n",
       "    </tr>\n",
       "  </tbody>\n",
       "</table>\n",
       "</div>"
      ],
      "text/plain": [
       "                                    twitter_headline   ruling.ruling\n",
       "0  Sen. Tom Cotton claims Dream Act will be bigge...    Mostly False\n",
       "1  12 hurricanes coming toward U.S.? Fake post is...  Pants on Fire!\n",
       "2  Trump's Mostly False claim that NFL ratings ar...    Mostly False\n",
       "5  Did Moore seek pay raises for politicians as c...           False\n",
       "6  Trump misleads on pre-existing protections in ...    Mostly False"
      ]
     },
     "execution_count": 120,
     "metadata": {},
     "output_type": "execute_result"
    }
   ],
   "source": [
    "df_select.head()"
   ]
  },
  {
   "cell_type": "code",
   "execution_count": 121,
   "metadata": {},
   "outputs": [
    {
     "data": {
      "text/plain": [
       "(7070, 2)"
      ]
     },
     "execution_count": 121,
     "metadata": {},
     "output_type": "execute_result"
    }
   ],
   "source": [
    "df_select.shape"
   ]
  },
  {
   "cell_type": "code",
   "execution_count": 122,
   "metadata": {},
   "outputs": [
    {
     "data": {
      "text/plain": [
       "Mostly True       1714\n",
       "False             1684\n",
       "Mostly False      1529\n",
       "True              1239\n",
       "Pants on Fire!     904\n",
       "Name: ruling.ruling, dtype: int64"
      ]
     },
     "execution_count": 122,
     "metadata": {},
     "output_type": "execute_result"
    }
   ],
   "source": [
    "df_select['ruling.ruling'].value_counts()"
   ]
  },
  {
   "cell_type": "code",
   "execution_count": 124,
   "metadata": {},
   "outputs": [],
   "source": [
    "df_select['label'] = df_select['ruling.ruling'].apply(lambda x: 1 if x in ['True', 'Mostly True'] else 0)\n",
    "                      "
   ]
  },
  {
   "cell_type": "code",
   "execution_count": 126,
   "metadata": {},
   "outputs": [
    {
     "data": {
      "text/plain": [
       "0.4176803394625177"
      ]
     },
     "execution_count": 126,
     "metadata": {},
     "output_type": "execute_result"
    }
   ],
   "source": [
    "df_select.label.mean()"
   ]
  },
  {
   "cell_type": "code",
   "execution_count": 131,
   "metadata": {},
   "outputs": [
    {
     "data": {
      "text/html": [
       "<div>\n",
       "<style scoped>\n",
       "    .dataframe tbody tr th:only-of-type {\n",
       "        vertical-align: middle;\n",
       "    }\n",
       "\n",
       "    .dataframe tbody tr th {\n",
       "        vertical-align: top;\n",
       "    }\n",
       "\n",
       "    .dataframe thead th {\n",
       "        text-align: right;\n",
       "    }\n",
       "</style>\n",
       "<table border=\"1\" class=\"dataframe\">\n",
       "  <thead>\n",
       "    <tr style=\"text-align: right;\">\n",
       "      <th></th>\n",
       "      <th>text</th>\n",
       "      <th>label</th>\n",
       "    </tr>\n",
       "  </thead>\n",
       "  <tbody>\n",
       "    <tr>\n",
       "      <th>0</th>\n",
       "      <td>Sen. Tom Cotton claims Dream Act will be bigge...</td>\n",
       "      <td>0</td>\n",
       "    </tr>\n",
       "    <tr>\n",
       "      <th>1</th>\n",
       "      <td>12 hurricanes coming toward U.S.? Fake post is...</td>\n",
       "      <td>0</td>\n",
       "    </tr>\n",
       "    <tr>\n",
       "      <th>2</th>\n",
       "      <td>Trump's Mostly False claim that NFL ratings ar...</td>\n",
       "      <td>0</td>\n",
       "    </tr>\n",
       "    <tr>\n",
       "      <th>5</th>\n",
       "      <td>Did Moore seek pay raises for politicians as c...</td>\n",
       "      <td>0</td>\n",
       "    </tr>\n",
       "    <tr>\n",
       "      <th>6</th>\n",
       "      <td>Trump misleads on pre-existing protections in ...</td>\n",
       "      <td>0</td>\n",
       "    </tr>\n",
       "  </tbody>\n",
       "</table>\n",
       "</div>"
      ],
      "text/plain": [
       "                                                text  label\n",
       "0  Sen. Tom Cotton claims Dream Act will be bigge...      0\n",
       "1  12 hurricanes coming toward U.S.? Fake post is...      0\n",
       "2  Trump's Mostly False claim that NFL ratings ar...      0\n",
       "5  Did Moore seek pay raises for politicians as c...      0\n",
       "6  Trump misleads on pre-existing protections in ...      0"
      ]
     },
     "execution_count": 131,
     "metadata": {},
     "output_type": "execute_result"
    }
   ],
   "source": [
    "df_select.head()"
   ]
  },
  {
   "cell_type": "code",
   "execution_count": 128,
   "metadata": {},
   "outputs": [],
   "source": [
    "df_select = df_select[['twitter_headline', 'label']]"
   ]
  },
  {
   "cell_type": "code",
   "execution_count": 130,
   "metadata": {},
   "outputs": [],
   "source": [
    "df_select.rename(columns={\"twitter_headline\": \"text\"}, inplace = True)"
   ]
  },
  {
   "cell_type": "code",
   "execution_count": 132,
   "metadata": {},
   "outputs": [],
   "source": [
    "df_select.to_csv('data/politifact_data.csv')"
   ]
  },
  {
   "cell_type": "code",
   "execution_count": null,
   "metadata": {},
   "outputs": [],
   "source": []
  }
 ],
 "metadata": {
  "kernelspec": {
   "display_name": "Python 3",
   "language": "python",
   "name": "python3"
  },
  "language_info": {
   "codemirror_mode": {
    "name": "ipython",
    "version": 3
   },
   "file_extension": ".py",
   "mimetype": "text/x-python",
   "name": "python",
   "nbconvert_exporter": "python",
   "pygments_lexer": "ipython3",
   "version": "3.7.7"
  }
 },
 "nbformat": 4,
 "nbformat_minor": 4
}
